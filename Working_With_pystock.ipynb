{
 "cells": [
  {
   "attachments": {},
   "cell_type": "markdown",
   "metadata": {},
   "source": [
    "# Imports"
   ]
  },
  {
   "cell_type": "code",
   "execution_count": 1,
   "metadata": {},
   "outputs": [],
   "source": [
    "from pystock.portfolio import Portfolio, Stock\n",
    "from pystock.models import Model\n",
    "from pystock.fff import FamaFrenchFactors"
   ]
  },
  {
   "cell_type": "code",
   "execution_count": 2,
   "metadata": {},
   "outputs": [],
   "source": [
    "import warnings\n",
    "\n",
    "warnings.filterwarnings(\"ignore\")"
   ]
  },
  {
   "attachments": {},
   "cell_type": "markdown",
   "metadata": {},
   "source": [
    "# The `FamaFrenchFactors` class"
   ]
  },
  {
   "attachments": {},
   "cell_type": "markdown",
   "metadata": {},
   "source": [
    "This class is used to download and load Fama French factors. Start by creating an instance of the class."
   ]
  },
  {
   "cell_type": "code",
   "execution_count": 3,
   "metadata": {},
   "outputs": [],
   "source": [
    "fff = FamaFrenchFactors()"
   ]
  },
  {
   "attachments": {},
   "cell_type": "markdown",
   "metadata": {},
   "source": [
    "## Working with the Fama-French Factors"
   ]
  },
  {
   "attachments": {},
   "cell_type": "markdown",
   "metadata": {},
   "source": [
    "### Downloading FFF"
   ]
  },
  {
   "attachments": {},
   "cell_type": "markdown",
   "metadata": {},
   "source": [
    "To download the factors, use the `download` function. It takes the following parameters:\n",
    "\n",
    "    frequency : str, optional\n",
    "        The frequency of the data. The default is \"D\".\n",
    "    factors : int, optional\n",
    "        The number of factors. The default is 3. Possible values are 3 and 5\n",
    "    directory : str, optional\n",
    "        The directory to save the file. The default is \".\".\n",
    "    overwrite : bool, optional\n",
    "        Whether to overwrite the file if it already exists. The default is False."
   ]
  },
  {
   "attachments": {},
   "cell_type": "markdown",
   "metadata": {},
   "source": [
    "`factors` has two possible values, 3 and 5."
   ]
  },
  {
   "cell_type": "code",
   "execution_count": 5,
   "metadata": {},
   "outputs": [
    {
     "name": "stdout",
     "output_type": "stream",
     "text": [
      "Downloading Fama French Factors. This may take about 10 seconds.\n",
      "Download complete. File saved as fff_daily_5_factors.csv\n",
      "Use load() to load the file as a pandas dataframe.\n"
     ]
    }
   ],
   "source": [
    "file_path = fff.download(frequency=\"D\", factors=5, directory=\".\", overwrite=True)"
   ]
  },
  {
   "attachments": {},
   "cell_type": "markdown",
   "metadata": {},
   "source": [
    "### `load` function"
   ]
  },
  {
   "attachments": {},
   "cell_type": "markdown",
   "metadata": {},
   "source": [
    "Once downloaded, the fff can be loaded using the `load` function. The function takes the following params:\n",
    "\n",
    "    directory : str, optional\n",
    "        The directory to save the file. The default is \".\".\n",
    "    frequency : str, optional\n",
    "        The frequency of the data. The default is \"M\".\n",
    "    factors : int, optional\n",
    "        The number of factors. The default is 3. Possible values are 3 and 5\n",
    "    preprocess : bool, optional\n",
    "        Whether to preprocess the data. The default is True."
   ]
  },
  {
   "cell_type": "code",
   "execution_count": 6,
   "metadata": {},
   "outputs": [],
   "source": [
    "fff5 = fff.load(frequency=\"D\", factors=5, directory=\".\", preprocess=True)"
   ]
  },
  {
   "cell_type": "code",
   "execution_count": 7,
   "metadata": {},
   "outputs": [
    {
     "data": {
      "text/html": [
       "<div>\n",
       "<style scoped>\n",
       "    .dataframe tbody tr th:only-of-type {\n",
       "        vertical-align: middle;\n",
       "    }\n",
       "\n",
       "    .dataframe tbody tr th {\n",
       "        vertical-align: top;\n",
       "    }\n",
       "\n",
       "    .dataframe thead th {\n",
       "        text-align: right;\n",
       "    }\n",
       "</style>\n",
       "<table border=\"1\" class=\"dataframe\">\n",
       "  <thead>\n",
       "    <tr style=\"text-align: right;\">\n",
       "      <th></th>\n",
       "      <th>Mkt-RF</th>\n",
       "      <th>SMB</th>\n",
       "      <th>HML</th>\n",
       "      <th>RMW</th>\n",
       "      <th>CMA</th>\n",
       "      <th>RF</th>\n",
       "    </tr>\n",
       "  </thead>\n",
       "  <tbody>\n",
       "    <tr>\n",
       "      <th>1963-07-01</th>\n",
       "      <td>-0.0067</td>\n",
       "      <td>0.0002</td>\n",
       "      <td>-0.0035</td>\n",
       "      <td>0.0003</td>\n",
       "      <td>0.0013</td>\n",
       "      <td>0.00012</td>\n",
       "    </tr>\n",
       "    <tr>\n",
       "      <th>1963-07-02</th>\n",
       "      <td>0.0079</td>\n",
       "      <td>-0.0028</td>\n",
       "      <td>0.0028</td>\n",
       "      <td>-0.0008</td>\n",
       "      <td>-0.0021</td>\n",
       "      <td>0.00012</td>\n",
       "    </tr>\n",
       "    <tr>\n",
       "      <th>1963-07-03</th>\n",
       "      <td>0.0063</td>\n",
       "      <td>-0.0018</td>\n",
       "      <td>-0.0010</td>\n",
       "      <td>0.0013</td>\n",
       "      <td>-0.0025</td>\n",
       "      <td>0.00012</td>\n",
       "    </tr>\n",
       "    <tr>\n",
       "      <th>1963-07-05</th>\n",
       "      <td>0.0040</td>\n",
       "      <td>0.0009</td>\n",
       "      <td>-0.0028</td>\n",
       "      <td>0.0007</td>\n",
       "      <td>-0.0030</td>\n",
       "      <td>0.00012</td>\n",
       "    </tr>\n",
       "    <tr>\n",
       "      <th>1963-07-08</th>\n",
       "      <td>-0.0063</td>\n",
       "      <td>0.0007</td>\n",
       "      <td>-0.0020</td>\n",
       "      <td>-0.0027</td>\n",
       "      <td>0.0006</td>\n",
       "      <td>0.00012</td>\n",
       "    </tr>\n",
       "    <tr>\n",
       "      <th>...</th>\n",
       "      <td>...</td>\n",
       "      <td>...</td>\n",
       "      <td>...</td>\n",
       "      <td>...</td>\n",
       "      <td>...</td>\n",
       "      <td>...</td>\n",
       "    </tr>\n",
       "    <tr>\n",
       "      <th>2022-11-23</th>\n",
       "      <td>0.0063</td>\n",
       "      <td>-0.0025</td>\n",
       "      <td>-0.0094</td>\n",
       "      <td>-0.0073</td>\n",
       "      <td>-0.0057</td>\n",
       "      <td>0.00014</td>\n",
       "    </tr>\n",
       "    <tr>\n",
       "      <th>2022-11-25</th>\n",
       "      <td>-0.0002</td>\n",
       "      <td>0.0027</td>\n",
       "      <td>0.0044</td>\n",
       "      <td>-0.0016</td>\n",
       "      <td>0.0014</td>\n",
       "      <td>0.00014</td>\n",
       "    </tr>\n",
       "    <tr>\n",
       "      <th>2022-11-28</th>\n",
       "      <td>-0.0155</td>\n",
       "      <td>-0.0047</td>\n",
       "      <td>-0.0020</td>\n",
       "      <td>0.0032</td>\n",
       "      <td>0.0031</td>\n",
       "      <td>0.00014</td>\n",
       "    </tr>\n",
       "    <tr>\n",
       "      <th>2022-11-29</th>\n",
       "      <td>-0.0018</td>\n",
       "      <td>0.0035</td>\n",
       "      <td>0.0103</td>\n",
       "      <td>0.0019</td>\n",
       "      <td>0.0047</td>\n",
       "      <td>0.00014</td>\n",
       "    </tr>\n",
       "    <tr>\n",
       "      <th>2022-11-30</th>\n",
       "      <td>0.0312</td>\n",
       "      <td>-0.0014</td>\n",
       "      <td>-0.0207</td>\n",
       "      <td>-0.0078</td>\n",
       "      <td>-0.0142</td>\n",
       "      <td>0.00014</td>\n",
       "    </tr>\n",
       "  </tbody>\n",
       "</table>\n",
       "<p>14958 rows × 6 columns</p>\n",
       "</div>"
      ],
      "text/plain": [
       "            Mkt-RF     SMB     HML     RMW     CMA       RF\n",
       "1963-07-01 -0.0067  0.0002 -0.0035  0.0003  0.0013  0.00012\n",
       "1963-07-02  0.0079 -0.0028  0.0028 -0.0008 -0.0021  0.00012\n",
       "1963-07-03  0.0063 -0.0018 -0.0010  0.0013 -0.0025  0.00012\n",
       "1963-07-05  0.0040  0.0009 -0.0028  0.0007 -0.0030  0.00012\n",
       "1963-07-08 -0.0063  0.0007 -0.0020 -0.0027  0.0006  0.00012\n",
       "...            ...     ...     ...     ...     ...      ...\n",
       "2022-11-23  0.0063 -0.0025 -0.0094 -0.0073 -0.0057  0.00014\n",
       "2022-11-25 -0.0002  0.0027  0.0044 -0.0016  0.0014  0.00014\n",
       "2022-11-28 -0.0155 -0.0047 -0.0020  0.0032  0.0031  0.00014\n",
       "2022-11-29 -0.0018  0.0035  0.0103  0.0019  0.0047  0.00014\n",
       "2022-11-30  0.0312 -0.0014 -0.0207 -0.0078 -0.0142  0.00014\n",
       "\n",
       "[14958 rows x 6 columns]"
      ]
     },
     "execution_count": 7,
     "metadata": {},
     "output_type": "execute_result"
    }
   ],
   "source": [
    "fff5"
   ]
  },
  {
   "attachments": {},
   "cell_type": "markdown",
   "metadata": {},
   "source": [
    "These factors will be used for `fff3` and `fff4` models later. For now, we'll have a look at some more things which you can do with the `FamaFrenchFactors` class."
   ]
  },
  {
   "attachments": {},
   "cell_type": "markdown",
   "metadata": {},
   "source": [
    "## Some More Functions"
   ]
  },
  {
   "attachments": {},
   "cell_type": "markdown",
   "metadata": {},
   "source": [
    "### Changing the Frequncy"
   ]
  },
  {
   "attachments": {},
   "cell_type": "markdown",
   "metadata": {},
   "source": [
    "You can change the frequency of the factors using the `change_frequency` function. It takes just one parameter:\n",
    "\n",
    "    frequency : str, optional\n",
    "        The frequency of the data. The default is \"D\"."
   ]
  },
  {
   "cell_type": "code",
   "execution_count": 5,
   "metadata": {},
   "outputs": [
    {
     "data": {
      "text/html": [
       "<div>\n",
       "<style scoped>\n",
       "    .dataframe tbody tr th:only-of-type {\n",
       "        vertical-align: middle;\n",
       "    }\n",
       "\n",
       "    .dataframe tbody tr th {\n",
       "        vertical-align: top;\n",
       "    }\n",
       "\n",
       "    .dataframe thead th {\n",
       "        text-align: right;\n",
       "    }\n",
       "</style>\n",
       "<table border=\"1\" class=\"dataframe\">\n",
       "  <thead>\n",
       "    <tr style=\"text-align: right;\">\n",
       "      <th></th>\n",
       "      <th>Mkt-RF</th>\n",
       "      <th>SMB</th>\n",
       "      <th>HML</th>\n",
       "      <th>RMW</th>\n",
       "      <th>CMA</th>\n",
       "      <th>RF</th>\n",
       "    </tr>\n",
       "  </thead>\n",
       "  <tbody>\n",
       "    <tr>\n",
       "      <th>1963-09-30</th>\n",
       "      <td>-0.0157</td>\n",
       "      <td>-0.0052</td>\n",
       "      <td>0.0013</td>\n",
       "      <td>-0.0071</td>\n",
       "      <td>0.0029</td>\n",
       "      <td>0.0027</td>\n",
       "    </tr>\n",
       "    <tr>\n",
       "      <th>1963-12-31</th>\n",
       "      <td>0.0183</td>\n",
       "      <td>-0.0210</td>\n",
       "      <td>-0.0002</td>\n",
       "      <td>0.0003</td>\n",
       "      <td>-0.0007</td>\n",
       "      <td>0.0029</td>\n",
       "    </tr>\n",
       "    <tr>\n",
       "      <th>1964-03-31</th>\n",
       "      <td>0.0141</td>\n",
       "      <td>0.0123</td>\n",
       "      <td>0.0340</td>\n",
       "      <td>-0.0221</td>\n",
       "      <td>0.0322</td>\n",
       "      <td>0.0031</td>\n",
       "    </tr>\n",
       "    <tr>\n",
       "      <th>1964-06-30</th>\n",
       "      <td>0.0127</td>\n",
       "      <td>0.0029</td>\n",
       "      <td>0.0062</td>\n",
       "      <td>-0.0028</td>\n",
       "      <td>-0.0017</td>\n",
       "      <td>0.0030</td>\n",
       "    </tr>\n",
       "    <tr>\n",
       "      <th>1964-09-30</th>\n",
       "      <td>0.0269</td>\n",
       "      <td>-0.0034</td>\n",
       "      <td>0.0170</td>\n",
       "      <td>-0.0056</td>\n",
       "      <td>0.0062</td>\n",
       "      <td>0.0028</td>\n",
       "    </tr>\n",
       "    <tr>\n",
       "      <th>...</th>\n",
       "      <td>...</td>\n",
       "      <td>...</td>\n",
       "      <td>...</td>\n",
       "      <td>...</td>\n",
       "      <td>...</td>\n",
       "      <td>...</td>\n",
       "    </tr>\n",
       "    <tr>\n",
       "      <th>2021-09-30</th>\n",
       "      <td>-0.0437</td>\n",
       "      <td>0.0114</td>\n",
       "      <td>0.0508</td>\n",
       "      <td>-0.0190</td>\n",
       "      <td>0.0214</td>\n",
       "      <td>0.0000</td>\n",
       "    </tr>\n",
       "    <tr>\n",
       "      <th>2021-12-31</th>\n",
       "      <td>0.0310</td>\n",
       "      <td>-0.0077</td>\n",
       "      <td>0.0328</td>\n",
       "      <td>0.0492</td>\n",
       "      <td>0.0443</td>\n",
       "      <td>0.0001</td>\n",
       "    </tr>\n",
       "    <tr>\n",
       "      <th>2022-03-31</th>\n",
       "      <td>0.0305</td>\n",
       "      <td>-0.0215</td>\n",
       "      <td>-0.0180</td>\n",
       "      <td>-0.0156</td>\n",
       "      <td>0.0317</td>\n",
       "      <td>0.0001</td>\n",
       "    </tr>\n",
       "    <tr>\n",
       "      <th>2022-06-30</th>\n",
       "      <td>-0.0843</td>\n",
       "      <td>0.0130</td>\n",
       "      <td>-0.0597</td>\n",
       "      <td>0.0185</td>\n",
       "      <td>-0.0470</td>\n",
       "      <td>0.0006</td>\n",
       "    </tr>\n",
       "    <tr>\n",
       "      <th>2022-09-30</th>\n",
       "      <td>-0.0935</td>\n",
       "      <td>-0.0100</td>\n",
       "      <td>0.0003</td>\n",
       "      <td>-0.0150</td>\n",
       "      <td>-0.0085</td>\n",
       "      <td>0.0019</td>\n",
       "    </tr>\n",
       "  </tbody>\n",
       "</table>\n",
       "<p>237 rows × 6 columns</p>\n",
       "</div>"
      ],
      "text/plain": [
       "            Mkt-RF     SMB     HML     RMW     CMA      RF\n",
       "1963-09-30 -0.0157 -0.0052  0.0013 -0.0071  0.0029  0.0027\n",
       "1963-12-31  0.0183 -0.0210 -0.0002  0.0003 -0.0007  0.0029\n",
       "1964-03-31  0.0141  0.0123  0.0340 -0.0221  0.0322  0.0031\n",
       "1964-06-30  0.0127  0.0029  0.0062 -0.0028 -0.0017  0.0030\n",
       "1964-09-30  0.0269 -0.0034  0.0170 -0.0056  0.0062  0.0028\n",
       "...            ...     ...     ...     ...     ...     ...\n",
       "2021-09-30 -0.0437  0.0114  0.0508 -0.0190  0.0214  0.0000\n",
       "2021-12-31  0.0310 -0.0077  0.0328  0.0492  0.0443  0.0001\n",
       "2022-03-31  0.0305 -0.0215 -0.0180 -0.0156  0.0317  0.0001\n",
       "2022-06-30 -0.0843  0.0130 -0.0597  0.0185 -0.0470  0.0006\n",
       "2022-09-30 -0.0935 -0.0100  0.0003 -0.0150 -0.0085  0.0019\n",
       "\n",
       "[237 rows x 6 columns]"
      ]
     },
     "execution_count": 5,
     "metadata": {},
     "output_type": "execute_result"
    }
   ],
   "source": [
    "fff5_quarterly = fff.change_frequency(frequency=\"Q\")\n",
    "fff5_quarterly"
   ]
  },
  {
   "attachments": {},
   "cell_type": "markdown",
   "metadata": {},
   "source": [
    "> The function changes the frequency of data inplace, meaning that if you want to upsample the data (i.e. change frequency from month to day), you will get wrong results. The function uses `ffill` to fill the missing values so changing frequency from month to day will result in the same value for all the days in the month.\n"
   ]
  },
  {
   "attachments": {},
   "cell_type": "markdown",
   "metadata": {},
   "source": [
    "### Calculating Mean \"Returns\""
   ]
  },
  {
   "attachments": {},
   "cell_type": "markdown",
   "metadata": {},
   "source": [
    "In Fama-French model, we'll need the mean of the columns for calculating the expected return of stock. The class provides a function to do this:"
   ]
  },
  {
   "cell_type": "code",
   "execution_count": 6,
   "metadata": {},
   "outputs": [],
   "source": [
    "means = fff.calculate_mean_values()"
   ]
  },
  {
   "cell_type": "code",
   "execution_count": 7,
   "metadata": {},
   "outputs": [
    {
     "data": {
      "text/plain": [
       "const     1.000000\n",
       "Mkt-RF    0.002920\n",
       "SMB       0.004762\n",
       "HML       0.001381\n",
       "RMW       0.003614\n",
       "CMA       0.002217\n",
       "RF        0.003654\n",
       "dtype: float64"
      ]
     },
     "execution_count": 7,
     "metadata": {},
     "output_type": "execute_result"
    }
   ],
   "source": [
    "means"
   ]
  },
  {
   "attachments": {},
   "cell_type": "markdown",
   "metadata": {},
   "source": [
    "Note that there is an extra value named `const`. This is here because the Fama-French model has a constant term. Using `mean` in this form makes it easy to calculate the expected return of a stock."
   ]
  },
  {
   "attachments": {},
   "cell_type": "markdown",
   "metadata": {},
   "source": [
    "# The `Stock` class\n"
   ]
  },
  {
   "attachments": {},
   "cell_type": "markdown",
   "metadata": {},
   "source": [
    "## Creating a `Stock` object\n"
   ]
  },
  {
   "attachments": {},
   "cell_type": "markdown",
   "metadata": {},
   "source": [
    "Start by loading the `Stock` class from the `pystock` module:\n"
   ]
  },
  {
   "cell_type": "code",
   "execution_count": 3,
   "metadata": {},
   "outputs": [
    {
     "data": {
      "text/plain": [
       "Stock(name=AAPL)"
      ]
     },
     "execution_count": 3,
     "metadata": {},
     "output_type": "execute_result"
    }
   ],
   "source": [
    "apple = Stock(\"AAPL\", \"Data/AAPL.csv\")\n",
    "apple\n"
   ]
  },
  {
   "attachments": {},
   "cell_type": "markdown",
   "metadata": {},
   "source": [
    "Let's see what the `Stock` object has:\n"
   ]
  },
  {
   "cell_type": "code",
   "execution_count": 4,
   "metadata": {},
   "outputs": [
    {
     "data": {
      "text/plain": [
       "{'name': 'AAPL',\n",
       " 'directory': 'Data/AAPL.csv',\n",
       " 'loaded': False,\n",
       " 'return_': {},\n",
       " 'fff': <pystock.FFF.FamaFrenchFactors at 0x7f173634e850>}"
      ]
     },
     "execution_count": 4,
     "metadata": {},
     "output_type": "execute_result"
    }
   ],
   "source": [
    "apple.__dict__\n"
   ]
  },
  {
   "attachments": {},
   "cell_type": "markdown",
   "metadata": {},
   "source": [
    "`return_` is a dictionary which will contain the return of the stock, it can be a float (if you want mean return) or a `pd.Series` of floats (if you want to get the return of each day).\n"
   ]
  },
  {
   "attachments": {},
   "cell_type": "markdown",
   "metadata": {},
   "source": [
    "`fff` is a reference to the `FamaFrenchFactors` object. We will see later what it is. `loaded` is a boolean equal to `True` if the stock data has been loaded, `False` otherwise. Let's load the data. The `load` function takes a number of parameters:\n",
    "\n",
    "    start_date : str, optional\n",
    "        Start date of the data, by default None\n",
    "    end_date : str, optional\n",
    "        End date of the data, by default None\n",
    "    columns : list, optional\n",
    "        Columns to keep, by default None which means keep all columns\n",
    "    frequency : str, optional\n",
    "        Frequency of the data, by default \"D\"\n",
    "    rename_cols : list, optional\n",
    "        Columns to rename, by default None\n"
   ]
  },
  {
   "attachments": {},
   "cell_type": "markdown",
   "metadata": {},
   "source": [
    "The function returns a `pd.DataFrame` with the data. Let's see what the data looks like:\n"
   ]
  },
  {
   "attachments": {},
   "cell_type": "markdown",
   "metadata": {},
   "source": [
    "## `load_data` function\n"
   ]
  },
  {
   "cell_type": "code",
   "execution_count": 5,
   "metadata": {},
   "outputs": [
    {
     "data": {
      "text/plain": [
       "dict_keys(['name', 'directory', 'loaded', 'return_', 'fff', 'data', 'columns', 'start_date', 'end_date', 'frequency'])"
      ]
     },
     "execution_count": 5,
     "metadata": {},
     "output_type": "execute_result"
    }
   ],
   "source": [
    "start_date = \"2010-01-01\"\n",
    "end_date = \"2022-12-20\"\n",
    "frequency = \"D\"\n",
    "apple.load_data(start_date=start_date, end_date=end_date, frequency=frequency)\n",
    "apple.__dict__.keys()\n"
   ]
  },
  {
   "attachments": {},
   "cell_type": "markdown",
   "metadata": {},
   "source": [
    "The `Stock` object now has some more attributes. `data` is a `pd.DataFrame` with the data. `start_date` and `end_date` are the start and end dates of the data. `columns` is a list of the columns of the data. `frequency` is the frequency of the data.\n"
   ]
  },
  {
   "cell_type": "code",
   "execution_count": 6,
   "metadata": {},
   "outputs": [
    {
     "data": {
      "text/html": [
       "<div>\n",
       "<style scoped>\n",
       "    .dataframe tbody tr th:only-of-type {\n",
       "        vertical-align: middle;\n",
       "    }\n",
       "\n",
       "    .dataframe tbody tr th {\n",
       "        vertical-align: top;\n",
       "    }\n",
       "\n",
       "    .dataframe thead th {\n",
       "        text-align: right;\n",
       "    }\n",
       "</style>\n",
       "<table border=\"1\" class=\"dataframe\">\n",
       "  <thead>\n",
       "    <tr style=\"text-align: right;\">\n",
       "      <th></th>\n",
       "      <th>Open</th>\n",
       "      <th>High</th>\n",
       "      <th>Low</th>\n",
       "      <th>Close</th>\n",
       "      <th>Adj Close</th>\n",
       "      <th>Volume</th>\n",
       "    </tr>\n",
       "    <tr>\n",
       "      <th>Date</th>\n",
       "      <th></th>\n",
       "      <th></th>\n",
       "      <th></th>\n",
       "      <th></th>\n",
       "      <th></th>\n",
       "      <th></th>\n",
       "    </tr>\n",
       "  </thead>\n",
       "  <tbody>\n",
       "    <tr>\n",
       "      <th>2010-01-04</th>\n",
       "      <td>7.622500</td>\n",
       "      <td>7.660714</td>\n",
       "      <td>7.585000</td>\n",
       "      <td>7.643214</td>\n",
       "      <td>6.515212</td>\n",
       "      <td>493729600</td>\n",
       "    </tr>\n",
       "    <tr>\n",
       "      <th>2010-01-05</th>\n",
       "      <td>7.664286</td>\n",
       "      <td>7.699643</td>\n",
       "      <td>7.616071</td>\n",
       "      <td>7.656429</td>\n",
       "      <td>6.526478</td>\n",
       "      <td>601904800</td>\n",
       "    </tr>\n",
       "    <tr>\n",
       "      <th>2010-01-06</th>\n",
       "      <td>7.656429</td>\n",
       "      <td>7.686786</td>\n",
       "      <td>7.526786</td>\n",
       "      <td>7.534643</td>\n",
       "      <td>6.422666</td>\n",
       "      <td>552160000</td>\n",
       "    </tr>\n",
       "    <tr>\n",
       "      <th>2010-01-07</th>\n",
       "      <td>7.562500</td>\n",
       "      <td>7.571429</td>\n",
       "      <td>7.466071</td>\n",
       "      <td>7.520714</td>\n",
       "      <td>6.410790</td>\n",
       "      <td>477131200</td>\n",
       "    </tr>\n",
       "    <tr>\n",
       "      <th>2010-01-08</th>\n",
       "      <td>7.510714</td>\n",
       "      <td>7.571429</td>\n",
       "      <td>7.466429</td>\n",
       "      <td>7.570714</td>\n",
       "      <td>6.453411</td>\n",
       "      <td>447610800</td>\n",
       "    </tr>\n",
       "  </tbody>\n",
       "</table>\n",
       "</div>"
      ],
      "text/plain": [
       "                Open      High       Low     Close  Adj Close     Volume\n",
       "Date                                                                    \n",
       "2010-01-04  7.622500  7.660714  7.585000  7.643214   6.515212  493729600\n",
       "2010-01-05  7.664286  7.699643  7.616071  7.656429   6.526478  601904800\n",
       "2010-01-06  7.656429  7.686786  7.526786  7.534643   6.422666  552160000\n",
       "2010-01-07  7.562500  7.571429  7.466071  7.520714   6.410790  477131200\n",
       "2010-01-08  7.510714  7.571429  7.466429  7.570714   6.453411  447610800"
      ]
     },
     "execution_count": 6,
     "metadata": {},
     "output_type": "execute_result"
    }
   ],
   "source": [
    "apple.data.head()\n"
   ]
  },
  {
   "cell_type": "code",
   "execution_count": 7,
   "metadata": {},
   "outputs": [
    {
     "data": {
      "text/plain": [
       "True"
      ]
     },
     "execution_count": 7,
     "metadata": {},
     "output_type": "execute_result"
    }
   ],
   "source": [
    "apple.loaded"
   ]
  },
  {
   "attachments": {},
   "cell_type": "markdown",
   "metadata": {},
   "source": [
    "As you can see, `loaded` is now equal to `True`.\n"
   ]
  },
  {
   "attachments": {},
   "cell_type": "markdown",
   "metadata": {},
   "source": [
    "## Working With Returns\n"
   ]
  },
  {
   "attachments": {},
   "cell_type": "markdown",
   "metadata": {},
   "source": [
    "Next, we'll calculate various returns using the object. For this, we have the `freq_return` function having the following parameters:\n",
    "\n",
    "    frequency : str, optional\n",
    "        Frequency of the data, by default \"M\"\n",
    "    mean : bool, optional\n",
    "        Whether to return the mean of the return, by default True\n",
    "    column : str, optional\n",
    "        Column to calculate the return, by default \"Close\"\n"
   ]
  },
  {
   "cell_type": "code",
   "execution_count": 31,
   "metadata": {},
   "outputs": [
    {
     "data": {
      "text/plain": [
       "Date\n",
       "2010-01-05    0.001729\n",
       "2010-01-06   -0.015906\n",
       "2010-01-07   -0.001849\n",
       "2010-01-08    0.006648\n",
       "2010-01-09    0.000000\n",
       "Freq: D, Name: Close, dtype: float64"
      ]
     },
     "metadata": {},
     "output_type": "display_data"
    },
    {
     "data": {
      "text/plain": [
       "0.0007156125449657148"
      ]
     },
     "metadata": {},
     "output_type": "display_data"
    }
   ],
   "source": [
    "daily_return_series = apple.freq_return(frequency=\"D\", mean=False)\n",
    "daily_return_avg = apple.freq_return(frequency=\"D\", mean=True)\n",
    "display(daily_return_series.head())\n",
    "display(daily_return_avg)\n"
   ]
  },
  {
   "cell_type": "code",
   "execution_count": 32,
   "metadata": {},
   "outputs": [
    {
     "data": {
      "text/plain": [
       "Date\n",
       "2010-02-28    0.065396\n",
       "2010-03-31    0.148470\n",
       "2010-04-30    0.111021\n",
       "2010-05-31   -0.016125\n",
       "2010-06-30   -0.020827\n",
       "Freq: M, Name: Close, dtype: float64"
      ]
     },
     "metadata": {},
     "output_type": "display_data"
    },
    {
     "data": {
      "text/plain": [
       "0.02320634467521188"
      ]
     },
     "metadata": {},
     "output_type": "display_data"
    }
   ],
   "source": [
    "monthly_return_series = apple.freq_return(frequency=\"M\", mean=False)\n",
    "monthly_return_avg = apple.freq_return(frequency=\"M\", mean=True)\n",
    "display(monthly_return_series.head())\n",
    "display(monthly_return_avg)\n"
   ]
  },
  {
   "attachments": {},
   "cell_type": "markdown",
   "metadata": {},
   "source": [
    "These returns are saved in the `return_` attribute of the object. Note that the key of the dictionary `return_` is the frequency of the return. So, it will save the mean of the returns as that was what calculated last.\n"
   ]
  },
  {
   "cell_type": "code",
   "execution_count": 33,
   "metadata": {},
   "outputs": [
    {
     "data": {
      "text/plain": [
       "{'D': 0.0007156125449657148, 'M': 0.02320634467521188}"
      ]
     },
     "execution_count": 33,
     "metadata": {},
     "output_type": "execute_result"
    }
   ],
   "source": [
    "apple.return_\n"
   ]
  },
  {
   "attachments": {},
   "cell_type": "markdown",
   "metadata": {},
   "source": [
    "## Changing the frequency of the data\n"
   ]
  },
  {
   "cell_type": "code",
   "execution_count": 34,
   "metadata": {},
   "outputs": [
    {
     "data": {
      "text/plain": [
       "'D'"
      ]
     },
     "execution_count": 34,
     "metadata": {},
     "output_type": "execute_result"
    }
   ],
   "source": [
    "apple.frequency\n"
   ]
  },
  {
   "cell_type": "code",
   "execution_count": 35,
   "metadata": {},
   "outputs": [
    {
     "data": {
      "text/html": [
       "<div>\n",
       "<style scoped>\n",
       "    .dataframe tbody tr th:only-of-type {\n",
       "        vertical-align: middle;\n",
       "    }\n",
       "\n",
       "    .dataframe tbody tr th {\n",
       "        vertical-align: top;\n",
       "    }\n",
       "\n",
       "    .dataframe thead th {\n",
       "        text-align: right;\n",
       "    }\n",
       "</style>\n",
       "<table border=\"1\" class=\"dataframe\">\n",
       "  <thead>\n",
       "    <tr style=\"text-align: right;\">\n",
       "      <th></th>\n",
       "      <th>Open</th>\n",
       "      <th>High</th>\n",
       "      <th>Low</th>\n",
       "      <th>Close</th>\n",
       "      <th>Adj Close</th>\n",
       "      <th>Volume</th>\n",
       "    </tr>\n",
       "    <tr>\n",
       "      <th>Date</th>\n",
       "      <th></th>\n",
       "      <th></th>\n",
       "      <th></th>\n",
       "      <th></th>\n",
       "      <th></th>\n",
       "      <th></th>\n",
       "    </tr>\n",
       "  </thead>\n",
       "  <tbody>\n",
       "    <tr>\n",
       "      <th>2010-01-04</th>\n",
       "      <td>7.622500</td>\n",
       "      <td>7.660714</td>\n",
       "      <td>7.585000</td>\n",
       "      <td>7.643214</td>\n",
       "      <td>6.515212</td>\n",
       "      <td>493729600</td>\n",
       "    </tr>\n",
       "    <tr>\n",
       "      <th>2010-01-05</th>\n",
       "      <td>7.664286</td>\n",
       "      <td>7.699643</td>\n",
       "      <td>7.616071</td>\n",
       "      <td>7.656429</td>\n",
       "      <td>6.526478</td>\n",
       "      <td>601904800</td>\n",
       "    </tr>\n",
       "    <tr>\n",
       "      <th>2010-01-06</th>\n",
       "      <td>7.656429</td>\n",
       "      <td>7.686786</td>\n",
       "      <td>7.526786</td>\n",
       "      <td>7.534643</td>\n",
       "      <td>6.422666</td>\n",
       "      <td>552160000</td>\n",
       "    </tr>\n",
       "    <tr>\n",
       "      <th>2010-01-07</th>\n",
       "      <td>7.562500</td>\n",
       "      <td>7.571429</td>\n",
       "      <td>7.466071</td>\n",
       "      <td>7.520714</td>\n",
       "      <td>6.410790</td>\n",
       "      <td>477131200</td>\n",
       "    </tr>\n",
       "    <tr>\n",
       "      <th>2010-01-08</th>\n",
       "      <td>7.510714</td>\n",
       "      <td>7.571429</td>\n",
       "      <td>7.466429</td>\n",
       "      <td>7.570714</td>\n",
       "      <td>6.453411</td>\n",
       "      <td>447610800</td>\n",
       "    </tr>\n",
       "  </tbody>\n",
       "</table>\n",
       "</div>"
      ],
      "text/plain": [
       "                Open      High       Low     Close  Adj Close     Volume\n",
       "Date                                                                    \n",
       "2010-01-04  7.622500  7.660714  7.585000  7.643214   6.515212  493729600\n",
       "2010-01-05  7.664286  7.699643  7.616071  7.656429   6.526478  601904800\n",
       "2010-01-06  7.656429  7.686786  7.526786  7.534643   6.422666  552160000\n",
       "2010-01-07  7.562500  7.571429  7.466071  7.520714   6.410790  477131200\n",
       "2010-01-08  7.510714  7.571429  7.466429  7.570714   6.453411  447610800"
      ]
     },
     "execution_count": 35,
     "metadata": {},
     "output_type": "execute_result"
    }
   ],
   "source": [
    "apple.data.head()\n"
   ]
  },
  {
   "attachments": {},
   "cell_type": "markdown",
   "metadata": {},
   "source": [
    "The data was loaded with a frequency of day. Suppose you want to change it to some other frequency. This can be done by the `change_frequency` function. It takes just one parameter:\n",
    "\n",
    "    frequency : str\n",
    "            Frequency of the data\n"
   ]
  },
  {
   "cell_type": "code",
   "execution_count": 36,
   "metadata": {},
   "outputs": [],
   "source": [
    "apple.change_frequency(\"M\")\n"
   ]
  },
  {
   "cell_type": "code",
   "execution_count": 37,
   "metadata": {},
   "outputs": [
    {
     "data": {
      "text/plain": [
       "'M'"
      ]
     },
     "execution_count": 37,
     "metadata": {},
     "output_type": "execute_result"
    }
   ],
   "source": [
    "apple.frequency\n"
   ]
  },
  {
   "cell_type": "code",
   "execution_count": 38,
   "metadata": {},
   "outputs": [
    {
     "data": {
      "text/html": [
       "<div>\n",
       "<style scoped>\n",
       "    .dataframe tbody tr th:only-of-type {\n",
       "        vertical-align: middle;\n",
       "    }\n",
       "\n",
       "    .dataframe tbody tr th {\n",
       "        vertical-align: top;\n",
       "    }\n",
       "\n",
       "    .dataframe thead th {\n",
       "        text-align: right;\n",
       "    }\n",
       "</style>\n",
       "<table border=\"1\" class=\"dataframe\">\n",
       "  <thead>\n",
       "    <tr style=\"text-align: right;\">\n",
       "      <th></th>\n",
       "      <th>Open</th>\n",
       "      <th>High</th>\n",
       "      <th>Low</th>\n",
       "      <th>Close</th>\n",
       "      <th>Adj Close</th>\n",
       "      <th>Volume</th>\n",
       "    </tr>\n",
       "    <tr>\n",
       "      <th>Date</th>\n",
       "      <th></th>\n",
       "      <th></th>\n",
       "      <th></th>\n",
       "      <th></th>\n",
       "      <th></th>\n",
       "      <th></th>\n",
       "    </tr>\n",
       "  </thead>\n",
       "  <tbody>\n",
       "    <tr>\n",
       "      <th>2010-01-31</th>\n",
       "      <td>7.181429</td>\n",
       "      <td>7.221429</td>\n",
       "      <td>6.794643</td>\n",
       "      <td>6.859286</td>\n",
       "      <td>5.846978</td>\n",
       "      <td>1245952400</td>\n",
       "    </tr>\n",
       "    <tr>\n",
       "      <th>2010-02-28</th>\n",
       "      <td>7.227857</td>\n",
       "      <td>7.327500</td>\n",
       "      <td>7.214286</td>\n",
       "      <td>7.307857</td>\n",
       "      <td>6.229348</td>\n",
       "      <td>507460800</td>\n",
       "    </tr>\n",
       "    <tr>\n",
       "      <th>2010-03-31</th>\n",
       "      <td>8.410357</td>\n",
       "      <td>8.450357</td>\n",
       "      <td>8.373571</td>\n",
       "      <td>8.392857</td>\n",
       "      <td>7.154222</td>\n",
       "      <td>430659600</td>\n",
       "    </tr>\n",
       "    <tr>\n",
       "      <th>2010-04-30</th>\n",
       "      <td>9.618214</td>\n",
       "      <td>9.663214</td>\n",
       "      <td>9.321429</td>\n",
       "      <td>9.324643</td>\n",
       "      <td>7.948493</td>\n",
       "      <td>542463600</td>\n",
       "    </tr>\n",
       "    <tr>\n",
       "      <th>2010-05-31</th>\n",
       "      <td>9.263929</td>\n",
       "      <td>9.264286</td>\n",
       "      <td>9.048214</td>\n",
       "      <td>9.174286</td>\n",
       "      <td>7.820327</td>\n",
       "      <td>815614800</td>\n",
       "    </tr>\n",
       "  </tbody>\n",
       "</table>\n",
       "</div>"
      ],
      "text/plain": [
       "                Open      High       Low     Close  Adj Close      Volume\n",
       "Date                                                                     \n",
       "2010-01-31  7.181429  7.221429  6.794643  6.859286   5.846978  1245952400\n",
       "2010-02-28  7.227857  7.327500  7.214286  7.307857   6.229348   507460800\n",
       "2010-03-31  8.410357  8.450357  8.373571  8.392857   7.154222   430659600\n",
       "2010-04-30  9.618214  9.663214  9.321429  9.324643   7.948493   542463600\n",
       "2010-05-31  9.263929  9.264286  9.048214  9.174286   7.820327   815614800"
      ]
     },
     "execution_count": 38,
     "metadata": {},
     "output_type": "execute_result"
    }
   ],
   "source": [
    "apple.data.head()\n"
   ]
  },
  {
   "attachments": {},
   "cell_type": "markdown",
   "metadata": {},
   "source": [
    "> The function changes the frequency of data inplace, meaning that if you want to upsample the data (i.e. change frequency from month to day), you will get wrong results. The function uses `ffill` to fill the missing values so changing frequency from month to day will result in the same value for all the days in the month.\n"
   ]
  },
  {
   "attachments": {},
   "cell_type": "markdown",
   "metadata": {},
   "source": [
    "## `Stock` object with `FamaFrenchFactors`\n"
   ]
  },
  {
   "attachments": {},
   "cell_type": "markdown",
   "metadata": {},
   "source": [
    "The `fff` attribute of a `Stock` object is reference to a `FamaFrenchFactors` object. This object is used to get the Fama-French factors. See the corresponding section for more details. Here, we'll give a brief overview of how to use it.\n"
   ]
  },
  {
   "attachments": {},
   "cell_type": "markdown",
   "metadata": {},
   "source": [
    "### `download_data` function\n"
   ]
  },
  {
   "attachments": {},
   "cell_type": "markdown",
   "metadata": {},
   "source": [
    "This is a wrapper function for `FamaFrenchFactors.download`. It takes the same parameters as `FamaFrenchFactors.download` (Along with some other params like `load`) and returns the same thing. It is used to download the data from the Fama-French website. Again, see the corresponding section for more details.\n"
   ]
  },
  {
   "attachments": {},
   "cell_type": "markdown",
   "metadata": {},
   "source": [
    "The `load` parameter is used to load the data into the `FamaFrenchFactors` object. If `load` is `True`, then the data is loaded into the `fff` attribute of the `Stock` object. If `load` is `False`, then the data is not loaded only downloaded. This is useful if you want to download the data and then load it later.\n"
   ]
  },
  {
   "cell_type": "code",
   "execution_count": 21,
   "metadata": {},
   "outputs": [
    {
     "name": "stdout",
     "output_type": "stream",
     "text": [
      "Downloading Fama French Factors. This may take about 10 seconds.\n",
      "Download complete. File saved as Data/fff_daily_5_factors.csv\n",
      "Use load() to load the file as a pandas dataframe.\n"
     ]
    }
   ],
   "source": [
    "fff_data = apple.download_fff(frequency=\"D\", factors=5, directory=\"Data\", load=True)\n"
   ]
  },
  {
   "attachments": {},
   "cell_type": "markdown",
   "metadata": {},
   "source": [
    "Since we have used `load=True`, the data is loaded into the `fff` attribute of the `Stock` object."
   ]
  },
  {
   "cell_type": "code",
   "execution_count": 23,
   "metadata": {},
   "outputs": [
    {
     "data": {
      "text/html": [
       "<div>\n",
       "<style scoped>\n",
       "    .dataframe tbody tr th:only-of-type {\n",
       "        vertical-align: middle;\n",
       "    }\n",
       "\n",
       "    .dataframe tbody tr th {\n",
       "        vertical-align: top;\n",
       "    }\n",
       "\n",
       "    .dataframe thead th {\n",
       "        text-align: right;\n",
       "    }\n",
       "</style>\n",
       "<table border=\"1\" class=\"dataframe\">\n",
       "  <thead>\n",
       "    <tr style=\"text-align: right;\">\n",
       "      <th></th>\n",
       "      <th>Mkt-RF</th>\n",
       "      <th>SMB</th>\n",
       "      <th>HML</th>\n",
       "      <th>RMW</th>\n",
       "      <th>CMA</th>\n",
       "      <th>RF</th>\n",
       "    </tr>\n",
       "  </thead>\n",
       "  <tbody>\n",
       "    <tr>\n",
       "      <th>1963-07-01</th>\n",
       "      <td>-0.0067</td>\n",
       "      <td>0.0002</td>\n",
       "      <td>-0.0035</td>\n",
       "      <td>0.0003</td>\n",
       "      <td>0.0013</td>\n",
       "      <td>0.00012</td>\n",
       "    </tr>\n",
       "    <tr>\n",
       "      <th>1963-07-02</th>\n",
       "      <td>0.0079</td>\n",
       "      <td>-0.0028</td>\n",
       "      <td>0.0028</td>\n",
       "      <td>-0.0008</td>\n",
       "      <td>-0.0021</td>\n",
       "      <td>0.00012</td>\n",
       "    </tr>\n",
       "    <tr>\n",
       "      <th>1963-07-03</th>\n",
       "      <td>0.0063</td>\n",
       "      <td>-0.0018</td>\n",
       "      <td>-0.0010</td>\n",
       "      <td>0.0013</td>\n",
       "      <td>-0.0025</td>\n",
       "      <td>0.00012</td>\n",
       "    </tr>\n",
       "    <tr>\n",
       "      <th>1963-07-05</th>\n",
       "      <td>0.0040</td>\n",
       "      <td>0.0009</td>\n",
       "      <td>-0.0028</td>\n",
       "      <td>0.0007</td>\n",
       "      <td>-0.0030</td>\n",
       "      <td>0.00012</td>\n",
       "    </tr>\n",
       "    <tr>\n",
       "      <th>1963-07-08</th>\n",
       "      <td>-0.0063</td>\n",
       "      <td>0.0007</td>\n",
       "      <td>-0.0020</td>\n",
       "      <td>-0.0027</td>\n",
       "      <td>0.0006</td>\n",
       "      <td>0.00012</td>\n",
       "    </tr>\n",
       "    <tr>\n",
       "      <th>...</th>\n",
       "      <td>...</td>\n",
       "      <td>...</td>\n",
       "      <td>...</td>\n",
       "      <td>...</td>\n",
       "      <td>...</td>\n",
       "      <td>...</td>\n",
       "    </tr>\n",
       "    <tr>\n",
       "      <th>2022-11-23</th>\n",
       "      <td>0.0063</td>\n",
       "      <td>-0.0025</td>\n",
       "      <td>-0.0094</td>\n",
       "      <td>-0.0073</td>\n",
       "      <td>-0.0057</td>\n",
       "      <td>0.00014</td>\n",
       "    </tr>\n",
       "    <tr>\n",
       "      <th>2022-11-25</th>\n",
       "      <td>-0.0002</td>\n",
       "      <td>0.0027</td>\n",
       "      <td>0.0044</td>\n",
       "      <td>-0.0016</td>\n",
       "      <td>0.0014</td>\n",
       "      <td>0.00014</td>\n",
       "    </tr>\n",
       "    <tr>\n",
       "      <th>2022-11-28</th>\n",
       "      <td>-0.0155</td>\n",
       "      <td>-0.0047</td>\n",
       "      <td>-0.0020</td>\n",
       "      <td>0.0032</td>\n",
       "      <td>0.0031</td>\n",
       "      <td>0.00014</td>\n",
       "    </tr>\n",
       "    <tr>\n",
       "      <th>2022-11-29</th>\n",
       "      <td>-0.0018</td>\n",
       "      <td>0.0035</td>\n",
       "      <td>0.0103</td>\n",
       "      <td>0.0019</td>\n",
       "      <td>0.0047</td>\n",
       "      <td>0.00014</td>\n",
       "    </tr>\n",
       "    <tr>\n",
       "      <th>2022-11-30</th>\n",
       "      <td>0.0312</td>\n",
       "      <td>-0.0014</td>\n",
       "      <td>-0.0207</td>\n",
       "      <td>-0.0078</td>\n",
       "      <td>-0.0142</td>\n",
       "      <td>0.00014</td>\n",
       "    </tr>\n",
       "  </tbody>\n",
       "</table>\n",
       "<p>14958 rows × 6 columns</p>\n",
       "</div>"
      ],
      "text/plain": [
       "            Mkt-RF     SMB     HML     RMW     CMA       RF\n",
       "1963-07-01 -0.0067  0.0002 -0.0035  0.0003  0.0013  0.00012\n",
       "1963-07-02  0.0079 -0.0028  0.0028 -0.0008 -0.0021  0.00012\n",
       "1963-07-03  0.0063 -0.0018 -0.0010  0.0013 -0.0025  0.00012\n",
       "1963-07-05  0.0040  0.0009 -0.0028  0.0007 -0.0030  0.00012\n",
       "1963-07-08 -0.0063  0.0007 -0.0020 -0.0027  0.0006  0.00012\n",
       "...            ...     ...     ...     ...     ...      ...\n",
       "2022-11-23  0.0063 -0.0025 -0.0094 -0.0073 -0.0057  0.00014\n",
       "2022-11-25 -0.0002  0.0027  0.0044 -0.0016  0.0014  0.00014\n",
       "2022-11-28 -0.0155 -0.0047 -0.0020  0.0032  0.0031  0.00014\n",
       "2022-11-29 -0.0018  0.0035  0.0103  0.0019  0.0047  0.00014\n",
       "2022-11-30  0.0312 -0.0014 -0.0207 -0.0078 -0.0142  0.00014\n",
       "\n",
       "[14958 rows x 6 columns]"
      ]
     },
     "execution_count": 23,
     "metadata": {},
     "output_type": "execute_result"
    }
   ],
   "source": [
    "apple.fff.data"
   ]
  },
  {
   "attachments": {},
   "cell_type": "markdown",
   "metadata": {},
   "source": [
    "### `load_fff` function"
   ]
  },
  {
   "attachments": {},
   "cell_type": "markdown",
   "metadata": {},
   "source": [
    "This is a wrapper function for `FamaFrenchFactors.load`. It takes the same parameters as `FamaFrenchFactors.load` and returns the same thing. It is used to load the data from local if it exists."
   ]
  },
  {
   "cell_type": "code",
   "execution_count": 9,
   "metadata": {},
   "outputs": [
    {
     "data": {
      "text/html": [
       "<div>\n",
       "<style scoped>\n",
       "    .dataframe tbody tr th:only-of-type {\n",
       "        vertical-align: middle;\n",
       "    }\n",
       "\n",
       "    .dataframe tbody tr th {\n",
       "        vertical-align: top;\n",
       "    }\n",
       "\n",
       "    .dataframe thead th {\n",
       "        text-align: right;\n",
       "    }\n",
       "</style>\n",
       "<table border=\"1\" class=\"dataframe\">\n",
       "  <thead>\n",
       "    <tr style=\"text-align: right;\">\n",
       "      <th></th>\n",
       "      <th>Mkt-RF</th>\n",
       "      <th>SMB</th>\n",
       "      <th>HML</th>\n",
       "      <th>RMW</th>\n",
       "      <th>CMA</th>\n",
       "      <th>RF</th>\n",
       "    </tr>\n",
       "  </thead>\n",
       "  <tbody>\n",
       "    <tr>\n",
       "      <th>1963-07-01</th>\n",
       "      <td>-0.0067</td>\n",
       "      <td>0.0002</td>\n",
       "      <td>-0.0035</td>\n",
       "      <td>0.0003</td>\n",
       "      <td>0.0013</td>\n",
       "      <td>0.00012</td>\n",
       "    </tr>\n",
       "    <tr>\n",
       "      <th>1963-07-02</th>\n",
       "      <td>0.0079</td>\n",
       "      <td>-0.0028</td>\n",
       "      <td>0.0028</td>\n",
       "      <td>-0.0008</td>\n",
       "      <td>-0.0021</td>\n",
       "      <td>0.00012</td>\n",
       "    </tr>\n",
       "    <tr>\n",
       "      <th>1963-07-03</th>\n",
       "      <td>0.0063</td>\n",
       "      <td>-0.0018</td>\n",
       "      <td>-0.0010</td>\n",
       "      <td>0.0013</td>\n",
       "      <td>-0.0025</td>\n",
       "      <td>0.00012</td>\n",
       "    </tr>\n",
       "    <tr>\n",
       "      <th>1963-07-05</th>\n",
       "      <td>0.0040</td>\n",
       "      <td>0.0009</td>\n",
       "      <td>-0.0028</td>\n",
       "      <td>0.0007</td>\n",
       "      <td>-0.0030</td>\n",
       "      <td>0.00012</td>\n",
       "    </tr>\n",
       "    <tr>\n",
       "      <th>1963-07-08</th>\n",
       "      <td>-0.0063</td>\n",
       "      <td>0.0007</td>\n",
       "      <td>-0.0020</td>\n",
       "      <td>-0.0027</td>\n",
       "      <td>0.0006</td>\n",
       "      <td>0.00012</td>\n",
       "    </tr>\n",
       "    <tr>\n",
       "      <th>...</th>\n",
       "      <td>...</td>\n",
       "      <td>...</td>\n",
       "      <td>...</td>\n",
       "      <td>...</td>\n",
       "      <td>...</td>\n",
       "      <td>...</td>\n",
       "    </tr>\n",
       "    <tr>\n",
       "      <th>2022-11-23</th>\n",
       "      <td>0.0063</td>\n",
       "      <td>-0.0025</td>\n",
       "      <td>-0.0094</td>\n",
       "      <td>-0.0073</td>\n",
       "      <td>-0.0057</td>\n",
       "      <td>0.00014</td>\n",
       "    </tr>\n",
       "    <tr>\n",
       "      <th>2022-11-25</th>\n",
       "      <td>-0.0002</td>\n",
       "      <td>0.0027</td>\n",
       "      <td>0.0044</td>\n",
       "      <td>-0.0016</td>\n",
       "      <td>0.0014</td>\n",
       "      <td>0.00014</td>\n",
       "    </tr>\n",
       "    <tr>\n",
       "      <th>2022-11-28</th>\n",
       "      <td>-0.0155</td>\n",
       "      <td>-0.0047</td>\n",
       "      <td>-0.0020</td>\n",
       "      <td>0.0032</td>\n",
       "      <td>0.0031</td>\n",
       "      <td>0.00014</td>\n",
       "    </tr>\n",
       "    <tr>\n",
       "      <th>2022-11-29</th>\n",
       "      <td>-0.0018</td>\n",
       "      <td>0.0035</td>\n",
       "      <td>0.0103</td>\n",
       "      <td>0.0019</td>\n",
       "      <td>0.0047</td>\n",
       "      <td>0.00014</td>\n",
       "    </tr>\n",
       "    <tr>\n",
       "      <th>2022-11-30</th>\n",
       "      <td>0.0312</td>\n",
       "      <td>-0.0014</td>\n",
       "      <td>-0.0207</td>\n",
       "      <td>-0.0078</td>\n",
       "      <td>-0.0142</td>\n",
       "      <td>0.00014</td>\n",
       "    </tr>\n",
       "  </tbody>\n",
       "</table>\n",
       "<p>14958 rows × 6 columns</p>\n",
       "</div>"
      ],
      "text/plain": [
       "            Mkt-RF     SMB     HML     RMW     CMA       RF\n",
       "1963-07-01 -0.0067  0.0002 -0.0035  0.0003  0.0013  0.00012\n",
       "1963-07-02  0.0079 -0.0028  0.0028 -0.0008 -0.0021  0.00012\n",
       "1963-07-03  0.0063 -0.0018 -0.0010  0.0013 -0.0025  0.00012\n",
       "1963-07-05  0.0040  0.0009 -0.0028  0.0007 -0.0030  0.00012\n",
       "1963-07-08 -0.0063  0.0007 -0.0020 -0.0027  0.0006  0.00012\n",
       "...            ...     ...     ...     ...     ...      ...\n",
       "2022-11-23  0.0063 -0.0025 -0.0094 -0.0073 -0.0057  0.00014\n",
       "2022-11-25 -0.0002  0.0027  0.0044 -0.0016  0.0014  0.00014\n",
       "2022-11-28 -0.0155 -0.0047 -0.0020  0.0032  0.0031  0.00014\n",
       "2022-11-29 -0.0018  0.0035  0.0103  0.0019  0.0047  0.00014\n",
       "2022-11-30  0.0312 -0.0014 -0.0207 -0.0078 -0.0142  0.00014\n",
       "\n",
       "[14958 rows x 6 columns]"
      ]
     },
     "execution_count": 9,
     "metadata": {},
     "output_type": "execute_result"
    }
   ],
   "source": [
    "apple.load_fff(frequency=\"D\", factors=5, directory=\"Data\")"
   ]
  },
  {
   "attachments": {},
   "cell_type": "markdown",
   "metadata": {},
   "source": [
    "### Calculating Fam-French Factors"
   ]
  },
  {
   "attachments": {},
   "cell_type": "markdown",
   "metadata": {},
   "source": [
    "The factors can be calculated using the `calculate_fff` function. It takes the following parameters:\n",
    "\n",
    "    column : str, optional\n",
    "        Column to calculate the fama french factors on, by default \"Close\"\n",
    "    verbose : int, optional\n",
    "        Verbosity, by default 1"
   ]
  },
  {
   "attachments": {},
   "cell_type": "markdown",
   "metadata": {},
   "source": [
    "The function will throw error if either the `Stock` or the `FamaFrenchFactors` object is not loaded. "
   ]
  },
  {
   "cell_type": "code",
   "execution_count": 10,
   "metadata": {},
   "outputs": [
    {
     "name": "stdout",
     "output_type": "stream",
     "text": [
      "Fama French Factors Calculated\n",
      "                            OLS Regression Results                            \n",
      "==============================================================================\n",
      "Dep. Variable:                      y   R-squared:                       0.534\n",
      "Model:                            OLS   Adj. R-squared:                  0.534\n",
      "Method:                 Least Squares   F-statistic:                     744.8\n",
      "Date:                Sun, 01 Jan 2023   Prob (F-statistic):               0.00\n",
      "Time:                        19:20:12   Log-Likelihood:                 9671.0\n",
      "No. Observations:                3250   AIC:                        -1.933e+04\n",
      "Df Residuals:                    3244   BIC:                        -1.929e+04\n",
      "Df Model:                           5                                         \n",
      "Covariance Type:            nonrobust                                         \n",
      "==============================================================================\n",
      "                 coef    std err          t      P>|t|      [0.025      0.975]\n",
      "------------------------------------------------------------------------------\n",
      "const          0.0004      0.000      1.703      0.089   -5.59e-05       0.001\n",
      "Mkt-RF         1.1768      0.021     56.919      0.000       1.136       1.217\n",
      "SMB           -0.1769      0.039     -4.517      0.000      -0.254      -0.100\n",
      "HML           -0.4995      0.037    -13.372      0.000      -0.573      -0.426\n",
      "RMW            0.5945      0.052     11.371      0.000       0.492       0.697\n",
      "CMA           -0.0151      0.072     -0.209      0.834      -0.157       0.127\n",
      "==============================================================================\n",
      "Omnibus:                      484.352   Durbin-Watson:                   1.922\n",
      "Prob(Omnibus):                  0.000   Jarque-Bera (JB):             7608.523\n",
      "Skew:                          -0.012   Prob(JB):                         0.00\n",
      "Kurtosis:                      10.496   Cond. No.                         355.\n",
      "==============================================================================\n",
      "\n",
      "Notes:\n",
      "[1] Standard Errors assume that the covariance matrix of the errors is correctly specified.\n"
     ]
    }
   ],
   "source": [
    "params = apple.calculate_fff(column = \"Close\")"
   ]
  },
  {
   "cell_type": "code",
   "execution_count": 11,
   "metadata": {},
   "outputs": [
    {
     "data": {
      "text/plain": [
       "const     0.000370\n",
       "Mkt-RF    1.176796\n",
       "SMB      -0.176945\n",
       "HML      -0.499524\n",
       "RMW       0.594542\n",
       "CMA      -0.015124\n",
       "dtype: float64"
      ]
     },
     "execution_count": 11,
     "metadata": {},
     "output_type": "execute_result"
    }
   ],
   "source": [
    "params"
   ]
  },
  {
   "attachments": {},
   "cell_type": "markdown",
   "metadata": {},
   "source": [
    "# `Portfolio` class"
   ]
  },
  {
   "attachments": {},
   "cell_type": "markdown",
   "metadata": {},
   "source": [
    "The class represents a portfolio which has a list of stocks and a benchmark. You can also provide a weight for each stock. "
   ]
  },
  {
   "attachments": {},
   "cell_type": "markdown",
   "metadata": {},
   "source": [
    "## Getting Started with `Portfolio`"
   ]
  },
  {
   "attachments": {},
   "cell_type": "markdown",
   "metadata": {},
   "source": [
    "To start, you have to at least provide the directory of the benchmark data as well as its name. You must also provide at least one stock. You can also provide a list of stock names and their directory. The weight can also be provided. If not provided (which defualts to `\"equal\"`), then the weight will be equal to 1/n where n is the number of stocks. \n",
    "\n",
    "    def __init__(self, benchmark_dir, benchmark_name, stocks_dir=None, stocks_name=None, weights=None):"
   ]
  },
  {
   "cell_type": "code",
   "execution_count": 2,
   "metadata": {},
   "outputs": [
    {
     "data": {
      "text/plain": [
       "Portfolio(S&P,[])"
      ]
     },
     "execution_count": 2,
     "metadata": {},
     "output_type": "execute_result"
    }
   ],
   "source": [
    "benchmark_name = \"S&P\"\n",
    "benchmark_dir = \"Data/GSPC.csv\"\n",
    "\n",
    "portfolio = Portfolio(benchmark_dir=benchmark_dir, benchmark_name=benchmark_name)\n",
    "portfolio"
   ]
  },
  {
   "cell_type": "code",
   "execution_count": 3,
   "metadata": {},
   "outputs": [
    {
     "data": {
      "text/plain": [
       "1"
      ]
     },
     "execution_count": 3,
     "metadata": {},
     "output_type": "execute_result"
    }
   ],
   "source": [
    "len(portfolio)"
   ]
  },
  {
   "attachments": {},
   "cell_type": "markdown",
   "metadata": {},
   "source": [
    "The representation of portfolio shows the name of benchmark and the stocks in the portfolio. The length of the portfolio is the number of stocks in the portfolio (Including the benchmark)."
   ]
  },
  {
   "attachments": {},
   "cell_type": "markdown",
   "metadata": {},
   "source": [
    "## Customizing the `Portfolio`"
   ]
  },
  {
   "cell_type": "code",
   "execution_count": 4,
   "metadata": {},
   "outputs": [
    {
     "data": {
      "text/plain": [
       "False"
      ]
     },
     "execution_count": 4,
     "metadata": {},
     "output_type": "execute_result"
    }
   ],
   "source": [
    "portfolio.benchmark.loaded"
   ]
  },
  {
   "attachments": {},
   "cell_type": "markdown",
   "metadata": {},
   "source": [
    "Right now, portfolio has just one unloaded benchmark and no stocks. Let's load the benchmark and add a stock."
   ]
  },
  {
   "attachments": {},
   "cell_type": "markdown",
   "metadata": {},
   "source": [
    "### Loading The Benchmark"
   ]
  },
  {
   "attachments": {},
   "cell_type": "markdown",
   "metadata": {},
   "source": [
    "This can be done by using the `load_benchmark` function. It takes the following parameters:\n",
    "\n",
    "    start_date : str, optional\n",
    "        Start date of the data, by default None\n",
    "    end_date : str, optional\n",
    "        End date of the data, by default None\n",
    "    columns : list, optional\n",
    "        Columns to keep, by default None which means keep all columns\n",
    "    frequency : str, optional\n",
    "        Frequency of the data, by default \"D\"\n",
    "    rename_cols : list, optional\n",
    "        Columns to rename, by default None"
   ]
  },
  {
   "cell_type": "code",
   "execution_count": 5,
   "metadata": {},
   "outputs": [],
   "source": [
    "start_date = \"2012-01-01\"\n",
    "end_date = \"2022-12-20\"\n",
    "frequency = \"D\"\n",
    "portfolio.load_benchmark(start_date=start_date, end_date=end_date, frequency=frequency)"
   ]
  },
  {
   "cell_type": "code",
   "execution_count": 6,
   "metadata": {},
   "outputs": [
    {
     "data": {
      "text/plain": [
       "True"
      ]
     },
     "execution_count": 6,
     "metadata": {},
     "output_type": "execute_result"
    }
   ],
   "source": [
    "portfolio.benchmark.loaded"
   ]
  },
  {
   "cell_type": "code",
   "execution_count": 7,
   "metadata": {},
   "outputs": [
    {
     "data": {
      "text/html": [
       "<div>\n",
       "<style scoped>\n",
       "    .dataframe tbody tr th:only-of-type {\n",
       "        vertical-align: middle;\n",
       "    }\n",
       "\n",
       "    .dataframe tbody tr th {\n",
       "        vertical-align: top;\n",
       "    }\n",
       "\n",
       "    .dataframe thead th {\n",
       "        text-align: right;\n",
       "    }\n",
       "</style>\n",
       "<table border=\"1\" class=\"dataframe\">\n",
       "  <thead>\n",
       "    <tr style=\"text-align: right;\">\n",
       "      <th></th>\n",
       "      <th>Open</th>\n",
       "      <th>High</th>\n",
       "      <th>Low</th>\n",
       "      <th>Close</th>\n",
       "      <th>Adj Close</th>\n",
       "      <th>Volume</th>\n",
       "    </tr>\n",
       "    <tr>\n",
       "      <th>Date</th>\n",
       "      <th></th>\n",
       "      <th></th>\n",
       "      <th></th>\n",
       "      <th></th>\n",
       "      <th></th>\n",
       "      <th></th>\n",
       "    </tr>\n",
       "  </thead>\n",
       "  <tbody>\n",
       "    <tr>\n",
       "      <th>2012-01-03</th>\n",
       "      <td>1258.859985</td>\n",
       "      <td>1284.619995</td>\n",
       "      <td>1258.859985</td>\n",
       "      <td>1277.060059</td>\n",
       "      <td>1277.060059</td>\n",
       "      <td>3943710000</td>\n",
       "    </tr>\n",
       "    <tr>\n",
       "      <th>2012-01-04</th>\n",
       "      <td>1277.030029</td>\n",
       "      <td>1278.729980</td>\n",
       "      <td>1268.099976</td>\n",
       "      <td>1277.300049</td>\n",
       "      <td>1277.300049</td>\n",
       "      <td>3592580000</td>\n",
       "    </tr>\n",
       "    <tr>\n",
       "      <th>2012-01-05</th>\n",
       "      <td>1277.300049</td>\n",
       "      <td>1283.050049</td>\n",
       "      <td>1265.260010</td>\n",
       "      <td>1281.060059</td>\n",
       "      <td>1281.060059</td>\n",
       "      <td>4315950000</td>\n",
       "    </tr>\n",
       "    <tr>\n",
       "      <th>2012-01-06</th>\n",
       "      <td>1280.930054</td>\n",
       "      <td>1281.839966</td>\n",
       "      <td>1273.339966</td>\n",
       "      <td>1277.810059</td>\n",
       "      <td>1277.810059</td>\n",
       "      <td>3656830000</td>\n",
       "    </tr>\n",
       "    <tr>\n",
       "      <th>2012-01-07</th>\n",
       "      <td>1280.930054</td>\n",
       "      <td>1281.839966</td>\n",
       "      <td>1273.339966</td>\n",
       "      <td>1277.810059</td>\n",
       "      <td>1277.810059</td>\n",
       "      <td>3656830000</td>\n",
       "    </tr>\n",
       "  </tbody>\n",
       "</table>\n",
       "</div>"
      ],
      "text/plain": [
       "                   Open         High          Low        Close    Adj Close  \\\n",
       "Date                                                                          \n",
       "2012-01-03  1258.859985  1284.619995  1258.859985  1277.060059  1277.060059   \n",
       "2012-01-04  1277.030029  1278.729980  1268.099976  1277.300049  1277.300049   \n",
       "2012-01-05  1277.300049  1283.050049  1265.260010  1281.060059  1281.060059   \n",
       "2012-01-06  1280.930054  1281.839966  1273.339966  1277.810059  1277.810059   \n",
       "2012-01-07  1280.930054  1281.839966  1273.339966  1277.810059  1277.810059   \n",
       "\n",
       "                Volume  \n",
       "Date                    \n",
       "2012-01-03  3943710000  \n",
       "2012-01-04  3592580000  \n",
       "2012-01-05  4315950000  \n",
       "2012-01-06  3656830000  \n",
       "2012-01-07  3656830000  "
      ]
     },
     "execution_count": 7,
     "metadata": {},
     "output_type": "execute_result"
    }
   ],
   "source": [
    "portfolio.benchmark.data.head()"
   ]
  },
  {
   "attachments": {},
   "cell_type": "markdown",
   "metadata": {},
   "source": [
    ">Alternatively, you can use the `Stock.load_data` function to load the benchmark data since benchmark is just a `Stock` object."
   ]
  },
  {
   "attachments": {},
   "cell_type": "markdown",
   "metadata": {},
   "source": [
    "### Changing The Benchmark"
   ]
  },
  {
   "attachments": {},
   "cell_type": "markdown",
   "metadata": {},
   "source": [
    "You can also change the benchmark by using the `change_benchmark` function. It takes the following parameters:\n",
    "\n",
    "    benchmark_dir : str\n",
    "        Directory of the benchmark\n",
    "    benchmark_name : str\n",
    "        Name of the benchmark\n",
    "    load : bool, optional\n",
    "        Load the data, by default True\n",
    "    use_prev : bool, optional\n",
    "        Use the values of start_date, end_date, columns, frequency, rename_cols from the previous benchmark, by default True\n",
    "    start_date : str, optional\n",
    "        Start date, by default None\n",
    "    end_date : str, optional\n",
    "        End date, by default None\n",
    "    columns : list, optional\n",
    "        Columns to keep, by default None\n",
    "    frequency : str, optional\n",
    "        Frequency of the data, by default \"D\"\n",
    "    rename_cols : list, optional\n",
    "        Columns to rename, by default None"
   ]
  },
  {
   "cell_type": "code",
   "execution_count": 6,
   "metadata": {},
   "outputs": [],
   "source": [
    "dji_name = \"Dow_Jones\"\n",
    "dji_dir = \"Data/DJI.csv\"\n",
    "\n",
    "portfolio.change_benchmark(benchmark_dir=dji_dir, benchmark_name=dji_name, load=True, use_prev=False)"
   ]
  },
  {
   "cell_type": "code",
   "execution_count": 7,
   "metadata": {},
   "outputs": [
    {
     "data": {
      "text/plain": [
       "Portfolio(Dow_Jones,[])"
      ]
     },
     "execution_count": 7,
     "metadata": {},
     "output_type": "execute_result"
    }
   ],
   "source": [
    "portfolio"
   ]
  },
  {
   "cell_type": "code",
   "execution_count": 8,
   "metadata": {},
   "outputs": [
    {
     "data": {
      "text/plain": [
       "True"
      ]
     },
     "execution_count": 8,
     "metadata": {},
     "output_type": "execute_result"
    }
   ],
   "source": [
    "portfolio.benchmark.loaded"
   ]
  },
  {
   "attachments": {},
   "cell_type": "markdown",
   "metadata": {},
   "source": [
    "### Adding A Stock"
   ]
  },
  {
   "attachments": {},
   "cell_type": "markdown",
   "metadata": {},
   "source": [
    "#### Quick Way"
   ]
  },
  {
   "attachments": {},
   "cell_type": "markdown",
   "metadata": {},
   "source": [
    "The class provides a function `add_stocks` to add a stock. It takes the following parameters:\n",
    "\n",
    "    stock_dirs : list\n",
    "        List of stock directories\n",
    "    stock_names : list, optional\n",
    "        List of stock names, by default None\n",
    "    load_data : bool, optional\n",
    "        Whether to load the data, by default True\n",
    "    start_date : str, optional\n",
    "        Start date, by default None\n",
    "    end_date : str, optional\n",
    "        End date, by default None\n",
    "    columns : list, optional\n",
    "        Columns to keep, by default None\n",
    "    frequency : str, optional\n",
    "        Frequency of the data, by default \"D\"\n",
    "    rename_cols : list, optional\n",
    "        Columns to rename, by default None\n",
    "    overwrite : bool, optional\n",
    "        Whether to overwrite existing stocks, by default False"
   ]
  },
  {
   "attachments": {},
   "cell_type": "markdown",
   "metadata": {},
   "source": [
    "The quickest way to add a single or a number of stock is by passing the `stock_dirs` and `stock_names` parameter. Let's see this in action:"
   ]
  },
  {
   "cell_type": "code",
   "execution_count": 9,
   "metadata": {},
   "outputs": [],
   "source": [
    "stock_names = [\"AAPL\"]\n",
    "stock_dirs = [\"Data/AAPL.csv\"]\n",
    "\n",
    "portfolio.add_stocks(stock_dirs = stock_dirs, stock_names = stock_names, load_data=False, frequency=frequency, start_date=start_date, end_date=end_date)"
   ]
  },
  {
   "attachments": {},
   "cell_type": "markdown",
   "metadata": {},
   "source": [
    "> If we want to add a single stock, give the name and directory of stock inside a list. This is what we have done here."
   ]
  },
  {
   "cell_type": "code",
   "execution_count": 12,
   "metadata": {},
   "outputs": [
    {
     "data": {
      "text/plain": [
       "Portfolio(Dow_Jones,['AAPL'])"
      ]
     },
     "execution_count": 12,
     "metadata": {},
     "output_type": "execute_result"
    }
   ],
   "source": [
    "portfolio"
   ]
  },
  {
   "attachments": {},
   "cell_type": "markdown",
   "metadata": {},
   "source": [
    "#### Using `Stock` Object"
   ]
  },
  {
   "attachments": {},
   "cell_type": "markdown",
   "metadata": {},
   "source": [
    "Another way is to first create the `Stock` object and then add it using the same method."
   ]
  },
  {
   "cell_type": "code",
   "execution_count": 10,
   "metadata": {},
   "outputs": [],
   "source": [
    "google = Stock(\"GOOG\", \"Data/GOOG.csv\")\n",
    "portfolio.add_stocks(stocks=[google], load_data=False, frequency=frequency, start_date=start_date, end_date=end_date)"
   ]
  },
  {
   "cell_type": "code",
   "execution_count": 14,
   "metadata": {},
   "outputs": [
    {
     "data": {
      "text/plain": [
       "Portfolio(Dow_Jones,['AAPL', 'GOOG'])"
      ]
     },
     "execution_count": 14,
     "metadata": {},
     "output_type": "execute_result"
    }
   ],
   "source": [
    "portfolio"
   ]
  },
  {
   "attachments": {},
   "cell_type": "markdown",
   "metadata": {},
   "source": [
    "Now, our portfolio has one benchmark and two stock."
   ]
  },
  {
   "cell_type": "code",
   "execution_count": 15,
   "metadata": {},
   "outputs": [
    {
     "data": {
      "text/plain": [
       "array([0.5, 0.5])"
      ]
     },
     "execution_count": 15,
     "metadata": {},
     "output_type": "execute_result"
    }
   ],
   "source": [
    "portfolio.weights"
   ]
  },
  {
   "attachments": {},
   "cell_type": "markdown",
   "metadata": {},
   "source": [
    "You can see that the `weights` has been adjusted."
   ]
  },
  {
   "attachments": {},
   "cell_type": "markdown",
   "metadata": {},
   "source": [
    "### Adding Multiple Stocks"
   ]
  },
  {
   "attachments": {},
   "cell_type": "markdown",
   "metadata": {},
   "source": [
    "For this, just pass a list of stock directories and names. The `weights` will be adjusted accordingly. Or you can pass a list of `Stock` objects."
   ]
  },
  {
   "cell_type": "code",
   "execution_count": 11,
   "metadata": {},
   "outputs": [],
   "source": [
    "stock_names = [\"TSLA\", \"MSFT\"]\n",
    "stock_dirs = [\"Data/TSLA.csv\", \"Data/MSFT.csv\"]\n",
    "\n",
    "portfolio.add_stocks(stock_dirs = stock_dirs, stock_names = stock_names, load_data=False, frequency=frequency, start_date=start_date, end_date=end_date)"
   ]
  },
  {
   "cell_type": "code",
   "execution_count": 12,
   "metadata": {},
   "outputs": [
    {
     "data": {
      "text/plain": [
       "Portfolio(Dow_Jones,['AAPL', 'GOOG', 'TSLA', 'MSFT'])"
      ]
     },
     "execution_count": 12,
     "metadata": {},
     "output_type": "execute_result"
    }
   ],
   "source": [
    "portfolio"
   ]
  },
  {
   "attachments": {},
   "cell_type": "markdown",
   "metadata": {},
   "source": [
    "> Another thing to note is that two `Stocks` are considered equal if they have the same name. You can not have two stocks with the same name in the portfolio. If you try to add a stock with the same name as an existing stock, then the existing stock will be overwritten or the command will be ignored depending on the value of `overwrite` parameter."
   ]
  },
  {
   "cell_type": "code",
   "execution_count": 13,
   "metadata": {},
   "outputs": [
    {
     "name": "stdout",
     "output_type": "stream",
     "text": [
      "Stock GOOG already exists\n",
      "You have not specified overwrite=True. Skipping...\n"
     ]
    }
   ],
   "source": [
    "google = Stock(\"GOOG\", \"Data/GOOG.csv\")\n",
    "\n",
    "portfolio.add_stocks(stocks=[google], load_data=False, frequency=frequency, start_date=start_date, end_date=end_date, overwrite=False)"
   ]
  },
  {
   "cell_type": "code",
   "execution_count": 14,
   "metadata": {},
   "outputs": [
    {
     "data": {
      "text/plain": [
       "Portfolio(Dow_Jones,['AAPL', 'GOOG', 'TSLA', 'MSFT'])"
      ]
     },
     "execution_count": 14,
     "metadata": {},
     "output_type": "execute_result"
    }
   ],
   "source": [
    "portfolio"
   ]
  },
  {
   "cell_type": "code",
   "execution_count": 15,
   "metadata": {},
   "outputs": [
    {
     "name": "stdout",
     "output_type": "stream",
     "text": [
      "Stock GOOG already exists\n",
      "Overwriting...\n"
     ]
    }
   ],
   "source": [
    "google = Stock(\"GOOG\", \"Data/GOOG.csv\")\n",
    "\n",
    "portfolio.add_stocks(stocks=[google], load_data=False, frequency=frequency, start_date=start_date, end_date=end_date, overwrite=True)"
   ]
  },
  {
   "cell_type": "code",
   "execution_count": 16,
   "metadata": {},
   "outputs": [
    {
     "data": {
      "text/plain": [
       "Portfolio(Dow_Jones,['AAPL', 'TSLA', 'MSFT', 'GOOG'])"
      ]
     },
     "execution_count": 16,
     "metadata": {},
     "output_type": "execute_result"
    }
   ],
   "source": [
    "portfolio"
   ]
  },
  {
   "attachments": {},
   "cell_type": "markdown",
   "metadata": {},
   "source": [
    "### Removing Stocks"
   ]
  },
  {
   "attachments": {},
   "cell_type": "markdown",
   "metadata": {},
   "source": [
    "To remove a `Stock` from `Portfolio`, use the `remove_stock` function. It takes the following parameters:\n",
    "\n",
    "    names : list\n",
    "        A list names of the stock to remove"
   ]
  },
  {
   "cell_type": "code",
   "execution_count": 17,
   "metadata": {},
   "outputs": [],
   "source": [
    "portfolio.remove_stocks([\"GOOG\"])"
   ]
  },
  {
   "cell_type": "code",
   "execution_count": 18,
   "metadata": {},
   "outputs": [
    {
     "data": {
      "text/plain": [
       "Portfolio(Dow_Jones,['AAPL', 'TSLA', 'MSFT'])"
      ]
     },
     "execution_count": 18,
     "metadata": {},
     "output_type": "execute_result"
    }
   ],
   "source": [
    "portfolio"
   ]
  },
  {
   "attachments": {},
   "cell_type": "markdown",
   "metadata": {},
   "source": [
    "### Change the Frequency of the Data"
   ]
  },
  {
   "attachments": {},
   "cell_type": "markdown",
   "metadata": {},
   "source": [
    "To change the frequency of the portfolio, use the `change_benchmark_frequency` function. It takes the following parameters:\n",
    "\n",
    "    frequency : str\n",
    "        Frequency of the data\n",
    "    change_stocks : bool, optional\n",
    "        Whether to change the frequency of the stock data, by default True"
   ]
  },
  {
   "cell_type": "code",
   "execution_count": 19,
   "metadata": {},
   "outputs": [
    {
     "data": {
      "text/plain": [
       "'D'"
      ]
     },
     "execution_count": 19,
     "metadata": {},
     "output_type": "execute_result"
    }
   ],
   "source": [
    "portfolio.benchmark.frequency"
   ]
  },
  {
   "attachments": {},
   "cell_type": "markdown",
   "metadata": {},
   "source": [
    "However, you can change the frequency only if you have loaded the data. If you have not loaded the data, then the function will throw an error."
   ]
  },
  {
   "cell_type": "code",
   "execution_count": 21,
   "metadata": {},
   "outputs": [
    {
     "ename": "AttributeError",
     "evalue": "'Stock' object has no attribute 'data'",
     "output_type": "error",
     "traceback": [
      "\u001b[0;31m---------------------------------------------------------------------------\u001b[0m",
      "\u001b[0;31mAttributeError\u001b[0m                            Traceback (most recent call last)",
      "Cell \u001b[0;32mIn[21], line 1\u001b[0m\n\u001b[0;32m----> 1\u001b[0m portfolio\u001b[39m.\u001b[39;49mchange_benchmark_frequency(\u001b[39m\"\u001b[39;49m\u001b[39mM\u001b[39;49m\u001b[39m\"\u001b[39;49m)\n",
      "File \u001b[0;32m/media/hari31416/Hari_SSD/Users/harik/Desktop/Finance/pystock_project/pystock/portfolio.py:769\u001b[0m, in \u001b[0;36mPortfolio.change_benchmark_frequency\u001b[0;34m(self, frequency, change_stocks)\u001b[0m\n\u001b[1;32m    767\u001b[0m \u001b[39mif\u001b[39;00m change_stocks:\n\u001b[1;32m    768\u001b[0m     \u001b[39mfor\u001b[39;00m stock \u001b[39min\u001b[39;00m \u001b[39mself\u001b[39m\u001b[39m.\u001b[39mstocks:\n\u001b[0;32m--> 769\u001b[0m         stock\u001b[39m.\u001b[39;49mchange_frequency(frequency)\n",
      "File \u001b[0;32m/media/hari31416/Hari_SSD/Users/harik/Desktop/Finance/pystock_project/pystock/portfolio.py:178\u001b[0m, in \u001b[0;36mStock.change_frequency\u001b[0;34m(self, frequency)\u001b[0m\n\u001b[1;32m    169\u001b[0m \u001b[39m\"\"\"\u001b[39;00m\n\u001b[1;32m    170\u001b[0m \u001b[39mChanges the frequency of the data.\u001b[39;00m\n\u001b[1;32m    171\u001b[0m \n\u001b[0;32m   (...)\u001b[0m\n\u001b[1;32m    175\u001b[0m \u001b[39m    Frequency of the data\u001b[39;00m\n\u001b[1;32m    176\u001b[0m \u001b[39m\"\"\"\u001b[39;00m\n\u001b[1;32m    177\u001b[0m \u001b[39mself\u001b[39m\u001b[39m.\u001b[39mfrequency \u001b[39m=\u001b[39m frequency\n\u001b[0;32m--> 178\u001b[0m \u001b[39mself\u001b[39m\u001b[39m.\u001b[39mdata \u001b[39m=\u001b[39m \u001b[39mself\u001b[39;49m\u001b[39m.\u001b[39;49mdata\u001b[39m.\u001b[39masfreq(frequency, \u001b[39m\"\u001b[39m\u001b[39mffill\u001b[39m\u001b[39m\"\u001b[39m)\u001b[39m.\u001b[39mdropna()\n",
      "\u001b[0;31mAttributeError\u001b[0m: 'Stock' object has no attribute 'data'"
     ]
    }
   ],
   "source": [
    "portfolio.change_benchmark_frequency(\"M\")"
   ]
  },
  {
   "attachments": {},
   "cell_type": "markdown",
   "metadata": {},
   "source": [
    "Loading data will be covered in the next section. For now, as benchmark is already loaded, we will change the frequency of the benchmark."
   ]
  },
  {
   "cell_type": "code",
   "execution_count": 23,
   "metadata": {},
   "outputs": [],
   "source": [
    "portfolio.change_benchmark_frequency(\"M\", change_stocks=False)"
   ]
  },
  {
   "cell_type": "code",
   "execution_count": 24,
   "metadata": {},
   "outputs": [
    {
     "data": {
      "text/plain": [
       "'M'"
      ]
     },
     "execution_count": 24,
     "metadata": {},
     "output_type": "execute_result"
    }
   ],
   "source": [
    "portfolio.benchmark.frequency"
   ]
  },
  {
   "attachments": {},
   "cell_type": "markdown",
   "metadata": {},
   "source": [
    ">Although you can get away with changing the frequency of the benchmark only, it is recommended to change the frequency of the stock data as well."
   ]
  },
  {
   "attachments": {},
   "cell_type": "markdown",
   "metadata": {},
   "source": [
    "## Loading the Data"
   ]
  },
  {
   "attachments": {},
   "cell_type": "markdown",
   "metadata": {},
   "source": [
    "Many times, when we try to run some function, you will get an exception telling that \"'Stock' object has no attribute 'data'\". This happens because the `Stock` is not loaded yet as you can check by using the `loaded` attribute of the `Stock` object."
   ]
  },
  {
   "cell_type": "code",
   "execution_count": 30,
   "metadata": {},
   "outputs": [
    {
     "name": "stdout",
     "output_type": "stream",
     "text": [
      "Dow_Jones True\n",
      "AAPL False\n",
      "TSLA False\n",
      "MSFT False\n"
     ]
    }
   ],
   "source": [
    "for stock, name in portfolio:\n",
    "    print(name, stock.loaded)"
   ]
  },
  {
   "attachments": {},
   "cell_type": "markdown",
   "metadata": {},
   "source": [
    "We see that no stock data is loaded. Let's load the data."
   ]
  },
  {
   "attachments": {},
   "cell_type": "markdown",
   "metadata": {},
   "source": [
    "> ou can use the `Portfolio` as an iterator. Some more details about these special methods will be covered later."
   ]
  },
  {
   "attachments": {},
   "cell_type": "markdown",
   "metadata": {},
   "source": [
    "There are mainly three functions to load data. We already discussed the `load_benchmark` function. Other two are discussed below."
   ]
  },
  {
   "attachments": {},
   "cell_type": "markdown",
   "metadata": {},
   "source": [
    "### `load_one_stock`"
   ]
  },
  {
   "attachments": {},
   "cell_type": "markdown",
   "metadata": {},
   "source": [
    "As the name suggests, this loads data of one stock specified by the `name` parameter. The function is built on `Stock.load_data` function. It takes the following parameters:\n",
    "\n",
    "    name : str\n",
    "        Name of the stock\n",
    "    start_date : str, optional\n",
    "        Start date, by default None\n",
    "    end_date : str, optional\n",
    "        End date, by default None\n",
    "    columns : list, optional\n",
    "        Columns to keep, by default None\n",
    "    frequency : str, optional\n",
    "        Frequency of the data, by default \"D\"\n",
    "    rename_cols : list, optional\n",
    "        Columns to rename, by default None\n",
    "    overwrite : bool, optional\n",
    "        Whether to overwrite existing data, by default False"
   ]
  },
  {
   "cell_type": "code",
   "execution_count": 31,
   "metadata": {},
   "outputs": [],
   "source": [
    "apple_data = portfolio.load_one_stock(\"AAPL\", frequency=frequency, start_date=start_date, end_date=end_date)"
   ]
  },
  {
   "cell_type": "code",
   "execution_count": 32,
   "metadata": {},
   "outputs": [
    {
     "name": "stdout",
     "output_type": "stream",
     "text": [
      "Dow_Jones True\n",
      "AAPL True\n",
      "TSLA False\n",
      "MSFT False\n"
     ]
    }
   ],
   "source": [
    "for stock, name in portfolio:\n",
    "    print(name, stock.loaded)"
   ]
  },
  {
   "attachments": {},
   "cell_type": "markdown",
   "metadata": {},
   "source": [
    "The data of `APPL` is now loaded. We get some more attributes by loading the data. See the `Stock` class for more details."
   ]
  },
  {
   "attachments": {},
   "cell_type": "markdown",
   "metadata": {},
   "source": [
    "### `load_all`"
   ]
  },
  {
   "attachments": {},
   "cell_type": "markdown",
   "metadata": {},
   "source": [
    "As the name suggests, this loads data of all the stocks in the portfolio. It takes the following parameters:\n",
    "\n",
    "    start_date : str, optional\n",
    "        Start date, by default None\n",
    "    end_date : str, optional\n",
    "        End date, by default None\n",
    "    columns : list, optional\n",
    "        Columns to keep, by default None\n",
    "    frequency : str, optional\n",
    "        Frequency of the data, by default \"D\"\n",
    "    rename_cols : list, optional\n",
    "        Columns to rename, by default None\n",
    "    overwrite : bool, optional\n",
    "        Whether to overwrite existing data, by default False"
   ]
  },
  {
   "attachments": {},
   "cell_type": "markdown",
   "metadata": {},
   "source": [
    "Previously, we just loaded the apple data, now we'll load all the data."
   ]
  },
  {
   "cell_type": "code",
   "execution_count": 33,
   "metadata": {},
   "outputs": [],
   "source": [
    "portfolio.load_all(frequency=frequency, start_date=start_date, end_date=end_date)"
   ]
  },
  {
   "cell_type": "code",
   "execution_count": 34,
   "metadata": {},
   "outputs": [
    {
     "name": "stdout",
     "output_type": "stream",
     "text": [
      "Dow_Jones True\n",
      "AAPL True\n",
      "TSLA True\n",
      "MSFT True\n"
     ]
    }
   ],
   "source": [
    "for stock, name in portfolio:\n",
    "    print(name, stock.loaded)"
   ]
  },
  {
   "attachments": {},
   "cell_type": "markdown",
   "metadata": {},
   "source": [
    "Let's see the data of these stocks."
   ]
  },
  {
   "cell_type": "code",
   "execution_count": 36,
   "metadata": {},
   "outputs": [
    {
     "data": {
      "text/html": [
       "<div>\n",
       "<style scoped>\n",
       "    .dataframe tbody tr th:only-of-type {\n",
       "        vertical-align: middle;\n",
       "    }\n",
       "\n",
       "    .dataframe tbody tr th {\n",
       "        vertical-align: top;\n",
       "    }\n",
       "\n",
       "    .dataframe thead th {\n",
       "        text-align: right;\n",
       "    }\n",
       "</style>\n",
       "<table border=\"1\" class=\"dataframe\">\n",
       "  <thead>\n",
       "    <tr style=\"text-align: right;\">\n",
       "      <th></th>\n",
       "      <th>Open</th>\n",
       "      <th>High</th>\n",
       "      <th>Low</th>\n",
       "      <th>Close</th>\n",
       "      <th>Adj Close</th>\n",
       "      <th>Volume</th>\n",
       "    </tr>\n",
       "    <tr>\n",
       "      <th>Date</th>\n",
       "      <th></th>\n",
       "      <th></th>\n",
       "      <th></th>\n",
       "      <th></th>\n",
       "      <th></th>\n",
       "      <th></th>\n",
       "    </tr>\n",
       "  </thead>\n",
       "  <tbody>\n",
       "    <tr>\n",
       "      <th>2012-01-03</th>\n",
       "      <td>14.621429</td>\n",
       "      <td>14.732143</td>\n",
       "      <td>14.607143</td>\n",
       "      <td>14.686786</td>\n",
       "      <td>12.519279</td>\n",
       "      <td>302220800</td>\n",
       "    </tr>\n",
       "    <tr>\n",
       "      <th>2012-01-04</th>\n",
       "      <td>14.642857</td>\n",
       "      <td>14.810000</td>\n",
       "      <td>14.617143</td>\n",
       "      <td>14.765714</td>\n",
       "      <td>12.586560</td>\n",
       "      <td>260022000</td>\n",
       "    </tr>\n",
       "    <tr>\n",
       "      <th>2012-01-05</th>\n",
       "      <td>14.819643</td>\n",
       "      <td>14.948214</td>\n",
       "      <td>14.738214</td>\n",
       "      <td>14.929643</td>\n",
       "      <td>12.726295</td>\n",
       "      <td>271269600</td>\n",
       "    </tr>\n",
       "    <tr>\n",
       "      <th>2012-01-06</th>\n",
       "      <td>14.991786</td>\n",
       "      <td>15.098214</td>\n",
       "      <td>14.972143</td>\n",
       "      <td>15.085714</td>\n",
       "      <td>12.859330</td>\n",
       "      <td>318292800</td>\n",
       "    </tr>\n",
       "    <tr>\n",
       "      <th>2012-01-07</th>\n",
       "      <td>14.991786</td>\n",
       "      <td>15.098214</td>\n",
       "      <td>14.972143</td>\n",
       "      <td>15.085714</td>\n",
       "      <td>12.859330</td>\n",
       "      <td>318292800</td>\n",
       "    </tr>\n",
       "  </tbody>\n",
       "</table>\n",
       "</div>"
      ],
      "text/plain": [
       "                 Open       High        Low      Close  Adj Close     Volume\n",
       "Date                                                                        \n",
       "2012-01-03  14.621429  14.732143  14.607143  14.686786  12.519279  302220800\n",
       "2012-01-04  14.642857  14.810000  14.617143  14.765714  12.586560  260022000\n",
       "2012-01-05  14.819643  14.948214  14.738214  14.929643  12.726295  271269600\n",
       "2012-01-06  14.991786  15.098214  14.972143  15.085714  12.859330  318292800\n",
       "2012-01-07  14.991786  15.098214  14.972143  15.085714  12.859330  318292800"
      ]
     },
     "execution_count": 36,
     "metadata": {},
     "output_type": "execute_result"
    }
   ],
   "source": [
    "portfolio[\"AAPL\"].data.head()"
   ]
  },
  {
   "cell_type": "code",
   "execution_count": 37,
   "metadata": {},
   "outputs": [
    {
     "data": {
      "text/html": [
       "<div>\n",
       "<style scoped>\n",
       "    .dataframe tbody tr th:only-of-type {\n",
       "        vertical-align: middle;\n",
       "    }\n",
       "\n",
       "    .dataframe tbody tr th {\n",
       "        vertical-align: top;\n",
       "    }\n",
       "\n",
       "    .dataframe thead th {\n",
       "        text-align: right;\n",
       "    }\n",
       "</style>\n",
       "<table border=\"1\" class=\"dataframe\">\n",
       "  <thead>\n",
       "    <tr style=\"text-align: right;\">\n",
       "      <th></th>\n",
       "      <th>Open</th>\n",
       "      <th>High</th>\n",
       "      <th>Low</th>\n",
       "      <th>Close</th>\n",
       "      <th>Adj Close</th>\n",
       "      <th>Volume</th>\n",
       "    </tr>\n",
       "    <tr>\n",
       "      <th>Date</th>\n",
       "      <th></th>\n",
       "      <th></th>\n",
       "      <th></th>\n",
       "      <th></th>\n",
       "      <th></th>\n",
       "      <th></th>\n",
       "    </tr>\n",
       "  </thead>\n",
       "  <tbody>\n",
       "    <tr>\n",
       "      <th>2012-01-03</th>\n",
       "      <td>1.929333</td>\n",
       "      <td>1.966667</td>\n",
       "      <td>1.843333</td>\n",
       "      <td>1.872000</td>\n",
       "      <td>1.872000</td>\n",
       "      <td>13921500</td>\n",
       "    </tr>\n",
       "    <tr>\n",
       "      <th>2012-01-04</th>\n",
       "      <td>1.880667</td>\n",
       "      <td>1.911333</td>\n",
       "      <td>1.833333</td>\n",
       "      <td>1.847333</td>\n",
       "      <td>1.847333</td>\n",
       "      <td>9451500</td>\n",
       "    </tr>\n",
       "    <tr>\n",
       "      <th>2012-01-05</th>\n",
       "      <td>1.850667</td>\n",
       "      <td>1.862000</td>\n",
       "      <td>1.790000</td>\n",
       "      <td>1.808000</td>\n",
       "      <td>1.808000</td>\n",
       "      <td>15082500</td>\n",
       "    </tr>\n",
       "    <tr>\n",
       "      <th>2012-01-06</th>\n",
       "      <td>1.813333</td>\n",
       "      <td>1.852667</td>\n",
       "      <td>1.760667</td>\n",
       "      <td>1.794000</td>\n",
       "      <td>1.794000</td>\n",
       "      <td>14794500</td>\n",
       "    </tr>\n",
       "    <tr>\n",
       "      <th>2012-01-07</th>\n",
       "      <td>1.813333</td>\n",
       "      <td>1.852667</td>\n",
       "      <td>1.760667</td>\n",
       "      <td>1.794000</td>\n",
       "      <td>1.794000</td>\n",
       "      <td>14794500</td>\n",
       "    </tr>\n",
       "  </tbody>\n",
       "</table>\n",
       "</div>"
      ],
      "text/plain": [
       "                Open      High       Low     Close  Adj Close    Volume\n",
       "Date                                                                   \n",
       "2012-01-03  1.929333  1.966667  1.843333  1.872000   1.872000  13921500\n",
       "2012-01-04  1.880667  1.911333  1.833333  1.847333   1.847333   9451500\n",
       "2012-01-05  1.850667  1.862000  1.790000  1.808000   1.808000  15082500\n",
       "2012-01-06  1.813333  1.852667  1.760667  1.794000   1.794000  14794500\n",
       "2012-01-07  1.813333  1.852667  1.760667  1.794000   1.794000  14794500"
      ]
     },
     "execution_count": 37,
     "metadata": {},
     "output_type": "execute_result"
    }
   ],
   "source": [
    "portfolio[\"TSLA\"].data.head()"
   ]
  },
  {
   "attachments": {},
   "cell_type": "markdown",
   "metadata": {},
   "source": [
    "## Special Methods"
   ]
  },
  {
   "attachments": {},
   "cell_type": "markdown",
   "metadata": {},
   "source": [
    "### Representation"
   ]
  },
  {
   "attachments": {},
   "cell_type": "markdown",
   "metadata": {},
   "source": [
    "The `Portfolio` object has implemented the `__repr__` method which lets it represent the object in understandable manner."
   ]
  },
  {
   "cell_type": "code",
   "execution_count": 93,
   "metadata": {},
   "outputs": [
    {
     "data": {
      "text/plain": [
       "Portfolio(Dow_Jones,['AAPL', 'TSLA', 'MSFT'])"
      ]
     },
     "execution_count": 93,
     "metadata": {},
     "output_type": "execute_result"
    }
   ],
   "source": [
    "portfolio"
   ]
  },
  {
   "attachments": {},
   "cell_type": "markdown",
   "metadata": {},
   "source": [
    "You can see that the represenation of `Portfolio` has the name of the benchmark and the list of the stocks. This lets us have a \"peek\" at the portfolio!"
   ]
  },
  {
   "attachments": {},
   "cell_type": "markdown",
   "metadata": {},
   "source": [
    "### String"
   ]
  },
  {
   "attachments": {},
   "cell_type": "markdown",
   "metadata": {},
   "source": [
    "You can \"print\" the `Portfolio` and it will give a peek of the portfolio:"
   ]
  },
  {
   "cell_type": "code",
   "execution_count": 95,
   "metadata": {},
   "outputs": [
    {
     "name": "stdout",
     "output_type": "stream",
     "text": [
      "Portfolio with benchmark Dow_Jones and stocks ['AAPL', 'TSLA', 'MSFT']\n"
     ]
    }
   ],
   "source": [
    "print(portfolio)"
   ]
  },
  {
   "attachments": {},
   "cell_type": "markdown",
   "metadata": {},
   "source": [
    "### Using the `in` Keyword"
   ]
  },
  {
   "attachments": {},
   "cell_type": "markdown",
   "metadata": {},
   "source": [
    "The `Portfolio` class implements the `__contains__` special method. This makes it easy to use the `in` keyword to check if a `Stock` is in the `Portfolio`. Use the stock name or the `Stock` object."
   ]
  },
  {
   "cell_type": "code",
   "execution_count": 89,
   "metadata": {},
   "outputs": [
    {
     "data": {
      "text/plain": [
       "(True, False)"
      ]
     },
     "execution_count": 89,
     "metadata": {},
     "output_type": "execute_result"
    }
   ],
   "source": [
    "\"AAPL\" in portfolio, \"TCS\" in portfolio"
   ]
  },
  {
   "cell_type": "code",
   "execution_count": 90,
   "metadata": {},
   "outputs": [
    {
     "data": {
      "text/plain": [
       "True"
      ]
     },
     "execution_count": 90,
     "metadata": {},
     "output_type": "execute_result"
    }
   ],
   "source": [
    "portfolio.stocks[0] in portfolio"
   ]
  },
  {
   "cell_type": "code",
   "execution_count": 91,
   "metadata": {},
   "outputs": [
    {
     "data": {
      "text/plain": [
       "True"
      ]
     },
     "execution_count": 91,
     "metadata": {},
     "output_type": "execute_result"
    }
   ],
   "source": [
    "portfolio.benchmark in portfolio"
   ]
  },
  {
   "attachments": {},
   "cell_type": "markdown",
   "metadata": {},
   "source": [
    "### Using Subscriptation"
   ]
  },
  {
   "attachments": {},
   "cell_type": "markdown",
   "metadata": {},
   "source": [
    "You can use the name of the stock to get the `Stock` from the `Portfolio` object:"
   ]
  },
  {
   "cell_type": "code",
   "execution_count": 92,
   "metadata": {},
   "outputs": [
    {
     "data": {
      "text/plain": [
       "Stock(name=AAPL)"
      ]
     },
     "execution_count": 92,
     "metadata": {},
     "output_type": "execute_result"
    }
   ],
   "source": [
    "portfolio[\"AAPL\"]"
   ]
  },
  {
   "cell_type": "code",
   "execution_count": 94,
   "metadata": {},
   "outputs": [
    {
     "data": {
      "text/plain": [
       "Stock(name=Dow_Jones)"
      ]
     },
     "execution_count": 94,
     "metadata": {},
     "output_type": "execute_result"
    }
   ],
   "source": [
    "portfolio[\"Dow_Jones\"]"
   ]
  },
  {
   "attachments": {},
   "cell_type": "markdown",
   "metadata": {},
   "source": [
    "### Iteration"
   ]
  },
  {
   "attachments": {},
   "cell_type": "markdown",
   "metadata": {},
   "source": [
    "You can iterate over the `Portfolio`."
   ]
  },
  {
   "cell_type": "code",
   "execution_count": 97,
   "metadata": {},
   "outputs": [
    {
     "name": "stdout",
     "output_type": "stream",
     "text": [
      "Dow_Jones Dow_Jones\n",
      "AAPL AAPL\n",
      "TSLA TSLA\n",
      "MSFT MSFT\n"
     ]
    }
   ],
   "source": [
    "for stock, name in portfolio:\n",
    "    print(stock.name, name)"
   ]
  },
  {
   "attachments": {},
   "cell_type": "markdown",
   "metadata": {},
   "source": [
    "The `Portfolio` iterator yields the `Stock ` and name of the stock. Note that the first entry is that of the benchmark."
   ]
  },
  {
   "attachments": {},
   "cell_type": "markdown",
   "metadata": {},
   "source": [
    "You can use the `list` constructor to create a list of stock and names:"
   ]
  },
  {
   "cell_type": "code",
   "execution_count": 98,
   "metadata": {},
   "outputs": [
    {
     "data": {
      "text/plain": [
       "[(Stock(name=Dow_Jones), 'Dow_Jones'),\n",
       " (Stock(name=AAPL), 'AAPL'),\n",
       " (Stock(name=TSLA), 'TSLA'),\n",
       " (Stock(name=MSFT), 'MSFT')]"
      ]
     },
     "execution_count": 98,
     "metadata": {},
     "output_type": "execute_result"
    }
   ],
   "source": [
    "list(portfolio)"
   ]
  },
  {
   "attachments": {},
   "cell_type": "markdown",
   "metadata": {},
   "source": [
    "## Merging"
   ]
  },
  {
   "attachments": {},
   "cell_type": "markdown",
   "metadata": {},
   "source": [
    "Merging is necessary for calculating various stock parameters used in the portfolio optimization models. For this reason, we have a couple of methods."
   ]
  },
  {
   "attachments": {},
   "cell_type": "markdown",
   "metadata": {},
   "source": [
    "### Merging With the Benchmark"
   ]
  },
  {
   "attachments": {},
   "cell_type": "markdown",
   "metadata": {},
   "source": [
    "This is necessary for calculating $\\alpha$ and $\\beta$ parameters. This is realized by using the function `merge_stock_with_benchmark`"
   ]
  },
  {
   "cell_type": "code",
   "execution_count": 38,
   "metadata": {},
   "outputs": [],
   "source": [
    "merged = portfolio.merge_stock_with_benchmark(\"AAPL\")"
   ]
  },
  {
   "cell_type": "code",
   "execution_count": 40,
   "metadata": {},
   "outputs": [
    {
     "data": {
      "text/html": [
       "<div>\n",
       "<style scoped>\n",
       "    .dataframe tbody tr th:only-of-type {\n",
       "        vertical-align: middle;\n",
       "    }\n",
       "\n",
       "    .dataframe tbody tr th {\n",
       "        vertical-align: top;\n",
       "    }\n",
       "\n",
       "    .dataframe thead th {\n",
       "        text-align: right;\n",
       "    }\n",
       "</style>\n",
       "<table border=\"1\" class=\"dataframe\">\n",
       "  <thead>\n",
       "    <tr style=\"text-align: right;\">\n",
       "      <th></th>\n",
       "      <th>Dow_Jones_Open</th>\n",
       "      <th>Dow_Jones_High</th>\n",
       "      <th>Dow_Jones_Low</th>\n",
       "      <th>Dow_Jones_Close</th>\n",
       "      <th>Dow_Jones_Adj Close</th>\n",
       "      <th>Dow_Jones_Volume</th>\n",
       "      <th>AAPL_Open</th>\n",
       "      <th>AAPL_High</th>\n",
       "      <th>AAPL_Low</th>\n",
       "      <th>AAPL_Close</th>\n",
       "      <th>AAPL_Adj Close</th>\n",
       "      <th>AAPL_Volume</th>\n",
       "    </tr>\n",
       "    <tr>\n",
       "      <th>Date</th>\n",
       "      <th></th>\n",
       "      <th></th>\n",
       "      <th></th>\n",
       "      <th></th>\n",
       "      <th></th>\n",
       "      <th></th>\n",
       "      <th></th>\n",
       "      <th></th>\n",
       "      <th></th>\n",
       "      <th></th>\n",
       "      <th></th>\n",
       "      <th></th>\n",
       "    </tr>\n",
       "  </thead>\n",
       "  <tbody>\n",
       "    <tr>\n",
       "      <th>2012-01-31</th>\n",
       "      <td>12632.900391</td>\n",
       "      <td>12632.900391</td>\n",
       "      <td>12632.900391</td>\n",
       "      <td>12632.900391</td>\n",
       "      <td>12632.900391</td>\n",
       "      <td>0</td>\n",
       "      <td>16.271070</td>\n",
       "      <td>16.365713</td>\n",
       "      <td>16.181070</td>\n",
       "      <td>16.302856</td>\n",
       "      <td>13.896848</td>\n",
       "      <td>391683600</td>\n",
       "    </tr>\n",
       "    <tr>\n",
       "      <th>2012-02-29</th>\n",
       "      <td>12952.099609</td>\n",
       "      <td>12952.099609</td>\n",
       "      <td>12952.099609</td>\n",
       "      <td>12952.099609</td>\n",
       "      <td>12952.099609</td>\n",
       "      <td>0</td>\n",
       "      <td>19.341429</td>\n",
       "      <td>19.557501</td>\n",
       "      <td>19.132143</td>\n",
       "      <td>19.372856</td>\n",
       "      <td>16.513771</td>\n",
       "      <td>952011200</td>\n",
       "    </tr>\n",
       "    <tr>\n",
       "      <th>2012-03-31</th>\n",
       "      <td>13212.000000</td>\n",
       "      <td>13212.000000</td>\n",
       "      <td>13212.000000</td>\n",
       "      <td>13212.000000</td>\n",
       "      <td>13212.000000</td>\n",
       "      <td>0</td>\n",
       "      <td>21.741785</td>\n",
       "      <td>21.805714</td>\n",
       "      <td>21.355000</td>\n",
       "      <td>21.412500</td>\n",
       "      <td>18.252399</td>\n",
       "      <td>731038000</td>\n",
       "    </tr>\n",
       "    <tr>\n",
       "      <th>2012-04-30</th>\n",
       "      <td>13213.599609</td>\n",
       "      <td>13213.599609</td>\n",
       "      <td>13213.599609</td>\n",
       "      <td>13213.599609</td>\n",
       "      <td>13213.599609</td>\n",
       "      <td>0</td>\n",
       "      <td>21.350000</td>\n",
       "      <td>21.371429</td>\n",
       "      <td>20.821428</td>\n",
       "      <td>20.856428</td>\n",
       "      <td>17.778395</td>\n",
       "      <td>506144800</td>\n",
       "    </tr>\n",
       "    <tr>\n",
       "      <th>2012-05-31</th>\n",
       "      <td>12393.500000</td>\n",
       "      <td>12393.500000</td>\n",
       "      <td>12393.500000</td>\n",
       "      <td>12393.500000</td>\n",
       "      <td>12393.500000</td>\n",
       "      <td>0</td>\n",
       "      <td>20.740713</td>\n",
       "      <td>20.767857</td>\n",
       "      <td>20.409286</td>\n",
       "      <td>20.633215</td>\n",
       "      <td>17.588120</td>\n",
       "      <td>491674400</td>\n",
       "    </tr>\n",
       "  </tbody>\n",
       "</table>\n",
       "</div>"
      ],
      "text/plain": [
       "            Dow_Jones_Open  Dow_Jones_High  Dow_Jones_Low  Dow_Jones_Close  \\\n",
       "Date                                                                         \n",
       "2012-01-31    12632.900391    12632.900391   12632.900391     12632.900391   \n",
       "2012-02-29    12952.099609    12952.099609   12952.099609     12952.099609   \n",
       "2012-03-31    13212.000000    13212.000000   13212.000000     13212.000000   \n",
       "2012-04-30    13213.599609    13213.599609   13213.599609     13213.599609   \n",
       "2012-05-31    12393.500000    12393.500000   12393.500000     12393.500000   \n",
       "\n",
       "            Dow_Jones_Adj Close  Dow_Jones_Volume  AAPL_Open  AAPL_High  \\\n",
       "Date                                                                      \n",
       "2012-01-31         12632.900391                 0  16.271070  16.365713   \n",
       "2012-02-29         12952.099609                 0  19.341429  19.557501   \n",
       "2012-03-31         13212.000000                 0  21.741785  21.805714   \n",
       "2012-04-30         13213.599609                 0  21.350000  21.371429   \n",
       "2012-05-31         12393.500000                 0  20.740713  20.767857   \n",
       "\n",
       "             AAPL_Low  AAPL_Close  AAPL_Adj Close  AAPL_Volume  \n",
       "Date                                                            \n",
       "2012-01-31  16.181070   16.302856       13.896848    391683600  \n",
       "2012-02-29  19.132143   19.372856       16.513771    952011200  \n",
       "2012-03-31  21.355000   21.412500       18.252399    731038000  \n",
       "2012-04-30  20.821428   20.856428       17.778395    506144800  \n",
       "2012-05-31  20.409286   20.633215       17.588120    491674400  "
      ]
     },
     "execution_count": 40,
     "metadata": {},
     "output_type": "execute_result"
    }
   ],
   "source": [
    "merged.head()"
   ]
  },
  {
   "attachments": {},
   "cell_type": "markdown",
   "metadata": {},
   "source": [
    "> When merging, it is recommended that you use just those columns which will be required later. Usually the column \"Close\" is the only one which is useful so it is good idea to use just this column while calling `load_all` method."
   ]
  },
  {
   "attachments": {},
   "cell_type": "markdown",
   "metadata": {},
   "source": [
    "### Merge Everything"
   ]
  },
  {
   "attachments": {},
   "cell_type": "markdown",
   "metadata": {},
   "source": [
    "Use the `merge_all` function for this. This merges all the stocks with benchmark. Note that all stocks must be loaded."
   ]
  },
  {
   "cell_type": "code",
   "execution_count": 41,
   "metadata": {},
   "outputs": [],
   "source": [
    "merged_all = portfolio.merge_all()"
   ]
  },
  {
   "cell_type": "code",
   "execution_count": 42,
   "metadata": {},
   "outputs": [
    {
     "data": {
      "text/plain": [
       "Index(['Dow_Jones_Open', 'Dow_Jones_High', 'Dow_Jones_Low', 'Dow_Jones_Close',\n",
       "       'Dow_Jones_Adj Close', 'Dow_Jones_Volume', 'AAPL_Open', 'AAPL_High',\n",
       "       'AAPL_Low', 'AAPL_Close', 'AAPL_Adj Close', 'AAPL_Volume', 'TSLA_Open',\n",
       "       'TSLA_High', 'TSLA_Low', 'TSLA_Close', 'TSLA_Adj Close', 'TSLA_Volume',\n",
       "       'MSFT_Open', 'MSFT_High', 'MSFT_Low', 'MSFT_Close', 'MSFT_Adj Close',\n",
       "       'MSFT_Volume'],\n",
       "      dtype='object')"
      ]
     },
     "execution_count": 42,
     "metadata": {},
     "output_type": "execute_result"
    }
   ],
   "source": [
    "merged_all.columns"
   ]
  },
  {
   "attachments": {},
   "cell_type": "markdown",
   "metadata": {},
   "source": [
    "Since we used all the columns while loading, after the `merge_all`, you get huge number of columns."
   ]
  },
  {
   "attachments": {},
   "cell_type": "markdown",
   "metadata": {},
   "source": [
    "## Returning the Return"
   ]
  },
  {
   "attachments": {},
   "cell_type": "markdown",
   "metadata": {},
   "source": [
    "Return of a stock is its one of the most important feature. The `Portfolio` class provides a number of way to get this."
   ]
  },
  {
   "attachments": {},
   "cell_type": "markdown",
   "metadata": {},
   "source": [
    "Of course, you can get the return by calling the methods inbuilt in the `Stock` object. Here, we'll discuss methods of the `Portfolio` object. "
   ]
  },
  {
   "attachments": {},
   "cell_type": "markdown",
   "metadata": {},
   "source": [
    "> Both of these methods as well as most of the method discussed below takes a parameter `column` dictating which column to use while calculating the corresponding values. The default is \"Close\" and you should not change this. An exception is when you want to use the \"Adj. Close\". However, in that case too, it is recommended that you change the column name from \"Adj. Close\" to \"Close\" while loading the data."
   ]
  },
  {
   "attachments": {},
   "cell_type": "markdown",
   "metadata": {},
   "source": [
    "### Return of A Single Stock"
   ]
  },
  {
   "attachments": {},
   "cell_type": "markdown",
   "metadata": {},
   "source": [
    "This can be determined using the `get_stock_return` method. As usualy, pass the name of the stock. The method also taked a `frequency` parameter."
   ]
  },
  {
   "cell_type": "code",
   "execution_count": 62,
   "metadata": {},
   "outputs": [],
   "source": [
    "apple_return, apple_std = portfolio.get_stock_return(\"AAPL\")"
   ]
  },
  {
   "cell_type": "code",
   "execution_count": 65,
   "metadata": {},
   "outputs": [
    {
     "data": {
      "text/plain": [
       "(0.02034460996923982, 0.08107760447739829)"
      ]
     },
     "execution_count": 65,
     "metadata": {},
     "output_type": "execute_result"
    }
   ],
   "source": [
    "apple_return, apple_std"
   ]
  },
  {
   "attachments": {},
   "cell_type": "markdown",
   "metadata": {},
   "source": [
    ">The methods in this object are implemented to give an average return. If you want to get a series of return, use the methods of the `Stock` object."
   ]
  },
  {
   "attachments": {},
   "cell_type": "markdown",
   "metadata": {},
   "source": [
    "### Return of All Stocks"
   ]
  },
  {
   "attachments": {},
   "cell_type": "markdown",
   "metadata": {},
   "source": [
    "Use the `get_all_stock_returns` function!"
   ]
  },
  {
   "cell_type": "code",
   "execution_count": 66,
   "metadata": {},
   "outputs": [
    {
     "data": {
      "text/html": [
       "<div>\n",
       "<style scoped>\n",
       "    .dataframe tbody tr th:only-of-type {\n",
       "        vertical-align: middle;\n",
       "    }\n",
       "\n",
       "    .dataframe tbody tr th {\n",
       "        vertical-align: top;\n",
       "    }\n",
       "\n",
       "    .dataframe thead th {\n",
       "        text-align: right;\n",
       "    }\n",
       "</style>\n",
       "<table border=\"1\" class=\"dataframe\">\n",
       "  <thead>\n",
       "    <tr style=\"text-align: right;\">\n",
       "      <th></th>\n",
       "      <th>Stock</th>\n",
       "      <th>Monthly_Mean_Return</th>\n",
       "      <th>Monthly_Return_STD</th>\n",
       "    </tr>\n",
       "  </thead>\n",
       "  <tbody>\n",
       "    <tr>\n",
       "      <th>0</th>\n",
       "      <td>AAPL</td>\n",
       "      <td>0.020345</td>\n",
       "      <td>0.081078</td>\n",
       "    </tr>\n",
       "    <tr>\n",
       "      <th>1</th>\n",
       "      <td>TSLA</td>\n",
       "      <td>0.050261</td>\n",
       "      <td>0.182803</td>\n",
       "    </tr>\n",
       "    <tr>\n",
       "      <th>2</th>\n",
       "      <td>MSFT</td>\n",
       "      <td>0.018516</td>\n",
       "      <td>0.060729</td>\n",
       "    </tr>\n",
       "  </tbody>\n",
       "</table>\n",
       "</div>"
      ],
      "text/plain": [
       "  Stock  Monthly_Mean_Return  Monthly_Return_STD\n",
       "0  AAPL             0.020345            0.081078\n",
       "1  TSLA             0.050261            0.182803\n",
       "2  MSFT             0.018516            0.060729"
      ]
     },
     "execution_count": 66,
     "metadata": {},
     "output_type": "execute_result"
    }
   ],
   "source": [
    "monthly_returns = portfolio.get_all_stock_returns()\n",
    "monthly_returns"
   ]
  },
  {
   "attachments": {},
   "cell_type": "markdown",
   "metadata": {},
   "source": [
    "### What About the Whole Portfolio?"
   ]
  },
  {
   "attachments": {},
   "cell_type": "markdown",
   "metadata": {},
   "source": [
    "Well, you can use the `portfolio_return` method to get this. The function gives a weighted return. You can also specify the `weights`."
   ]
  },
  {
   "cell_type": "code",
   "execution_count": 68,
   "metadata": {},
   "outputs": [
    {
     "data": {
      "text/plain": [
       "0.029707288531672652"
      ]
     },
     "execution_count": 68,
     "metadata": {},
     "output_type": "execute_result"
    }
   ],
   "source": [
    "portfolio_return_equal, _ = portfolio.portfolio_return()\n",
    "portfolio_return_equal"
   ]
  },
  {
   "cell_type": "code",
   "execution_count": 70,
   "metadata": {},
   "outputs": [
    {
     "data": {
      "text/plain": [
       "0.02034460996923982"
      ]
     },
     "execution_count": 70,
     "metadata": {},
     "output_type": "execute_result"
    }
   ],
   "source": [
    "portfolio_return_just_apple, _ = portfolio.portfolio_return(weights=[1,0,0])\n",
    "portfolio_return_just_apple"
   ]
  },
  {
   "attachments": {},
   "cell_type": "markdown",
   "metadata": {},
   "source": [
    "## Calculating the Stock Parameters"
   ]
  },
  {
   "attachments": {},
   "cell_type": "markdown",
   "metadata": {},
   "source": [
    "### alpha and beta"
   ]
  },
  {
   "attachments": {},
   "cell_type": "markdown",
   "metadata": {},
   "source": [
    "These two parameters are required for the CAPM and SIM models. There are two methods for calculating this:"
   ]
  },
  {
   "attachments": {},
   "cell_type": "markdown",
   "metadata": {},
   "source": [
    "#### `get_stock_params`"
   ]
  },
  {
   "attachments": {},
   "cell_type": "markdown",
   "metadata": {},
   "source": [
    "This function returns the parameters for one stock identified by the name of the stock."
   ]
  },
  {
   "cell_type": "code",
   "execution_count": 47,
   "metadata": {},
   "outputs": [],
   "source": [
    "tesla_alpha, tesla_beta = portfolio.get_stock_params(\"TSLA\")"
   ]
  },
  {
   "cell_type": "code",
   "execution_count": 48,
   "metadata": {},
   "outputs": [
    {
     "name": "stdout",
     "output_type": "stream",
     "text": [
      "0.04086664252883307 1.713736456801432\n"
     ]
    }
   ],
   "source": [
    "print(tesla_alpha, tesla_beta)"
   ]
  },
  {
   "attachments": {},
   "cell_type": "markdown",
   "metadata": {},
   "source": [
    "#### `get_all_stock_params`"
   ]
  },
  {
   "attachments": {},
   "cell_type": "markdown",
   "metadata": {},
   "source": [
    "This returns parameters for all the stocks in the portfolio."
   ]
  },
  {
   "cell_type": "code",
   "execution_count": 54,
   "metadata": {},
   "outputs": [],
   "source": [
    "alpha_beta_all = portfolio.get_all_stock_params(return_dict=False, column=\"Close\")"
   ]
  },
  {
   "cell_type": "code",
   "execution_count": 55,
   "metadata": {},
   "outputs": [
    {
     "data": {
      "text/html": [
       "<div>\n",
       "<style scoped>\n",
       "    .dataframe tbody tr th:only-of-type {\n",
       "        vertical-align: middle;\n",
       "    }\n",
       "\n",
       "    .dataframe tbody tr th {\n",
       "        vertical-align: top;\n",
       "    }\n",
       "\n",
       "    .dataframe thead th {\n",
       "        text-align: right;\n",
       "    }\n",
       "</style>\n",
       "<table border=\"1\" class=\"dataframe\">\n",
       "  <thead>\n",
       "    <tr style=\"text-align: right;\">\n",
       "      <th></th>\n",
       "      <th>Stock</th>\n",
       "      <th>Alpha</th>\n",
       "      <th>Beta</th>\n",
       "    </tr>\n",
       "  </thead>\n",
       "  <tbody>\n",
       "    <tr>\n",
       "      <th>0</th>\n",
       "      <td>AAPL</td>\n",
       "      <td>0.013671</td>\n",
       "      <td>0.976056</td>\n",
       "    </tr>\n",
       "    <tr>\n",
       "      <th>1</th>\n",
       "      <td>TSLA</td>\n",
       "      <td>0.040867</td>\n",
       "      <td>1.713736</td>\n",
       "    </tr>\n",
       "    <tr>\n",
       "      <th>2</th>\n",
       "      <td>MSFT</td>\n",
       "      <td>0.013301</td>\n",
       "      <td>0.858644</td>\n",
       "    </tr>\n",
       "  </tbody>\n",
       "</table>\n",
       "</div>"
      ],
      "text/plain": [
       "  Stock     Alpha      Beta\n",
       "0  AAPL  0.013671  0.976056\n",
       "1  TSLA  0.040867  1.713736\n",
       "2  MSFT  0.013301  0.858644"
      ]
     },
     "execution_count": 55,
     "metadata": {},
     "output_type": "execute_result"
    }
   ],
   "source": [
    "alpha_beta_all"
   ]
  },
  {
   "attachments": {},
   "cell_type": "markdown",
   "metadata": {},
   "source": [
    "After using `get_all_stock_params` method, the `alpha` and `beta` of a stock can also be accessed thorugh the attribute of that stock."
   ]
  },
  {
   "cell_type": "code",
   "execution_count": 59,
   "metadata": {},
   "outputs": [
    {
     "name": "stdout",
     "output_type": "stream",
     "text": [
      "AAPL 0.013670770282234219 0.9760561904155619\n",
      "TSLA 0.04086664252883307 1.713736456801432\n",
      "MSFT 0.013301247231778873 0.8586435486025358\n"
     ]
    }
   ],
   "source": [
    "for stock in portfolio.stocks:\n",
    "    print(stock.name, stock.alpha, stock.beta)"
   ]
  },
  {
   "attachments": {},
   "cell_type": "markdown",
   "metadata": {},
   "source": [
    "The parameters can also be accessed directly from the `Portfolio`:"
   ]
  },
  {
   "cell_type": "code",
   "execution_count": 60,
   "metadata": {},
   "outputs": [
    {
     "data": {
      "text/plain": [
       "([0.013670770282234219, 0.04086664252883307, 0.013301247231778873],\n",
       " [0.9760561904155619, 1.713736456801432, 0.8586435486025358])"
      ]
     },
     "execution_count": 60,
     "metadata": {},
     "output_type": "execute_result"
    }
   ],
   "source": [
    "portfolio.alphas, portfolio.betas"
   ]
  },
  {
   "attachments": {},
   "cell_type": "markdown",
   "metadata": {},
   "source": [
    "### Summary!"
   ]
  },
  {
   "attachments": {},
   "cell_type": "markdown",
   "metadata": {},
   "source": [
    "`Portfolio` object has a `summary` method which gives summary of the portfolio. The method requires `frequency`, `weights` and `column`:"
   ]
  },
  {
   "cell_type": "code",
   "execution_count": 86,
   "metadata": {},
   "outputs": [
    {
     "name": "stdout",
     "output_type": "stream",
     "text": [
      "Portfolio Summary\n",
      "*****************\n",
      "\n",
      "Portfolio with benchmark Dow_Jones and stocks ['AAPL', 'TSLA', 'MSFT']\n",
      "Here are the summary of stocks in the portfolio\n",
      "+----+---------+-----------------------+----------------------+-----------+----------+----------+\n",
      "|    | Stock   |   Monthly_Mean_Return |   Monthly_Return_STD |     Alpha |     Beta |   Weight |\n",
      "|----+---------+-----------------------+----------------------+-----------+----------+----------|\n",
      "|  0 | AAPL    |             0.0203446 |            0.0810776 | 0.0136708 | 0.976056 | 0.333333 |\n",
      "|  1 | TSLA    |             0.0502608 |            0.182803  | 0.0408666 | 1.71374  | 0.333333 |\n",
      "|  2 | MSFT    |             0.0185164 |            0.0607293 | 0.0133012 | 0.858644 | 0.333333 |\n",
      "+----+---------+-----------------------+----------------------+-----------+----------+----------+\n",
      "The covariance matrix is as follows\n",
      "+------+------------+------------+------------+\n",
      "|      |       AAPL |       TSLA |       MSFT |\n",
      "|------+------------+------------+------------|\n",
      "| AAPL | 0.00657358 | 0.00564335 | 0.00248329 |\n",
      "| TSLA | 0.00564335 | 0.033417   | 0.00397697 |\n",
      "| MSFT | 0.00248329 | 0.00397697 | 0.00368805 |\n",
      "+------+------------+------------+------------+\n",
      "Portfolio Return: 0.029707288531672652\n",
      "Portfolio Volatility: 0.18991518028969553\n"
     ]
    }
   ],
   "source": [
    "portfolio.summary()"
   ]
  },
  {
   "attachments": {},
   "cell_type": "markdown",
   "metadata": {},
   "source": [
    "> If you are feeling lazy and don't want to call a couple of methods to calculate the `return`, `alpha` and `beta`, you can just vcall the `summary` method and it calculates all the values under the hood!"
   ]
  },
  {
   "attachments": {},
   "cell_type": "markdown",
   "metadata": {},
   "source": [
    "> The calculation of FFF parameters, however, is not included in the `summary` method. The reason is that calculations of FFF parameters are a bit involved and unless you want to optimize portfolio using the `fff3` or `fff5` model, you don't even need to do the calculations of FFF parameters."
   ]
  },
  {
   "attachments": {},
   "cell_type": "markdown",
   "metadata": {},
   "source": [
    "### FFF Parameters"
   ]
  },
  {
   "attachments": {},
   "cell_type": "markdown",
   "metadata": {},
   "source": [
    "To use the Fama–French three-factor model or five factor model, you need the three or five parameters. As usual, we have two methods to do this:"
   ]
  },
  {
   "attachments": {},
   "cell_type": "markdown",
   "metadata": {},
   "source": [
    "#### `calculate_fff_params_one`"
   ]
  },
  {
   "attachments": {},
   "cell_type": "markdown",
   "metadata": {},
   "source": [
    "This calculates the FFF params for the given stock. You can pass the name of the stock or the stock itself. The function uses the `Stock.load_fff` method to load the FFF data. See the corresponding section for more detail."
   ]
  },
  {
   "cell_type": "code",
   "execution_count": 79,
   "metadata": {},
   "outputs": [],
   "source": [
    "apple_fff5 = portfolio.calculate_fff_params_one(\"AAPL\", frequency=\"M\", factors=5, directory=\"Data\")"
   ]
  },
  {
   "cell_type": "code",
   "execution_count": 75,
   "metadata": {},
   "outputs": [
    {
     "data": {
      "text/plain": [
       "const     0.005514\n",
       "Mkt-RF    1.197614\n",
       "SMB      -0.258640\n",
       "HML      -0.513560\n",
       "RMW       0.750830\n",
       "CMA      -0.181558\n",
       "rf        1.000000\n",
       "dtype: float64"
      ]
     },
     "execution_count": 75,
     "metadata": {},
     "output_type": "execute_result"
    }
   ],
   "source": [
    "apple_fff5"
   ]
  },
  {
   "attachments": {},
   "cell_type": "markdown",
   "metadata": {},
   "source": [
    "#### `calculate_fff_params`"
   ]
  },
  {
   "attachments": {},
   "cell_type": "markdown",
   "metadata": {},
   "source": [
    "You already know what this method does!"
   ]
  },
  {
   "cell_type": "code",
   "execution_count": 80,
   "metadata": {},
   "outputs": [
    {
     "name": "stdout",
     "output_type": "stream",
     "text": [
      "Done. Here are the parameters\n",
      "+-------------+------------+-------------+\n",
      "|        AAPL |       TSLA |        MSFT |\n",
      "|-------------+------------+-------------|\n",
      "|  0.00551378 |  0.0341999 |  0.00794491 |\n",
      "|  1.19761    |  1.87135   |  0.993504   |\n",
      "| -0.25864    | -0.379263  | -0.787259   |\n",
      "| -0.51356    | -0.610234  |  0.0173204  |\n",
      "|  0.75083    | -1.45574   | -0.100924   |\n",
      "| -0.181558   | -0.497976  | -0.529687   |\n",
      "|  1          |  1         |  1          |\n",
      "+-------------+------------+-------------+\n"
     ]
    }
   ],
   "source": [
    "all_ff5 = portfolio.calculate_fff_params(frequency=\"M\", factors=5, directory=\"Data\", verbose=0)"
   ]
  },
  {
   "attachments": {},
   "cell_type": "markdown",
   "metadata": {},
   "source": [
    "One you have calculated the fff parameters, you can access this with the `params` attribute of `Stock` object."
   ]
  },
  {
   "cell_type": "code",
   "execution_count": 82,
   "metadata": {},
   "outputs": [
    {
     "data": {
      "text/plain": [
       "const     0.005514\n",
       "Mkt-RF    1.197614\n",
       "SMB      -0.258640\n",
       "HML      -0.513560\n",
       "RMW       0.750830\n",
       "CMA      -0.181558\n",
       "rf        1.000000\n",
       "dtype: float64"
      ]
     },
     "execution_count": 82,
     "metadata": {},
     "output_type": "execute_result"
    }
   ],
   "source": [
    "portfolio[\"AAPL\"].params"
   ]
  },
  {
   "attachments": {},
   "cell_type": "markdown",
   "metadata": {},
   "source": [
    "Or use the `stock_params` attribute of the `Portfolio` object:"
   ]
  },
  {
   "cell_type": "code",
   "execution_count": 84,
   "metadata": {},
   "outputs": [
    {
     "data": {
      "text/plain": [
       "{'AAPL': const     0.005514\n",
       " Mkt-RF    1.197614\n",
       " SMB      -0.258640\n",
       " HML      -0.513560\n",
       " RMW       0.750830\n",
       " CMA      -0.181558\n",
       " rf        1.000000\n",
       " dtype: float64,\n",
       " 'TSLA': const     0.034200\n",
       " Mkt-RF    1.871348\n",
       " SMB      -0.379263\n",
       " HML      -0.610234\n",
       " RMW      -1.455743\n",
       " CMA      -0.497976\n",
       " rf        1.000000\n",
       " dtype: float64,\n",
       " 'MSFT': const     0.007945\n",
       " Mkt-RF    0.993504\n",
       " SMB      -0.787259\n",
       " HML       0.017320\n",
       " RMW      -0.100924\n",
       " CMA      -0.529687\n",
       " rf        1.000000\n",
       " dtype: float64}"
      ]
     },
     "execution_count": 84,
     "metadata": {},
     "output_type": "execute_result"
    }
   ],
   "source": [
    "portfolio.stock_params"
   ]
  },
  {
   "attachments": {},
   "cell_type": "markdown",
   "metadata": {},
   "source": [
    "#### The Mean Values"
   ]
  },
  {
   "attachments": {},
   "cell_type": "markdown",
   "metadata": {},
   "source": [
    "These values are required while calculating the expected stock return using `fff3` or `fff5` method. If you have called `calculate_fff_params_one` or `calculate_fff_params` method, yoy don't need to do anything else. The mean values have been calculated and can be accessed by `mean_values` attribute. If you have not called at least one of these methods, well, call it!"
   ]
  },
  {
   "cell_type": "code",
   "execution_count": 85,
   "metadata": {},
   "outputs": [
    {
     "data": {
      "text/plain": [
       "const     1.000000\n",
       "Mkt-RF    0.005592\n",
       "SMB       0.002236\n",
       "HML       0.003101\n",
       "RMW       0.002819\n",
       "CMA       0.002955\n",
       "RF        0.003621\n",
       "dtype: float64"
      ]
     },
     "execution_count": 85,
     "metadata": {},
     "output_type": "execute_result"
    }
   ],
   "source": [
    "portfolio.mean_values"
   ]
  },
  {
   "attachments": {},
   "cell_type": "markdown",
   "metadata": {},
   "source": [
    "# `Model` Class"
   ]
  },
  {
   "attachments": {},
   "cell_type": "markdown",
   "metadata": {},
   "source": [
    "This class has methods to optimize the portfolio. The class is build on top of the `Portfolio` class. Let's get started!"
   ]
  },
  {
   "attachments": {},
   "cell_type": "markdown",
   "metadata": {},
   "source": [
    "## Getting Started With `Model`"
   ]
  },
  {
   "attachments": {},
   "cell_type": "markdown",
   "metadata": {},
   "source": [
    "Let's instantiate the model:"
   ]
  },
  {
   "cell_type": "code",
   "execution_count": 3,
   "metadata": {},
   "outputs": [],
   "source": [
    "model = Model(\"M\")"
   ]
  },
  {
   "attachments": {},
   "cell_type": "markdown",
   "metadata": {},
   "source": [
    "The only parameters which the `Model` expects are the `frequency` and `risk_free_rate`."
   ]
  },
  {
   "attachments": {},
   "cell_type": "markdown",
   "metadata": {},
   "source": [
    "### Creating a Portfolio"
   ]
  },
  {
   "attachments": {},
   "cell_type": "markdown",
   "metadata": {},
   "source": [
    "The easiest way to get started with `Model` is by using the `create_portfolio` method. This method creates a portfolio by using the `benchmark_dir`, `benchmark_name`, `stock_dirs`, and `stock_names`. The method accepts some other parameters which are necessary to create a `Portfolio`."
   ]
  },
  {
   "cell_type": "code",
   "execution_count": 5,
   "metadata": {},
   "outputs": [
    {
     "name": "stdout",
     "output_type": "stream",
     "text": [
      "Loading benchmark...\n",
      "Loading stocks...\n",
      "Calculating other results...\n",
      "Portfolio Summary\n",
      "*****************\n",
      "\n",
      "Portfolio with benchmark S&P and stocks ['AAPL', 'MSFT', 'GOOG', 'TSLA']\n",
      "Here are the summary of stocks in the portfolio\n",
      "+----+---------+-----------------------+----------------------+------------+----------+----------+\n",
      "|    | Stock   |   Monthly_Mean_Return |   Monthly_Return_STD |      Alpha |     Beta |   Weight |\n",
      "|----+---------+-----------------------+----------------------+------------+----------+----------|\n",
      "|  0 | AAPL    |             0.0216164 |            0.0813903 | 0.00979829 | 1.22897  |     0.25 |\n",
      "|  1 | MSFT    |             0.0202463 |            0.0607759 | 0.010973   | 0.964346 |     0.25 |\n",
      "|  2 | GOOG    |             0.0171436 |            0.0645638 | 0.00711404 | 1.04298  |     0.25 |\n",
      "|  3 | TSLA    |             0.0502608 |            0.182803  | 0.0336704  | 1.72526  |     0.25 |\n",
      "+----+---------+-----------------------+----------------------+------------+----------+----------+\n",
      "The covariance matrix is as follows\n",
      "+------+------------+------------+------------+------------+\n",
      "|      |       AAPL |       MSFT |       GOOG |       TSLA |\n",
      "|------+------------+------------+------------+------------|\n",
      "| AAPL | 0.00662438 | 0.00252134 | 0.00215109 | 0.00566592 |\n",
      "| MSFT | 0.00252134 | 0.00369371 | 0.00230756 | 0.00399494 |\n",
      "| GOOG | 0.00215109 | 0.00230756 | 0.00416849 | 0.00347788 |\n",
      "| TSLA | 0.00566592 | 0.00399494 | 0.00347788 | 0.033417   |\n",
      "+------+------------+------------+------------+------------+\n",
      "Portfolio Return: 0.02731678889316875\n",
      "Portfolio Volatility: 0.15603147059665842\n"
     ]
    }
   ],
   "source": [
    "benchmark_dir = \"Data/GSPC.csv\"\n",
    "benchmark_name = \"S&P\"\n",
    "\n",
    "stock_dirs = [\"Data/AAPL.csv\", \"Data/MSFT.csv\", \"Data/GOOG.csv\", \"Data/TSLA.csv\"]\n",
    "stock_names = [\"AAPL\", \"MSFT\", \"GOOG\", \"TSLA\"]\n",
    "\n",
    "frequency = \"M\"\n",
    "start_date = \"2012-01-01\"\n",
    "end_date = \"2022-12-20\"\n",
    "\n",
    "portfolio = model.create_portfolio(\n",
    "    benchmark_dir=benchmark_dir,\n",
    "    benchmark_name=benchmark_name,\n",
    "    stock_dirs=stock_dirs,\n",
    "    stock_names=stock_names,\n",
    "    frequency=frequency,\n",
    "    start_date=start_date,\n",
    "    end_date=end_date\n",
    ")\n"
   ]
  },
  {
   "attachments": {},
   "cell_type": "markdown",
   "metadata": {},
   "source": [
    "The `create_portfolio` method returns the `Portfolio` object. It does all the work of loading the data, merging the data and calculating the parameters. If your goal is to optimize portfolio using `capm` or `sim` model, you don't need to do anything else. Just call the `optimize_portfolio` method."
   ]
  },
  {
   "attachments": {},
   "cell_type": "markdown",
   "metadata": {},
   "source": [
    "This method, by default, loads just the \"Adj. Close\" column and renames it to \"Close\" column."
   ]
  },
  {
   "attachments": {},
   "cell_type": "markdown",
   "metadata": {},
   "source": [
    "Though this method is enough for many works, it is not recommended way to use the module. You should create a `Portfolio` object and then use other method to add it to the `Model` object."
   ]
  },
  {
   "attachments": {},
   "cell_type": "markdown",
   "metadata": {},
   "source": [
    "### Adding a Portfolio"
   ]
  },
  {
   "attachments": {},
   "cell_type": "markdown",
   "metadata": {},
   "source": [
    "Start by creating a `Portfolio` object. Then, use the `add_portfolio` method to add it to the `Model` object."
   ]
  },
  {
   "cell_type": "code",
   "execution_count": 7,
   "metadata": {},
   "outputs": [],
   "source": [
    "benchmark_dir = \"Data/GSPC.csv\"\n",
    "benchmark_name = \"S&P\"\n",
    "\n",
    "stock_dirs = [\"Data/AAPL.csv\", \"Data/MSFT.csv\", \"Data/GOOG.csv\", \"Data/TSLA.csv\"]\n",
    "stock_names = [\"AAPL\", \"MSFT\", \"GOOG\", \"TSLA\"]\n",
    "\n",
    "frequency = \"M\"\n",
    "pt = Portfolio(benchmark_dir, benchmark_name, stock_dirs, stock_names)\n",
    "start_date = \"2012-01-01\"\n",
    "end_date = \"2022-12-20\"\n",
    "pt.load_benchmark(\n",
    "    columns=[\"Adj Close\"],\n",
    "    rename_cols=[\"Close\"],\n",
    "    start_date=start_date,\n",
    "    end_date=end_date,\n",
    "    frequency=frequency,\n",
    ")\n",
    "pt.load_all(\n",
    "    columns=[\"Adj Close\"],\n",
    "    rename_cols=[\"Close\"],\n",
    "    start_date=start_date,\n",
    "    end_date=end_date,\n",
    "    frequency=frequency,\n",
    ")"
   ]
  },
  {
   "attachments": {},
   "cell_type": "markdown",
   "metadata": {},
   "source": [
    "Let's print the portfolio summary:"
   ]
  },
  {
   "cell_type": "code",
   "execution_count": 8,
   "metadata": {},
   "outputs": [
    {
     "name": "stdout",
     "output_type": "stream",
     "text": [
      "Portfolio Summary\n",
      "*****************\n",
      "\n",
      "Portfolio with benchmark S&P and stocks ['AAPL', 'MSFT', 'GOOG', 'TSLA']\n",
      "Here are the summary of stocks in the portfolio\n",
      "+----+---------+-----------------------+----------------------+------------+----------+----------+\n",
      "|    | Stock   |   Monthly_Mean_Return |   Monthly_Return_STD |      Alpha |     Beta |   Weight |\n",
      "|----+---------+-----------------------+----------------------+------------+----------+----------|\n",
      "|  0 | AAPL    |             0.0216164 |            0.0813903 | 0.00979829 | 1.22897  |     0.25 |\n",
      "|  1 | MSFT    |             0.0202463 |            0.0607759 | 0.010973   | 0.964346 |     0.25 |\n",
      "|  2 | GOOG    |             0.0171436 |            0.0645638 | 0.00711404 | 1.04298  |     0.25 |\n",
      "|  3 | TSLA    |             0.0502608 |            0.182803  | 0.0336704  | 1.72526  |     0.25 |\n",
      "+----+---------+-----------------------+----------------------+------------+----------+----------+\n",
      "The covariance matrix is as follows\n",
      "+------+------------+------------+------------+------------+\n",
      "|      |       AAPL |       MSFT |       GOOG |       TSLA |\n",
      "|------+------------+------------+------------+------------|\n",
      "| AAPL | 0.00662438 | 0.00252134 | 0.00215109 | 0.00566592 |\n",
      "| MSFT | 0.00252134 | 0.00369371 | 0.00230756 | 0.00399494 |\n",
      "| GOOG | 0.00215109 | 0.00230756 | 0.00416849 | 0.00347788 |\n",
      "| TSLA | 0.00566592 | 0.00399494 | 0.00347788 | 0.033417   |\n",
      "+------+------------+------------+------------+------------+\n",
      "Portfolio Return: 0.02731678889316875\n",
      "Portfolio Volatility: 0.15603147059665842\n"
     ]
    }
   ],
   "source": [
    "pt.summary()"
   ]
  },
  {
   "attachments": {},
   "cell_type": "markdown",
   "metadata": {},
   "source": [
    "Note that you need to calculate the FFF parameters explicitly if you want to use the FFF models. Let's do that:"
   ]
  },
  {
   "cell_type": "code",
   "execution_count": 9,
   "metadata": {},
   "outputs": [
    {
     "name": "stdout",
     "output_type": "stream",
     "text": [
      "Done. Here are the parameters\n",
      "+-------------+-------------+-------------+------------+\n",
      "|        AAPL |        MSFT |        GOOG |       TSLA |\n",
      "|-------------+-------------+-------------+------------|\n",
      "|  0.00682682 |  0.00970946 |  0.00699103 |  0.0341999 |\n",
      "|  1.19736    |  0.994033   |  1.01023    |  1.87135   |\n",
      "| -0.249423   | -0.776582   | -0.572982   | -0.379263  |\n",
      "| -0.512566   |  0.0184882  |  0.199086   | -0.610234  |\n",
      "|  0.749702   | -0.103125   | -0.107732   | -1.45574   |\n",
      "| -0.201821   | -0.548657   | -0.867854   | -0.497976  |\n",
      "|  1          |  1          |  1          |  1         |\n",
      "+-------------+-------------+-------------+------------+\n"
     ]
    }
   ],
   "source": [
    "pt.calculate_fff_params(frequency=\"M\", factors=5, directory=\"Data\", verbose=0)"
   ]
  },
  {
   "attachments": {},
   "cell_type": "markdown",
   "metadata": {},
   "source": [
    "Great! Now you can optimize the portfolio. But there is another method which we need to discuss."
   ]
  },
  {
   "attachments": {},
   "cell_type": "markdown",
   "metadata": {},
   "source": [
    "### Updating a Portfolio"
   ]
  },
  {
   "attachments": {},
   "cell_type": "markdown",
   "metadata": {},
   "source": [
    "The `Model` object accepts just one `Portfolio`. You can update the portfolio with another one:"
   ]
  },
  {
   "cell_type": "code",
   "execution_count": 10,
   "metadata": {},
   "outputs": [],
   "source": [
    "benchmark_dir = \"Data/GSPC.csv\"\n",
    "benchmark_name = \"S&P\"\n",
    "\n",
    "stock_dirs = [\"Data/AAPL.csv\", \"Data/MSFT.csv\", \"Data/GOOG.csv\"]\n",
    "stock_names = [\"AAPL\", \"MSFT\", \"GOOG\"]\n",
    "\n",
    "frequency = \"M\"\n",
    "pt2 = Portfolio(benchmark_dir, benchmark_name, stock_dirs, stock_names)\n",
    "start_date = \"2012-01-01\"\n",
    "end_date = \"2022-12-20\"\n",
    "pt2.load_benchmark(\n",
    "    columns=[\"Adj Close\"],\n",
    "    rename_cols=[\"Close\"],\n",
    "    start_date=start_date,\n",
    "    end_date=end_date,\n",
    "    frequency=frequency,\n",
    ")\n",
    "pt2.load_all(\n",
    "    columns=[\"Adj Close\"],\n",
    "    rename_cols=[\"Close\"],\n",
    "    start_date=start_date,\n",
    "    end_date=end_date,\n",
    "    frequency=frequency,\n",
    ")"
   ]
  },
  {
   "cell_type": "code",
   "execution_count": 11,
   "metadata": {},
   "outputs": [
    {
     "data": {
      "text/plain": [
       "Portfolio(S&P,['AAPL', 'MSFT', 'GOOG', 'TSLA'])"
      ]
     },
     "execution_count": 11,
     "metadata": {},
     "output_type": "execute_result"
    }
   ],
   "source": [
    "model.portfolio"
   ]
  },
  {
   "cell_type": "code",
   "execution_count": 14,
   "metadata": {},
   "outputs": [
    {
     "name": "stdout",
     "output_type": "stream",
     "text": [
      "Adding portfolio...\n",
      "Portfolio Summary\n",
      "*****************\n",
      "\n",
      "Portfolio with benchmark S&P and stocks ['AAPL', 'MSFT', 'GOOG']\n",
      "Here are the summary of stocks in the portfolio\n",
      "+----+---------+-----------------------+----------------------+------------+----------+----------+\n",
      "|    | Stock   |   Monthly_Mean_Return |   Monthly_Return_STD |      Alpha |     Beta |   Weight |\n",
      "|----+---------+-----------------------+----------------------+------------+----------+----------|\n",
      "|  0 | AAPL    |             0.0216164 |            0.0813903 | 0.00979829 | 1.22897  | 0.333333 |\n",
      "|  1 | MSFT    |             0.0202463 |            0.0607759 | 0.010973   | 0.964346 | 0.333333 |\n",
      "|  2 | GOOG    |             0.0171436 |            0.0645638 | 0.00711404 | 1.04298  | 0.333333 |\n",
      "+----+---------+-----------------------+----------------------+------------+----------+----------+\n",
      "The covariance matrix is as follows\n",
      "+------+------------+------------+------------+\n",
      "|      |       AAPL |       MSFT |       GOOG |\n",
      "|------+------------+------------+------------|\n",
      "| AAPL | 0.00662438 | 0.00252134 | 0.00215109 |\n",
      "| MSFT | 0.00252134 | 0.00369371 | 0.00230756 |\n",
      "| GOOG | 0.00215109 | 0.00230756 | 0.00416849 |\n",
      "+------+------------+------------+------------+\n",
      "Portfolio Return: 0.019668774918203367\n",
      "Portfolio Volatility: 0.15155859087536744\n"
     ]
    }
   ],
   "source": [
    "model.update_portfolio(pt2, weights=\"equal\")"
   ]
  },
  {
   "cell_type": "code",
   "execution_count": 15,
   "metadata": {},
   "outputs": [
    {
     "data": {
      "text/plain": [
       "Portfolio(S&P,['AAPL', 'MSFT', 'GOOG'])"
      ]
     },
     "execution_count": 15,
     "metadata": {},
     "output_type": "execute_result"
    }
   ],
   "source": [
    "model.portfolio"
   ]
  },
  {
   "attachments": {},
   "cell_type": "markdown",
   "metadata": {},
   "source": [
    "The function calls the `Portfolio.summary()` method to make the model ready for optimization."
   ]
  },
  {
   "attachments": {},
   "cell_type": "markdown",
   "metadata": {},
   "source": [
    "### The `load_portfolio` Function"
   ]
  },
  {
   "attachments": {},
   "cell_type": "markdown",
   "metadata": {},
   "source": [
    "Suppose yoy created a `Portfolio` but have not loaded the data yet. You then add this to the `Model` by setting the `portfolio` attribute. You can use `Model.portfolio` attribute to load the data of benchmark and stocks, or, you can use the `load_portfolio` method which does all this."
   ]
  },
  {
   "cell_type": "code",
   "execution_count": 19,
   "metadata": {},
   "outputs": [],
   "source": [
    "benchmark_dir = \"Data/GSPC.csv\"\n",
    "benchmark_name = \"S&P\"\n",
    "\n",
    "stock_dirs = [\"Data/AAPL.csv\", \"Data/MSFT.csv\", \"Data/GOOG.csv\"]\n",
    "stock_names = [\"AAPL\", \"MSFT\", \"GOOG\"]\n",
    "\n",
    "frequency = \"M\"\n",
    "pt2 = Portfolio(benchmark_dir, benchmark_name, stock_dirs, stock_names)\n",
    "start_date = \"2012-01-01\"\n",
    "end_date = \"2022-12-20\"\n",
    "\n",
    "model = Model(\"M\")\n",
    "\n",
    "model.portfolio = pt2"
   ]
  },
  {
   "cell_type": "code",
   "execution_count": 20,
   "metadata": {},
   "outputs": [
    {
     "data": {
      "text/plain": [
       "Portfolio(S&P,['AAPL', 'MSFT', 'GOOG'])"
      ]
     },
     "execution_count": 20,
     "metadata": {},
     "output_type": "execute_result"
    }
   ],
   "source": [
    "model.portfolio"
   ]
  },
  {
   "cell_type": "code",
   "execution_count": 21,
   "metadata": {},
   "outputs": [
    {
     "name": "stdout",
     "output_type": "stream",
     "text": [
      "Loading benchmark...\n",
      "Loading stocks...\n",
      "Calculating other results...\n",
      "Portfolio Summary\n",
      "*****************\n",
      "\n",
      "Portfolio with benchmark S&P and stocks ['AAPL', 'MSFT', 'GOOG']\n",
      "Here are the summary of stocks in the portfolio\n",
      "+----+---------+-----------------------+----------------------+------------+----------+----------+\n",
      "|    | Stock   |   Monthly_Mean_Return |   Monthly_Return_STD |      Alpha |     Beta |   Weight |\n",
      "|----+---------+-----------------------+----------------------+------------+----------+----------|\n",
      "|  0 | AAPL    |             0.0216164 |            0.0813903 | 0.00979829 | 1.22897  | 0.333333 |\n",
      "|  1 | MSFT    |             0.0202463 |            0.0607759 | 0.010973   | 0.964346 | 0.333333 |\n",
      "|  2 | GOOG    |             0.0171436 |            0.0645638 | 0.00711404 | 1.04298  | 0.333333 |\n",
      "+----+---------+-----------------------+----------------------+------------+----------+----------+\n",
      "The covariance matrix is as follows\n",
      "+------+------------+------------+------------+\n",
      "|      |       AAPL |       MSFT |       GOOG |\n",
      "|------+------------+------------+------------|\n",
      "| AAPL | 0.00662438 | 0.00252134 | 0.00215109 |\n",
      "| MSFT | 0.00252134 | 0.00369371 | 0.00230756 |\n",
      "| GOOG | 0.00215109 | 0.00230756 | 0.00416849 |\n",
      "+------+------------+------------+------------+\n",
      "Portfolio Return: 0.019668774918203367\n",
      "Portfolio Volatility: 0.15155859087536744\n"
     ]
    }
   ],
   "source": [
    "model.load_portfolio(\n",
    "    columns=[\"Adj Close\"],\n",
    "    rename_cols=[\"Close\"],\n",
    "    start_date=start_date,\n",
    "    end_date=end_date,\n",
    "    frequency=frequency,\n",
    ")"
   ]
  },
  {
   "attachments": {},
   "cell_type": "markdown",
   "metadata": {},
   "source": [
    "## Optimization"
   ]
  },
  {
   "attachments": {},
   "cell_type": "markdown",
   "metadata": {},
   "source": [
    "Before optimizing the portfolio, suppose you want to try some `weights` and see how the return and risk is changing. Or you just want to see expected return of a stock based on its calculated parameters. For this the `Model` has some methods. Let's create a model:"
   ]
  },
  {
   "cell_type": "code",
   "execution_count": 12,
   "metadata": {},
   "outputs": [],
   "source": [
    "benchmark_dir = \"Data/GSPC.csv\"\n",
    "benchmark_name = \"S&P\"\n",
    "\n",
    "stock_dirs = [\"Data/AAPL.csv\", \"Data/MSFT.csv\", \"Data/GOOG.csv\", \"Data/TSLA.csv\"]\n",
    "stock_names = [\"AAPL\", \"MSFT\", \"GOOG\", \"TSLA\"]\n",
    "\n",
    "frequency = \"M\"\n",
    "pt = Portfolio(benchmark_dir, benchmark_name, stock_dirs, stock_names)\n",
    "start_date = \"2012-01-01\"\n",
    "end_date = \"2022-12-20\"\n",
    "pt.load_benchmark(\n",
    "    columns=[\"Adj Close\"],\n",
    "    rename_cols=[\"Close\"],\n",
    "    start_date=start_date,\n",
    "    end_date=end_date,\n",
    "    frequency=frequency,\n",
    ")\n",
    "pt.load_all(\n",
    "    columns=[\"Adj Close\"],\n",
    "    rename_cols=[\"Close\"],\n",
    "    start_date=start_date,\n",
    "    end_date=end_date,\n",
    "    frequency=frequency,\n",
    ")"
   ]
  },
  {
   "cell_type": "code",
   "execution_count": 13,
   "metadata": {},
   "outputs": [
    {
     "name": "stdout",
     "output_type": "stream",
     "text": [
      "Adding portfolio...\n",
      "Portfolio Summary\n",
      "*****************\n",
      "\n",
      "Portfolio with benchmark S&P and stocks ['AAPL', 'MSFT', 'GOOG', 'TSLA']\n",
      "Here are the summary of stocks in the portfolio\n",
      "+----+---------+-----------------------+----------------------+------------+----------+----------+\n",
      "|    | Stock   |   Monthly_Mean_Return |   Monthly_Return_STD |      Alpha |     Beta |   Weight |\n",
      "|----+---------+-----------------------+----------------------+------------+----------+----------|\n",
      "|  0 | AAPL    |             0.0216164 |            0.0813903 | 0.00979829 | 1.22897  |     0.25 |\n",
      "|  1 | MSFT    |             0.0202463 |            0.0607759 | 0.010973   | 0.964346 |     0.25 |\n",
      "|  2 | GOOG    |             0.0171436 |            0.0645638 | 0.00711404 | 1.04298  |     0.25 |\n",
      "|  3 | TSLA    |             0.0502608 |            0.182803  | 0.0336704  | 1.72526  |     0.25 |\n",
      "+----+---------+-----------------------+----------------------+------------+----------+----------+\n",
      "The covariance matrix is as follows\n",
      "+------+------------+------------+------------+------------+\n",
      "|      |       AAPL |       MSFT |       GOOG |       TSLA |\n",
      "|------+------------+------------+------------+------------|\n",
      "| AAPL | 0.00662438 | 0.00252134 | 0.00215109 | 0.00566592 |\n",
      "| MSFT | 0.00252134 | 0.00369371 | 0.00230756 | 0.00399494 |\n",
      "| GOOG | 0.00215109 | 0.00230756 | 0.00416849 | 0.00347788 |\n",
      "| TSLA | 0.00566592 | 0.00399494 | 0.00347788 | 0.033417   |\n",
      "+------+------------+------------+------------+------------+\n",
      "Portfolio Return: 0.02731678889316875\n",
      "Portfolio Volatility: 0.15603147059665842\n"
     ]
    }
   ],
   "source": [
    "model = Model()\n",
    "model.add_portfolio(pt, weights=\"equal\")"
   ]
  },
  {
   "attachments": {},
   "cell_type": "markdown",
   "metadata": {},
   "source": [
    "We won't calculate the FFF parameters just yet."
   ]
  },
  {
   "attachments": {},
   "cell_type": "markdown",
   "metadata": {},
   "source": [
    "### `expected_return_of_stock`"
   ]
  },
  {
   "attachments": {},
   "cell_type": "markdown",
   "metadata": {},
   "source": [
    "This function returns what the name says:"
   ]
  },
  {
   "cell_type": "code",
   "execution_count": 5,
   "metadata": {},
   "outputs": [
    {
     "name": "stdout",
     "output_type": "stream",
     "text": [
      "Warning. FFF params have not been calculated. Using ff3 or ff5 model will result in error.\n"
     ]
    },
    {
     "data": {
      "text/plain": [
       "1.1054838377097305"
      ]
     },
     "execution_count": 5,
     "metadata": {},
     "output_type": "execute_result"
    }
   ],
   "source": [
    "exp_return = model.expected_return_of_stock(pt[\"AAPL\"], model=\"capm\")\n",
    "exp_return"
   ]
  },
  {
   "cell_type": "code",
   "execution_count": 6,
   "metadata": {},
   "outputs": [
    {
     "name": "stdout",
     "output_type": "stream",
     "text": [
      "Warning. FFF params have not been calculated. Using ff3 or ff5 model will result in error.\n"
     ]
    },
    {
     "data": {
      "text/plain": [
       "1.115282131986719"
      ]
     },
     "execution_count": 6,
     "metadata": {},
     "output_type": "execute_result"
    }
   ],
   "source": [
    "exp_return = model.expected_return_of_stock(pt[\"AAPL\"], model=\"sim\")\n",
    "exp_return"
   ]
  },
  {
   "attachments": {},
   "cell_type": "markdown",
   "metadata": {},
   "source": [
    "Returns by the `capm` and `sim` models are almost same. Let's try FFF models. As the warning message says, we have to first do the FFF calculations."
   ]
  },
  {
   "cell_type": "code",
   "execution_count": 16,
   "metadata": {},
   "outputs": [
    {
     "name": "stdout",
     "output_type": "stream",
     "text": [
      "Done. Here are the parameters\n",
      "+-------------+-------------+-------------+------------+\n",
      "|        AAPL |        MSFT |        GOOG |       TSLA |\n",
      "|-------------+-------------+-------------+------------|\n",
      "|  0.00682682 |  0.00970946 |  0.00699103 |  0.0341999 |\n",
      "|  1.19736    |  0.994033   |  1.01023    |  1.87135   |\n",
      "| -0.249423   | -0.776582   | -0.572982   | -0.379263  |\n",
      "| -0.512566   |  0.0184882  |  0.199086   | -0.610234  |\n",
      "|  0.749702   | -0.103125   | -0.107732   | -1.45574   |\n",
      "| -0.201821   | -0.548657   | -0.867854   | -0.497976  |\n",
      "|  1          |  1          |  1          |  1         |\n",
      "+-------------+-------------+-------------+------------+\n"
     ]
    }
   ],
   "source": [
    "pt.calculate_fff_params(frequency=\"M\", factors=5, directory=\"Data\", verbose=0)"
   ]
  },
  {
   "cell_type": "code",
   "execution_count": 8,
   "metadata": {},
   "outputs": [
    {
     "data": {
      "text/plain": [
       "1.65139661893182"
      ]
     },
     "execution_count": 8,
     "metadata": {},
     "output_type": "execute_result"
    }
   ],
   "source": [
    "exp_return = model.expected_return_of_stock(pt[\"AAPL\"], model=\"fff5\")\n",
    "exp_return"
   ]
  },
  {
   "cell_type": "code",
   "execution_count": 9,
   "metadata": {},
   "outputs": [
    {
     "data": {
      "text/plain": [
       "1.499680184234527"
      ]
     },
     "execution_count": 9,
     "metadata": {},
     "output_type": "execute_result"
    }
   ],
   "source": [
    "exp_return = model.expected_return_of_stock(pt[\"AAPL\"], model=\"fff3\")\n",
    "exp_return"
   ]
  },
  {
   "attachments": {},
   "cell_type": "markdown",
   "metadata": {},
   "source": [
    "So, the FFF models predict higher returns!"
   ]
  },
  {
   "attachments": {},
   "cell_type": "markdown",
   "metadata": {},
   "source": [
    "### `portfolio_info`"
   ]
  },
  {
   "attachments": {},
   "cell_type": "markdown",
   "metadata": {},
   "source": [
    "This method returns the expected value and risk of portfolio given the `weights` and `model`:"
   ]
  },
  {
   "cell_type": "code",
   "execution_count": 14,
   "metadata": {},
   "outputs": [
    {
     "data": {
      "text/plain": [
       "Portfolio(S&P,['AAPL', 'MSFT', 'GOOG', 'TSLA'])"
      ]
     },
     "execution_count": 14,
     "metadata": {},
     "output_type": "execute_result"
    }
   ],
   "source": [
    "model.portfolio"
   ]
  },
  {
   "cell_type": "code",
   "execution_count": 18,
   "metadata": {},
   "outputs": [
    {
     "name": "stdout",
     "output_type": "stream",
     "text": [
      "Expected Return: 1.11%\n",
      "Expected Variance: 0.55\n"
     ]
    }
   ],
   "source": [
    "weights = \"equal\"\n",
    "model_ = \"capm\"\n",
    "exp_return, variance, _ = model.portfolio_info(weights=weights, model=model_)\n",
    "print(f\"Expected Return: {exp_return:.2f}%\")\n",
    "print(f\"Expected Variance: {variance:.2f}\")"
   ]
  },
  {
   "cell_type": "code",
   "execution_count": 19,
   "metadata": {},
   "outputs": [
    {
     "name": "stdout",
     "output_type": "stream",
     "text": [
      "Expected Return: 2.11%\n",
      "Expected Variance: 0.55\n"
     ]
    }
   ],
   "source": [
    "weights = \"equal\"\n",
    "model_ = \"fff5\"\n",
    "exp_return, variance, _ = model.portfolio_info(weights=weights, model=model_)\n",
    "print(f\"Expected Return: {exp_return:.2f}%\")\n",
    "print(f\"Expected Variance: {variance:.2f}\")"
   ]
  },
  {
   "cell_type": "code",
   "execution_count": 20,
   "metadata": {},
   "outputs": [
    {
     "name": "stdout",
     "output_type": "stream",
     "text": [
      "Expected Return: 2.49%\n",
      "Expected Variance: 0.86\n"
     ]
    }
   ],
   "source": [
    "weights = [0.2, 0.2, 0.2, 0.4]\n",
    "model_ = \"fff5\"\n",
    "exp_return, variance, _ = model.portfolio_info(weights=weights, model=model_)\n",
    "print(f\"Expected Return: {exp_return:.2f}%\")\n",
    "print(f\"Expected Variance: {variance:.2f}\")"
   ]
  },
  {
   "attachments": {},
   "cell_type": "markdown",
   "metadata": {},
   "source": [
    "### Plotting the Portfolio Frontier"
   ]
  },
  {
   "attachments": {},
   "cell_type": "markdown",
   "metadata": {},
   "source": [
    "If you have just two stocks in your portfolio, you can use the `portfolio_frontier` method to plot the portfolio frontier with a model."
   ]
  },
  {
   "cell_type": "code",
   "execution_count": 23,
   "metadata": {},
   "outputs": [],
   "source": [
    "pt.remove_stocks([\"TSLA\", \"MSFT\"])"
   ]
  },
  {
   "cell_type": "code",
   "execution_count": 24,
   "metadata": {},
   "outputs": [
    {
     "data": {
      "text/plain": [
       "Portfolio(S&P,['AAPL', 'GOOG'])"
      ]
     },
     "execution_count": 24,
     "metadata": {},
     "output_type": "execute_result"
    }
   ],
   "source": [
    "model.portfolio"
   ]
  },
  {
   "attachments": {},
   "cell_type": "markdown",
   "metadata": {},
   "source": [
    "As you have deleted two stocks, you need to call `summary` again to recalculate the params."
   ]
  },
  {
   "cell_type": "code",
   "execution_count": 27,
   "metadata": {},
   "outputs": [
    {
     "name": "stdout",
     "output_type": "stream",
     "text": [
      "Portfolio Summary\n",
      "*****************\n",
      "\n",
      "Portfolio with benchmark S&P and stocks ['AAPL', 'GOOG']\n",
      "Here are the summary of stocks in the portfolio\n",
      "+----+---------+-----------------------+----------------------+------------+---------+----------+\n",
      "|    | Stock   |   Monthly_Mean_Return |   Monthly_Return_STD |      Alpha |    Beta |   Weight |\n",
      "|----+---------+-----------------------+----------------------+------------+---------+----------|\n",
      "|  0 | AAPL    |             0.0216164 |            0.0813903 | 0.00979829 | 1.22897 |      0.5 |\n",
      "|  1 | GOOG    |             0.0171436 |            0.0645638 | 0.00711404 | 1.04298 |      0.5 |\n",
      "+----+---------+-----------------------+----------------------+------------+---------+----------+\n",
      "The covariance matrix is as follows\n",
      "+------+------------+------------+\n",
      "|      |       AAPL |       GOOG |\n",
      "|------+------------+------------|\n",
      "| AAPL | 0.00662438 | 0.00215109 |\n",
      "| GOOG | 0.00215109 | 0.00416849 |\n",
      "+------+------------+------------+\n",
      "Portfolio Return: 0.019379990857807596\n",
      "Portfolio Volatility: 0.19101971223336575\n"
     ]
    }
   ],
   "source": [
    "pt.summary()"
   ]
  },
  {
   "attachments": {},
   "cell_type": "markdown",
   "metadata": {},
   "source": [
    "You will also need to delete the series of calculted FFF params for these stocks."
   ]
  },
  {
   "cell_type": "code",
   "execution_count": 35,
   "metadata": {},
   "outputs": [],
   "source": [
    "del pt.stock_params[\"MSFT\"]\n",
    "del pt.stock_params[\"TSLA\"]"
   ]
  },
  {
   "cell_type": "code",
   "execution_count": 36,
   "metadata": {},
   "outputs": [
    {
     "data": {
      "text/plain": [
       "{'AAPL': const     0.006827\n",
       " Mkt-RF    1.197356\n",
       " SMB      -0.249423\n",
       " HML      -0.512566\n",
       " RMW       0.749702\n",
       " CMA      -0.201821\n",
       " rf        1.000000\n",
       " dtype: float64,\n",
       " 'GOOG': const     0.006991\n",
       " Mkt-RF    1.010230\n",
       " SMB      -0.572982\n",
       " HML       0.199086\n",
       " RMW      -0.107732\n",
       " CMA      -0.867854\n",
       " rf        1.000000\n",
       " dtype: float64}"
      ]
     },
     "execution_count": 36,
     "metadata": {},
     "output_type": "execute_result"
    }
   ],
   "source": [
    "model.portfolio.stock_params"
   ]
  },
  {
   "cell_type": "code",
   "execution_count": 29,
   "metadata": {},
   "outputs": [
    {
     "data": {
      "application/vnd.plotly.v1+json": {
       "config": {
        "plotlyServerURL": "https://plot.ly"
       },
       "data": [
        {
         "customdata": [
          [
           0,
           1
          ],
          [
           0.010101010101010102,
           0.98989898989899
          ],
          [
           0.020202020202020204,
           0.9797979797979798
          ],
          [
           0.030303030303030304,
           0.9696969696969697
          ],
          [
           0.04040404040404041,
           0.9595959595959596
          ],
          [
           0.05050505050505051,
           0.9494949494949495
          ],
          [
           0.06060606060606061,
           0.9393939393939394
          ],
          [
           0.07070707070707072,
           0.9292929292929293
          ],
          [
           0.08080808080808081,
           0.9191919191919192
          ],
          [
           0.09090909090909091,
           0.9090909090909091
          ],
          [
           0.10101010101010102,
           0.898989898989899
          ],
          [
           0.11111111111111112,
           0.8888888888888888
          ],
          [
           0.12121212121212122,
           0.8787878787878788
          ],
          [
           0.13131313131313133,
           0.8686868686868687
          ],
          [
           0.14141414141414144,
           0.8585858585858586
          ],
          [
           0.15151515151515152,
           0.8484848484848485
          ],
          [
           0.16161616161616163,
           0.8383838383838383
          ],
          [
           0.17171717171717174,
           0.8282828282828283
          ],
          [
           0.18181818181818182,
           0.8181818181818181
          ],
          [
           0.19191919191919193,
           0.8080808080808081
          ],
          [
           0.20202020202020204,
           0.797979797979798
          ],
          [
           0.21212121212121213,
           0.7878787878787878
          ],
          [
           0.22222222222222224,
           0.7777777777777778
          ],
          [
           0.23232323232323235,
           0.7676767676767676
          ],
          [
           0.24242424242424243,
           0.7575757575757576
          ],
          [
           0.25252525252525254,
           0.7474747474747474
          ],
          [
           0.26262626262626265,
           0.7373737373737373
          ],
          [
           0.27272727272727276,
           0.7272727272727273
          ],
          [
           0.2828282828282829,
           0.7171717171717171
          ],
          [
           0.29292929292929293,
           0.7070707070707071
          ],
          [
           0.30303030303030304,
           0.696969696969697
          ],
          [
           0.31313131313131315,
           0.6868686868686869
          ],
          [
           0.32323232323232326,
           0.6767676767676767
          ],
          [
           0.33333333333333337,
           0.6666666666666666
          ],
          [
           0.3434343434343435,
           0.6565656565656566
          ],
          [
           0.3535353535353536,
           0.6464646464646464
          ],
          [
           0.36363636363636365,
           0.6363636363636364
          ],
          [
           0.37373737373737376,
           0.6262626262626263
          ],
          [
           0.38383838383838387,
           0.6161616161616161
          ],
          [
           0.393939393939394,
           0.606060606060606
          ],
          [
           0.4040404040404041,
           0.5959595959595959
          ],
          [
           0.4141414141414142,
           0.5858585858585859
          ],
          [
           0.42424242424242425,
           0.5757575757575757
          ],
          [
           0.43434343434343436,
           0.5656565656565656
          ],
          [
           0.4444444444444445,
           0.5555555555555556
          ],
          [
           0.4545454545454546,
           0.5454545454545454
          ],
          [
           0.4646464646464647,
           0.5353535353535352
          ],
          [
           0.4747474747474748,
           0.5252525252525252
          ],
          [
           0.48484848484848486,
           0.5151515151515151
          ],
          [
           0.494949494949495,
           0.505050505050505
          ],
          [
           0.5050505050505051,
           0.4949494949494949
          ],
          [
           0.5151515151515152,
           0.48484848484848475
          ],
          [
           0.5252525252525253,
           0.4747474747474747
          ],
          [
           0.5353535353535354,
           0.46464646464646464
          ],
          [
           0.5454545454545455,
           0.4545454545454545
          ],
          [
           0.5555555555555556,
           0.4444444444444444
          ],
          [
           0.5656565656565657,
           0.43434343434343425
          ],
          [
           0.5757575757575758,
           0.4242424242424242
          ],
          [
           0.5858585858585859,
           0.41414141414141414
          ],
          [
           0.595959595959596,
           0.404040404040404
          ],
          [
           0.6060606060606061,
           0.3939393939393939
          ],
          [
           0.6161616161616162,
           0.38383838383838376
          ],
          [
           0.6262626262626263,
           0.3737373737373737
          ],
          [
           0.6363636363636365,
           0.36363636363636354
          ],
          [
           0.6464646464646465,
           0.3535353535353535
          ],
          [
           0.6565656565656566,
           0.3434343434343434
          ],
          [
           0.6666666666666667,
           0.33333333333333326
          ],
          [
           0.6767676767676768,
           0.3232323232323232
          ],
          [
           0.686868686868687,
           0.31313131313131304
          ],
          [
           0.696969696969697,
           0.303030303030303
          ],
          [
           0.7070707070707072,
           0.2929292929292928
          ],
          [
           0.7171717171717172,
           0.28282828282828276
          ],
          [
           0.7272727272727273,
           0.2727272727272727
          ],
          [
           0.7373737373737375,
           0.26262626262626254
          ],
          [
           0.7474747474747475,
           0.2525252525252525
          ],
          [
           0.7575757575757577,
           0.24242424242424232
          ],
          [
           0.7676767676767677,
           0.23232323232323226
          ],
          [
           0.7777777777777778,
           0.2222222222222222
          ],
          [
           0.787878787878788,
           0.21212121212121204
          ],
          [
           0.797979797979798,
           0.202020202020202
          ],
          [
           0.8080808080808082,
           0.19191919191919182
          ],
          [
           0.8181818181818182,
           0.18181818181818177
          ],
          [
           0.8282828282828284,
           0.1717171717171716
          ],
          [
           0.8383838383838385,
           0.16161616161616155
          ],
          [
           0.8484848484848485,
           0.1515151515151515
          ],
          [
           0.8585858585858587,
           0.14141414141414133
          ],
          [
           0.8686868686868687,
           0.13131313131313127
          ],
          [
           0.8787878787878789,
           0.1212121212121211
          ],
          [
           0.888888888888889,
           0.11111111111111105
          ],
          [
           0.8989898989898991,
           0.10101010101010088
          ],
          [
           0.9090909090909092,
           0.09090909090909083
          ],
          [
           0.9191919191919192,
           0.08080808080808077
          ],
          [
           0.9292929292929294,
           0.07070707070707061
          ],
          [
           0.9393939393939394,
           0.06060606060606055
          ],
          [
           0.9494949494949496,
           0.050505050505050386
          ],
          [
           0.9595959595959597,
           0.04040404040404033
          ],
          [
           0.9696969696969697,
           0.030303030303030276
          ],
          [
           0.9797979797979799,
           0.02020202020202011
          ],
          [
           0.98989898989899,
           0.010101010101010055
          ],
          [
           1,
           0
          ]
         ],
         "hovertemplate": "Standard deviation: %{x:.4f}%<br>Expected return: %{y:.4f}%<br>Apple weight: %{customdata[0]:.4f}<br>Google weight: %{customdata[1]:.4f}",
         "legendgroup": "",
         "line": {
          "color": "#636efa",
          "dash": "solid"
         },
         "marker": {
          "symbol": "circle"
         },
         "mode": "lines",
         "name": "",
         "orientation": "v",
         "showlegend": false,
         "type": "scatter",
         "x": [
          0.4168486357557854,
          0.4128393088995887,
          0.4089624316226408,
          0.4052180039249415,
          0.40160602580649096,
          0.3981264972672892,
          0.39477941830733615,
          0.39156478892663166,
          0.3884826091251761,
          0.3855328789029691,
          0.38271559826001095,
          0.3800307671963014,
          0.3774783857118406,
          0.3750584538066286,
          0.37277097148066524,
          0.37061593873395066,
          0.3685933555664847,
          0.3667032219782676,
          0.36494553796929907,
          0.3633203035395794,
          0.3618275186891084,
          0.3604671834178861,
          0.3592392977259125,
          0.35814386161318756,
          0.35718087507971147,
          0.356350338125484,
          0.3556522507505053,
          0.3550866129547754,
          0.3546534247382941,
          0.3543526861010616,
          0.35418439704307775,
          0.3541485575643426,
          0.3542451676648562,
          0.3544742273446185,
          0.3548357366036296,
          0.35532969544188936,
          0.35595610385939785,
          0.35671496185615503,
          0.35760626943216095,
          0.35863002658741555,
          0.35978623332191895,
          0.3610748896356711,
          0.3624959955286718,
          0.3640495510009214,
          0.36573555605241964,
          0.36755401068316657,
          0.3695049148931622,
          0.3715882686824067,
          0.3738040720508997,
          0.37615232499864154,
          0.3786330275256321,
          0.3812461796318714,
          0.3839917813173594,
          0.38686983258209606,
          0.3898803334260815,
          0.3930232838493157,
          0.39629868385179856,
          0.3997065334335301,
          0.4032468325945105,
          0.4069195813347395,
          0.4107247796542172,
          0.41466242755294375,
          0.41873252503091885,
          0.42293507208814274,
          0.4272700687246154,
          0.43173751494033663,
          0.43633741073530674,
          0.4410697561095256,
          0.44593455106299307,
          0.4509317955957093,
          0.4560614897076742,
          0.4613236333988878,
          0.46671822666935014,
          0.47224526951906126,
          0.47790476194802106,
          0.4836967039562297,
          0.4896210955436868,
          0.49567793671039284,
          0.5018672274563476,
          0.5081889677815509,
          0.5146431576860032,
          0.521229797169704,
          0.5279488862326536,
          0.5348004248748517,
          0.5417844130962988,
          0.5489008508969945,
          0.5561497382769389,
          0.5635310752361322,
          0.5710448617745739,
          0.5786910978922646,
          0.586469783589204,
          0.5943809188653918,
          0.6024245037208287,
          0.6106005381555142,
          0.6189090221694484,
          0.6273499557626312,
          0.6359233389350629,
          0.6446291716867433,
          0.6534674540176724,
          0.66243818592785
         ],
         "xaxis": "x",
         "y": [
          0.9886291632778237,
          0.9898095135246107,
          0.9909898637713975,
          0.9921702140181845,
          0.9933505642649714,
          0.9945309145117583,
          0.9957112647585453,
          0.9968916150053322,
          0.9980719652521192,
          0.999252315498906,
          1.000432665745693,
          1.0016130159924799,
          1.002793366239267,
          1.0039737164860538,
          1.0051540667328407,
          1.0063344169796278,
          1.0075147672264146,
          1.0086951174732017,
          1.0098754677199884,
          1.0110558179667755,
          1.0122361682135623,
          1.0134165184603492,
          1.0145968687071363,
          1.0157772189539231,
          1.0169575692007102,
          1.018137919447497,
          1.0193182696942842,
          1.020498619941071,
          1.021678970187858,
          1.022859320434645,
          1.0240396706814319,
          1.0252200209282187,
          1.0264003711750056,
          1.0275807214217927,
          1.0287610716685798,
          1.0299414219153666,
          1.0311217721621535,
          1.0323021224089404,
          1.0334824726557272,
          1.034662822902514,
          1.0358431731493012,
          1.0370235233960883,
          1.0382038736428751,
          1.039384223889662,
          1.0405645741364489,
          1.0417449243832357,
          1.0429252746300226,
          1.0441056248768097,
          1.0452859751235968,
          1.0464663253703836,
          1.0476466756171705,
          1.0488270258639574,
          1.0500073761107445,
          1.0511877263575313,
          1.0523680766043184,
          1.0535484268511053,
          1.0547287770978921,
          1.055909127344679,
          1.0570894775914659,
          1.058269827838253,
          1.05945017808504,
          1.060630528331827,
          1.0618108785786138,
          1.0629912288254009,
          1.0641715790721877,
          1.0653519293189746,
          1.0665322795657615,
          1.0677126298125486,
          1.0688929800593354,
          1.0700733303061223,
          1.0712536805529094,
          1.0724340307996962,
          1.073614381046483,
          1.0747947312932702,
          1.075975081540057,
          1.077155431786844,
          1.078335782033631,
          1.0795161322804179,
          1.0806964825272047,
          1.0818768327739918,
          1.0830571830207787,
          1.0842375332675656,
          1.0854178835143524,
          1.0865982337611395,
          1.0877785840079264,
          1.0889589342547132,
          1.0901392845015003,
          1.0913196347482872,
          1.092499984995074,
          1.0936803352418611,
          1.094860685488648,
          1.0960410357354349,
          1.0972213859822217,
          1.0984017362290088,
          1.0995820864757957,
          1.1007624367225826,
          1.1019427869693696,
          1.1031231372161565,
          1.1043034874629434,
          1.1054838377097305
         ],
         "yaxis": "y"
        }
       ],
       "layout": {
        "legend": {
         "tracegroupgap": 0
        },
        "template": {
         "data": {
          "bar": [
           {
            "error_x": {
             "color": "#f2f5fa"
            },
            "error_y": {
             "color": "#f2f5fa"
            },
            "marker": {
             "line": {
              "color": "rgb(17,17,17)",
              "width": 0.5
             },
             "pattern": {
              "fillmode": "overlay",
              "size": 10,
              "solidity": 0.2
             }
            },
            "type": "bar"
           }
          ],
          "barpolar": [
           {
            "marker": {
             "line": {
              "color": "rgb(17,17,17)",
              "width": 0.5
             },
             "pattern": {
              "fillmode": "overlay",
              "size": 10,
              "solidity": 0.2
             }
            },
            "type": "barpolar"
           }
          ],
          "carpet": [
           {
            "aaxis": {
             "endlinecolor": "#A2B1C6",
             "gridcolor": "#506784",
             "linecolor": "#506784",
             "minorgridcolor": "#506784",
             "startlinecolor": "#A2B1C6"
            },
            "baxis": {
             "endlinecolor": "#A2B1C6",
             "gridcolor": "#506784",
             "linecolor": "#506784",
             "minorgridcolor": "#506784",
             "startlinecolor": "#A2B1C6"
            },
            "type": "carpet"
           }
          ],
          "choropleth": [
           {
            "colorbar": {
             "outlinewidth": 0,
             "ticks": ""
            },
            "type": "choropleth"
           }
          ],
          "contour": [
           {
            "colorbar": {
             "outlinewidth": 0,
             "ticks": ""
            },
            "colorscale": [
             [
              0,
              "#0d0887"
             ],
             [
              0.1111111111111111,
              "#46039f"
             ],
             [
              0.2222222222222222,
              "#7201a8"
             ],
             [
              0.3333333333333333,
              "#9c179e"
             ],
             [
              0.4444444444444444,
              "#bd3786"
             ],
             [
              0.5555555555555556,
              "#d8576b"
             ],
             [
              0.6666666666666666,
              "#ed7953"
             ],
             [
              0.7777777777777778,
              "#fb9f3a"
             ],
             [
              0.8888888888888888,
              "#fdca26"
             ],
             [
              1,
              "#f0f921"
             ]
            ],
            "type": "contour"
           }
          ],
          "contourcarpet": [
           {
            "colorbar": {
             "outlinewidth": 0,
             "ticks": ""
            },
            "type": "contourcarpet"
           }
          ],
          "heatmap": [
           {
            "colorbar": {
             "outlinewidth": 0,
             "ticks": ""
            },
            "colorscale": [
             [
              0,
              "#0d0887"
             ],
             [
              0.1111111111111111,
              "#46039f"
             ],
             [
              0.2222222222222222,
              "#7201a8"
             ],
             [
              0.3333333333333333,
              "#9c179e"
             ],
             [
              0.4444444444444444,
              "#bd3786"
             ],
             [
              0.5555555555555556,
              "#d8576b"
             ],
             [
              0.6666666666666666,
              "#ed7953"
             ],
             [
              0.7777777777777778,
              "#fb9f3a"
             ],
             [
              0.8888888888888888,
              "#fdca26"
             ],
             [
              1,
              "#f0f921"
             ]
            ],
            "type": "heatmap"
           }
          ],
          "heatmapgl": [
           {
            "colorbar": {
             "outlinewidth": 0,
             "ticks": ""
            },
            "colorscale": [
             [
              0,
              "#0d0887"
             ],
             [
              0.1111111111111111,
              "#46039f"
             ],
             [
              0.2222222222222222,
              "#7201a8"
             ],
             [
              0.3333333333333333,
              "#9c179e"
             ],
             [
              0.4444444444444444,
              "#bd3786"
             ],
             [
              0.5555555555555556,
              "#d8576b"
             ],
             [
              0.6666666666666666,
              "#ed7953"
             ],
             [
              0.7777777777777778,
              "#fb9f3a"
             ],
             [
              0.8888888888888888,
              "#fdca26"
             ],
             [
              1,
              "#f0f921"
             ]
            ],
            "type": "heatmapgl"
           }
          ],
          "histogram": [
           {
            "marker": {
             "pattern": {
              "fillmode": "overlay",
              "size": 10,
              "solidity": 0.2
             }
            },
            "type": "histogram"
           }
          ],
          "histogram2d": [
           {
            "colorbar": {
             "outlinewidth": 0,
             "ticks": ""
            },
            "colorscale": [
             [
              0,
              "#0d0887"
             ],
             [
              0.1111111111111111,
              "#46039f"
             ],
             [
              0.2222222222222222,
              "#7201a8"
             ],
             [
              0.3333333333333333,
              "#9c179e"
             ],
             [
              0.4444444444444444,
              "#bd3786"
             ],
             [
              0.5555555555555556,
              "#d8576b"
             ],
             [
              0.6666666666666666,
              "#ed7953"
             ],
             [
              0.7777777777777778,
              "#fb9f3a"
             ],
             [
              0.8888888888888888,
              "#fdca26"
             ],
             [
              1,
              "#f0f921"
             ]
            ],
            "type": "histogram2d"
           }
          ],
          "histogram2dcontour": [
           {
            "colorbar": {
             "outlinewidth": 0,
             "ticks": ""
            },
            "colorscale": [
             [
              0,
              "#0d0887"
             ],
             [
              0.1111111111111111,
              "#46039f"
             ],
             [
              0.2222222222222222,
              "#7201a8"
             ],
             [
              0.3333333333333333,
              "#9c179e"
             ],
             [
              0.4444444444444444,
              "#bd3786"
             ],
             [
              0.5555555555555556,
              "#d8576b"
             ],
             [
              0.6666666666666666,
              "#ed7953"
             ],
             [
              0.7777777777777778,
              "#fb9f3a"
             ],
             [
              0.8888888888888888,
              "#fdca26"
             ],
             [
              1,
              "#f0f921"
             ]
            ],
            "type": "histogram2dcontour"
           }
          ],
          "mesh3d": [
           {
            "colorbar": {
             "outlinewidth": 0,
             "ticks": ""
            },
            "type": "mesh3d"
           }
          ],
          "parcoords": [
           {
            "line": {
             "colorbar": {
              "outlinewidth": 0,
              "ticks": ""
             }
            },
            "type": "parcoords"
           }
          ],
          "pie": [
           {
            "automargin": true,
            "type": "pie"
           }
          ],
          "scatter": [
           {
            "marker": {
             "line": {
              "color": "#283442"
             }
            },
            "type": "scatter"
           }
          ],
          "scatter3d": [
           {
            "line": {
             "colorbar": {
              "outlinewidth": 0,
              "ticks": ""
             }
            },
            "marker": {
             "colorbar": {
              "outlinewidth": 0,
              "ticks": ""
             }
            },
            "type": "scatter3d"
           }
          ],
          "scattercarpet": [
           {
            "marker": {
             "colorbar": {
              "outlinewidth": 0,
              "ticks": ""
             }
            },
            "type": "scattercarpet"
           }
          ],
          "scattergeo": [
           {
            "marker": {
             "colorbar": {
              "outlinewidth": 0,
              "ticks": ""
             }
            },
            "type": "scattergeo"
           }
          ],
          "scattergl": [
           {
            "marker": {
             "line": {
              "color": "#283442"
             }
            },
            "type": "scattergl"
           }
          ],
          "scattermapbox": [
           {
            "marker": {
             "colorbar": {
              "outlinewidth": 0,
              "ticks": ""
             }
            },
            "type": "scattermapbox"
           }
          ],
          "scatterpolar": [
           {
            "marker": {
             "colorbar": {
              "outlinewidth": 0,
              "ticks": ""
             }
            },
            "type": "scatterpolar"
           }
          ],
          "scatterpolargl": [
           {
            "marker": {
             "colorbar": {
              "outlinewidth": 0,
              "ticks": ""
             }
            },
            "type": "scatterpolargl"
           }
          ],
          "scatterternary": [
           {
            "marker": {
             "colorbar": {
              "outlinewidth": 0,
              "ticks": ""
             }
            },
            "type": "scatterternary"
           }
          ],
          "surface": [
           {
            "colorbar": {
             "outlinewidth": 0,
             "ticks": ""
            },
            "colorscale": [
             [
              0,
              "#0d0887"
             ],
             [
              0.1111111111111111,
              "#46039f"
             ],
             [
              0.2222222222222222,
              "#7201a8"
             ],
             [
              0.3333333333333333,
              "#9c179e"
             ],
             [
              0.4444444444444444,
              "#bd3786"
             ],
             [
              0.5555555555555556,
              "#d8576b"
             ],
             [
              0.6666666666666666,
              "#ed7953"
             ],
             [
              0.7777777777777778,
              "#fb9f3a"
             ],
             [
              0.8888888888888888,
              "#fdca26"
             ],
             [
              1,
              "#f0f921"
             ]
            ],
            "type": "surface"
           }
          ],
          "table": [
           {
            "cells": {
             "fill": {
              "color": "#506784"
             },
             "line": {
              "color": "rgb(17,17,17)"
             }
            },
            "header": {
             "fill": {
              "color": "#2a3f5f"
             },
             "line": {
              "color": "rgb(17,17,17)"
             }
            },
            "type": "table"
           }
          ]
         },
         "layout": {
          "annotationdefaults": {
           "arrowcolor": "#f2f5fa",
           "arrowhead": 0,
           "arrowwidth": 1
          },
          "autotypenumbers": "strict",
          "coloraxis": {
           "colorbar": {
            "outlinewidth": 0,
            "ticks": ""
           }
          },
          "colorscale": {
           "diverging": [
            [
             0,
             "#8e0152"
            ],
            [
             0.1,
             "#c51b7d"
            ],
            [
             0.2,
             "#de77ae"
            ],
            [
             0.3,
             "#f1b6da"
            ],
            [
             0.4,
             "#fde0ef"
            ],
            [
             0.5,
             "#f7f7f7"
            ],
            [
             0.6,
             "#e6f5d0"
            ],
            [
             0.7,
             "#b8e186"
            ],
            [
             0.8,
             "#7fbc41"
            ],
            [
             0.9,
             "#4d9221"
            ],
            [
             1,
             "#276419"
            ]
           ],
           "sequential": [
            [
             0,
             "#0d0887"
            ],
            [
             0.1111111111111111,
             "#46039f"
            ],
            [
             0.2222222222222222,
             "#7201a8"
            ],
            [
             0.3333333333333333,
             "#9c179e"
            ],
            [
             0.4444444444444444,
             "#bd3786"
            ],
            [
             0.5555555555555556,
             "#d8576b"
            ],
            [
             0.6666666666666666,
             "#ed7953"
            ],
            [
             0.7777777777777778,
             "#fb9f3a"
            ],
            [
             0.8888888888888888,
             "#fdca26"
            ],
            [
             1,
             "#f0f921"
            ]
           ],
           "sequentialminus": [
            [
             0,
             "#0d0887"
            ],
            [
             0.1111111111111111,
             "#46039f"
            ],
            [
             0.2222222222222222,
             "#7201a8"
            ],
            [
             0.3333333333333333,
             "#9c179e"
            ],
            [
             0.4444444444444444,
             "#bd3786"
            ],
            [
             0.5555555555555556,
             "#d8576b"
            ],
            [
             0.6666666666666666,
             "#ed7953"
            ],
            [
             0.7777777777777778,
             "#fb9f3a"
            ],
            [
             0.8888888888888888,
             "#fdca26"
            ],
            [
             1,
             "#f0f921"
            ]
           ]
          },
          "colorway": [
           "#636efa",
           "#EF553B",
           "#00cc96",
           "#ab63fa",
           "#FFA15A",
           "#19d3f3",
           "#FF6692",
           "#B6E880",
           "#FF97FF",
           "#FECB52"
          ],
          "font": {
           "color": "#f2f5fa"
          },
          "geo": {
           "bgcolor": "rgb(17,17,17)",
           "lakecolor": "rgb(17,17,17)",
           "landcolor": "rgb(17,17,17)",
           "showlakes": true,
           "showland": true,
           "subunitcolor": "#506784"
          },
          "hoverlabel": {
           "align": "left"
          },
          "hovermode": "closest",
          "mapbox": {
           "style": "dark"
          },
          "paper_bgcolor": "rgb(17,17,17)",
          "plot_bgcolor": "rgb(17,17,17)",
          "polar": {
           "angularaxis": {
            "gridcolor": "#506784",
            "linecolor": "#506784",
            "ticks": ""
           },
           "bgcolor": "rgb(17,17,17)",
           "radialaxis": {
            "gridcolor": "#506784",
            "linecolor": "#506784",
            "ticks": ""
           }
          },
          "scene": {
           "xaxis": {
            "backgroundcolor": "rgb(17,17,17)",
            "gridcolor": "#506784",
            "gridwidth": 2,
            "linecolor": "#506784",
            "showbackground": true,
            "ticks": "",
            "zerolinecolor": "#C8D4E3"
           },
           "yaxis": {
            "backgroundcolor": "rgb(17,17,17)",
            "gridcolor": "#506784",
            "gridwidth": 2,
            "linecolor": "#506784",
            "showbackground": true,
            "ticks": "",
            "zerolinecolor": "#C8D4E3"
           },
           "zaxis": {
            "backgroundcolor": "rgb(17,17,17)",
            "gridcolor": "#506784",
            "gridwidth": 2,
            "linecolor": "#506784",
            "showbackground": true,
            "ticks": "",
            "zerolinecolor": "#C8D4E3"
           }
          },
          "shapedefaults": {
           "line": {
            "color": "#f2f5fa"
           }
          },
          "sliderdefaults": {
           "bgcolor": "#C8D4E3",
           "bordercolor": "rgb(17,17,17)",
           "borderwidth": 1,
           "tickwidth": 0
          },
          "ternary": {
           "aaxis": {
            "gridcolor": "#506784",
            "linecolor": "#506784",
            "ticks": ""
           },
           "baxis": {
            "gridcolor": "#506784",
            "linecolor": "#506784",
            "ticks": ""
           },
           "bgcolor": "rgb(17,17,17)",
           "caxis": {
            "gridcolor": "#506784",
            "linecolor": "#506784",
            "ticks": ""
           }
          },
          "title": {
           "x": 0.05
          },
          "updatemenudefaults": {
           "bgcolor": "#506784",
           "borderwidth": 0
          },
          "xaxis": {
           "automargin": true,
           "gridcolor": "#283442",
           "linecolor": "#506784",
           "ticks": "",
           "title": {
            "standoff": 15
           },
           "zerolinecolor": "#283442",
           "zerolinewidth": 2
          },
          "yaxis": {
           "automargin": true,
           "gridcolor": "#283442",
           "linecolor": "#506784",
           "ticks": "",
           "title": {
            "standoff": 15
           },
           "zerolinecolor": "#283442",
           "zerolinewidth": 2
          }
         }
        },
        "title": {
         "text": "Efficient frontier"
        },
        "xaxis": {
         "anchor": "y",
         "domain": [
          0,
          1
         ],
         "title": {
          "text": "variance"
         }
        },
        "yaxis": {
         "anchor": "x",
         "domain": [
          0,
          1
         ],
         "title": {
          "text": "expected_returns"
         }
        }
       }
      }
     },
     "metadata": {},
     "output_type": "display_data"
    }
   ],
   "source": [
    "model.portfolio_frontier(model=\"capm\")"
   ]
  },
  {
   "cell_type": "code",
   "execution_count": 37,
   "metadata": {},
   "outputs": [
    {
     "data": {
      "application/vnd.plotly.v1+json": {
       "config": {
        "plotlyServerURL": "https://plot.ly"
       },
       "data": [
        {
         "customdata": [
          [
           0,
           1
          ],
          [
           0.010101010101010102,
           0.98989898989899
          ],
          [
           0.020202020202020204,
           0.9797979797979798
          ],
          [
           0.030303030303030304,
           0.9696969696969697
          ],
          [
           0.04040404040404041,
           0.9595959595959596
          ],
          [
           0.05050505050505051,
           0.9494949494949495
          ],
          [
           0.06060606060606061,
           0.9393939393939394
          ],
          [
           0.07070707070707072,
           0.9292929292929293
          ],
          [
           0.08080808080808081,
           0.9191919191919192
          ],
          [
           0.09090909090909091,
           0.9090909090909091
          ],
          [
           0.10101010101010102,
           0.898989898989899
          ],
          [
           0.11111111111111112,
           0.8888888888888888
          ],
          [
           0.12121212121212122,
           0.8787878787878788
          ],
          [
           0.13131313131313133,
           0.8686868686868687
          ],
          [
           0.14141414141414144,
           0.8585858585858586
          ],
          [
           0.15151515151515152,
           0.8484848484848485
          ],
          [
           0.16161616161616163,
           0.8383838383838383
          ],
          [
           0.17171717171717174,
           0.8282828282828283
          ],
          [
           0.18181818181818182,
           0.8181818181818181
          ],
          [
           0.19191919191919193,
           0.8080808080808081
          ],
          [
           0.20202020202020204,
           0.797979797979798
          ],
          [
           0.21212121212121213,
           0.7878787878787878
          ],
          [
           0.22222222222222224,
           0.7777777777777778
          ],
          [
           0.23232323232323235,
           0.7676767676767676
          ],
          [
           0.24242424242424243,
           0.7575757575757576
          ],
          [
           0.25252525252525254,
           0.7474747474747474
          ],
          [
           0.26262626262626265,
           0.7373737373737373
          ],
          [
           0.27272727272727276,
           0.7272727272727273
          ],
          [
           0.2828282828282829,
           0.7171717171717171
          ],
          [
           0.29292929292929293,
           0.7070707070707071
          ],
          [
           0.30303030303030304,
           0.696969696969697
          ],
          [
           0.31313131313131315,
           0.6868686868686869
          ],
          [
           0.32323232323232326,
           0.6767676767676767
          ],
          [
           0.33333333333333337,
           0.6666666666666666
          ],
          [
           0.3434343434343435,
           0.6565656565656566
          ],
          [
           0.3535353535353536,
           0.6464646464646464
          ],
          [
           0.36363636363636365,
           0.6363636363636364
          ],
          [
           0.37373737373737376,
           0.6262626262626263
          ],
          [
           0.38383838383838387,
           0.6161616161616161
          ],
          [
           0.393939393939394,
           0.606060606060606
          ],
          [
           0.4040404040404041,
           0.5959595959595959
          ],
          [
           0.4141414141414142,
           0.5858585858585859
          ],
          [
           0.42424242424242425,
           0.5757575757575757
          ],
          [
           0.43434343434343436,
           0.5656565656565656
          ],
          [
           0.4444444444444445,
           0.5555555555555556
          ],
          [
           0.4545454545454546,
           0.5454545454545454
          ],
          [
           0.4646464646464647,
           0.5353535353535352
          ],
          [
           0.4747474747474748,
           0.5252525252525252
          ],
          [
           0.48484848484848486,
           0.5151515151515151
          ],
          [
           0.494949494949495,
           0.505050505050505
          ],
          [
           0.5050505050505051,
           0.4949494949494949
          ],
          [
           0.5151515151515152,
           0.48484848484848475
          ],
          [
           0.5252525252525253,
           0.4747474747474747
          ],
          [
           0.5353535353535354,
           0.46464646464646464
          ],
          [
           0.5454545454545455,
           0.4545454545454545
          ],
          [
           0.5555555555555556,
           0.4444444444444444
          ],
          [
           0.5656565656565657,
           0.43434343434343425
          ],
          [
           0.5757575757575758,
           0.4242424242424242
          ],
          [
           0.5858585858585859,
           0.41414141414141414
          ],
          [
           0.595959595959596,
           0.404040404040404
          ],
          [
           0.6060606060606061,
           0.3939393939393939
          ],
          [
           0.6161616161616162,
           0.38383838383838376
          ],
          [
           0.6262626262626263,
           0.3737373737373737
          ],
          [
           0.6363636363636365,
           0.36363636363636354
          ],
          [
           0.6464646464646465,
           0.3535353535353535
          ],
          [
           0.6565656565656566,
           0.3434343434343434
          ],
          [
           0.6666666666666667,
           0.33333333333333326
          ],
          [
           0.6767676767676768,
           0.3232323232323232
          ],
          [
           0.686868686868687,
           0.31313131313131304
          ],
          [
           0.696969696969697,
           0.303030303030303
          ],
          [
           0.7070707070707072,
           0.2929292929292928
          ],
          [
           0.7171717171717172,
           0.28282828282828276
          ],
          [
           0.7272727272727273,
           0.2727272727272727
          ],
          [
           0.7373737373737375,
           0.26262626262626254
          ],
          [
           0.7474747474747475,
           0.2525252525252525
          ],
          [
           0.7575757575757577,
           0.24242424242424232
          ],
          [
           0.7676767676767677,
           0.23232323232323226
          ],
          [
           0.7777777777777778,
           0.2222222222222222
          ],
          [
           0.787878787878788,
           0.21212121212121204
          ],
          [
           0.797979797979798,
           0.202020202020202
          ],
          [
           0.8080808080808082,
           0.19191919191919182
          ],
          [
           0.8181818181818182,
           0.18181818181818177
          ],
          [
           0.8282828282828284,
           0.1717171717171716
          ],
          [
           0.8383838383838385,
           0.16161616161616155
          ],
          [
           0.8484848484848485,
           0.1515151515151515
          ],
          [
           0.8585858585858587,
           0.14141414141414133
          ],
          [
           0.8686868686868687,
           0.13131313131313127
          ],
          [
           0.8787878787878789,
           0.1212121212121211
          ],
          [
           0.888888888888889,
           0.11111111111111105
          ],
          [
           0.8989898989898991,
           0.10101010101010088
          ],
          [
           0.9090909090909092,
           0.09090909090909083
          ],
          [
           0.9191919191919192,
           0.08080808080808077
          ],
          [
           0.9292929292929294,
           0.07070707070707061
          ],
          [
           0.9393939393939394,
           0.06060606060606055
          ],
          [
           0.9494949494949496,
           0.050505050505050386
          ],
          [
           0.9595959595959597,
           0.04040404040404033
          ],
          [
           0.9696969696969697,
           0.030303030303030276
          ],
          [
           0.9797979797979799,
           0.02020202020202011
          ],
          [
           0.98989898989899,
           0.010101010101010055
          ],
          [
           1,
           0
          ]
         ],
         "hovertemplate": "Standard deviation: %{x:.4f}%<br>Expected return: %{y:.4f}%<br>Apple weight: %{customdata[0]:.4f}<br>Google weight: %{customdata[1]:.4f}",
         "legendgroup": "",
         "line": {
          "color": "#636efa",
          "dash": "solid"
         },
         "marker": {
          "symbol": "circle"
         },
         "mode": "lines",
         "name": "",
         "orientation": "v",
         "showlegend": false,
         "type": "scatter",
         "x": [
          0.4168486357557854,
          0.4128393088995887,
          0.4089624316226408,
          0.4052180039249415,
          0.40160602580649096,
          0.3981264972672892,
          0.39477941830733615,
          0.39156478892663166,
          0.3884826091251761,
          0.3855328789029691,
          0.38271559826001095,
          0.3800307671963014,
          0.3774783857118406,
          0.3750584538066286,
          0.37277097148066524,
          0.37061593873395066,
          0.3685933555664847,
          0.3667032219782676,
          0.36494553796929907,
          0.3633203035395794,
          0.3618275186891084,
          0.3604671834178861,
          0.3592392977259125,
          0.35814386161318756,
          0.35718087507971147,
          0.356350338125484,
          0.3556522507505053,
          0.3550866129547754,
          0.3546534247382941,
          0.3543526861010616,
          0.35418439704307775,
          0.3541485575643426,
          0.3542451676648562,
          0.3544742273446185,
          0.3548357366036296,
          0.35532969544188936,
          0.35595610385939785,
          0.35671496185615503,
          0.35760626943216095,
          0.35863002658741555,
          0.35978623332191895,
          0.3610748896356711,
          0.3624959955286718,
          0.3640495510009214,
          0.36573555605241964,
          0.36755401068316657,
          0.3695049148931622,
          0.3715882686824067,
          0.3738040720508997,
          0.37615232499864154,
          0.3786330275256321,
          0.3812461796318714,
          0.3839917813173594,
          0.38686983258209606,
          0.3898803334260815,
          0.3930232838493157,
          0.39629868385179856,
          0.3997065334335301,
          0.4032468325945105,
          0.4069195813347395,
          0.4107247796542172,
          0.41466242755294375,
          0.41873252503091885,
          0.42293507208814274,
          0.4272700687246154,
          0.43173751494033663,
          0.43633741073530674,
          0.4410697561095256,
          0.44593455106299307,
          0.4509317955957093,
          0.4560614897076742,
          0.4613236333988878,
          0.46671822666935014,
          0.47224526951906126,
          0.47790476194802106,
          0.4836967039562297,
          0.4896210955436868,
          0.49567793671039284,
          0.5018672274563476,
          0.5081889677815509,
          0.5146431576860032,
          0.521229797169704,
          0.5279488862326536,
          0.5348004248748517,
          0.5417844130962988,
          0.5489008508969945,
          0.5561497382769389,
          0.5635310752361322,
          0.5710448617745739,
          0.5786910978922646,
          0.586469783589204,
          0.5943809188653918,
          0.6024245037208287,
          0.6106005381555142,
          0.6189090221694484,
          0.6273499557626312,
          0.6359233389350629,
          0.6446291716867433,
          0.6534674540176724,
          0.66243818592785
         ],
         "xaxis": "x",
         "y": [
          0.9957432076839714,
          0.9969506715658174,
          0.9981581354476632,
          0.9993655993295092,
          1.000573063211355,
          1.0017805270932012,
          1.0029879909750472,
          1.004195454856893,
          1.005402918738739,
          1.0066103826205848,
          1.0078178465024308,
          1.0090253103842766,
          1.0102327742661226,
          1.0114402381479686,
          1.0126477020298144,
          1.0138551659116606,
          1.0150626297935064,
          1.0162700936753524,
          1.0174775575571982,
          1.0186850214390442,
          1.0198924853208902,
          1.021099949202736,
          1.022307413084582,
          1.023514876966428,
          1.0247223408482737,
          1.0259298047301197,
          1.0271372686119657,
          1.0283447324938118,
          1.0295521963756575,
          1.0307596602575035,
          1.0319671241393495,
          1.0331745880211953,
          1.0343820519030413,
          1.0355895157848871,
          1.0367969796667333,
          1.0380044435485791,
          1.0392119074304251,
          1.0404193713122711,
          1.041626835194117,
          1.0428342990759627,
          1.044041762957809,
          1.0452492268396547,
          1.0464566907215005,
          1.0476641546033465,
          1.0488716184851925,
          1.0500790823670385,
          1.0512865462488845,
          1.0524940101307303,
          1.0537014740125763,
          1.0549089378944223,
          1.056116401776268,
          1.057323865658114,
          1.05853132953996,
          1.0597387934218059,
          1.0609462573036519,
          1.062153721185498,
          1.0633611850673437,
          1.06456864894919,
          1.0657761128310357,
          1.0669835767128815,
          1.0681910405947275,
          1.0693985044765735,
          1.0706059683584195,
          1.0718134322402653,
          1.0730208961221113,
          1.0742283600039573,
          1.075435823885803,
          1.076643287767649,
          1.077850751649495,
          1.079058215531341,
          1.0802656794131869,
          1.0814731432950326,
          1.0826806071768789,
          1.0838880710587246,
          1.0850955349405706,
          1.0863029988224167,
          1.0875104627042624,
          1.0887179265861084,
          1.0899253904679544,
          1.0911328543498002,
          1.0923403182316462,
          1.0935477821134922,
          1.094755245995338,
          1.095962709877184,
          1.09717017375903,
          1.0983776376408758,
          1.0995851015227218,
          1.1007925654045678,
          1.1020000292864136,
          1.1032074931682596,
          1.1044149570501056,
          1.1056224209319514,
          1.1068298848137974,
          1.1080373486956434,
          1.1092448125774894,
          1.1104522764593352,
          1.1116597403411812,
          1.1128672042230272,
          1.114074668104873,
          1.115282131986719
         ],
         "yaxis": "y"
        }
       ],
       "layout": {
        "legend": {
         "tracegroupgap": 0
        },
        "template": {
         "data": {
          "bar": [
           {
            "error_x": {
             "color": "#f2f5fa"
            },
            "error_y": {
             "color": "#f2f5fa"
            },
            "marker": {
             "line": {
              "color": "rgb(17,17,17)",
              "width": 0.5
             },
             "pattern": {
              "fillmode": "overlay",
              "size": 10,
              "solidity": 0.2
             }
            },
            "type": "bar"
           }
          ],
          "barpolar": [
           {
            "marker": {
             "line": {
              "color": "rgb(17,17,17)",
              "width": 0.5
             },
             "pattern": {
              "fillmode": "overlay",
              "size": 10,
              "solidity": 0.2
             }
            },
            "type": "barpolar"
           }
          ],
          "carpet": [
           {
            "aaxis": {
             "endlinecolor": "#A2B1C6",
             "gridcolor": "#506784",
             "linecolor": "#506784",
             "minorgridcolor": "#506784",
             "startlinecolor": "#A2B1C6"
            },
            "baxis": {
             "endlinecolor": "#A2B1C6",
             "gridcolor": "#506784",
             "linecolor": "#506784",
             "minorgridcolor": "#506784",
             "startlinecolor": "#A2B1C6"
            },
            "type": "carpet"
           }
          ],
          "choropleth": [
           {
            "colorbar": {
             "outlinewidth": 0,
             "ticks": ""
            },
            "type": "choropleth"
           }
          ],
          "contour": [
           {
            "colorbar": {
             "outlinewidth": 0,
             "ticks": ""
            },
            "colorscale": [
             [
              0,
              "#0d0887"
             ],
             [
              0.1111111111111111,
              "#46039f"
             ],
             [
              0.2222222222222222,
              "#7201a8"
             ],
             [
              0.3333333333333333,
              "#9c179e"
             ],
             [
              0.4444444444444444,
              "#bd3786"
             ],
             [
              0.5555555555555556,
              "#d8576b"
             ],
             [
              0.6666666666666666,
              "#ed7953"
             ],
             [
              0.7777777777777778,
              "#fb9f3a"
             ],
             [
              0.8888888888888888,
              "#fdca26"
             ],
             [
              1,
              "#f0f921"
             ]
            ],
            "type": "contour"
           }
          ],
          "contourcarpet": [
           {
            "colorbar": {
             "outlinewidth": 0,
             "ticks": ""
            },
            "type": "contourcarpet"
           }
          ],
          "heatmap": [
           {
            "colorbar": {
             "outlinewidth": 0,
             "ticks": ""
            },
            "colorscale": [
             [
              0,
              "#0d0887"
             ],
             [
              0.1111111111111111,
              "#46039f"
             ],
             [
              0.2222222222222222,
              "#7201a8"
             ],
             [
              0.3333333333333333,
              "#9c179e"
             ],
             [
              0.4444444444444444,
              "#bd3786"
             ],
             [
              0.5555555555555556,
              "#d8576b"
             ],
             [
              0.6666666666666666,
              "#ed7953"
             ],
             [
              0.7777777777777778,
              "#fb9f3a"
             ],
             [
              0.8888888888888888,
              "#fdca26"
             ],
             [
              1,
              "#f0f921"
             ]
            ],
            "type": "heatmap"
           }
          ],
          "heatmapgl": [
           {
            "colorbar": {
             "outlinewidth": 0,
             "ticks": ""
            },
            "colorscale": [
             [
              0,
              "#0d0887"
             ],
             [
              0.1111111111111111,
              "#46039f"
             ],
             [
              0.2222222222222222,
              "#7201a8"
             ],
             [
              0.3333333333333333,
              "#9c179e"
             ],
             [
              0.4444444444444444,
              "#bd3786"
             ],
             [
              0.5555555555555556,
              "#d8576b"
             ],
             [
              0.6666666666666666,
              "#ed7953"
             ],
             [
              0.7777777777777778,
              "#fb9f3a"
             ],
             [
              0.8888888888888888,
              "#fdca26"
             ],
             [
              1,
              "#f0f921"
             ]
            ],
            "type": "heatmapgl"
           }
          ],
          "histogram": [
           {
            "marker": {
             "pattern": {
              "fillmode": "overlay",
              "size": 10,
              "solidity": 0.2
             }
            },
            "type": "histogram"
           }
          ],
          "histogram2d": [
           {
            "colorbar": {
             "outlinewidth": 0,
             "ticks": ""
            },
            "colorscale": [
             [
              0,
              "#0d0887"
             ],
             [
              0.1111111111111111,
              "#46039f"
             ],
             [
              0.2222222222222222,
              "#7201a8"
             ],
             [
              0.3333333333333333,
              "#9c179e"
             ],
             [
              0.4444444444444444,
              "#bd3786"
             ],
             [
              0.5555555555555556,
              "#d8576b"
             ],
             [
              0.6666666666666666,
              "#ed7953"
             ],
             [
              0.7777777777777778,
              "#fb9f3a"
             ],
             [
              0.8888888888888888,
              "#fdca26"
             ],
             [
              1,
              "#f0f921"
             ]
            ],
            "type": "histogram2d"
           }
          ],
          "histogram2dcontour": [
           {
            "colorbar": {
             "outlinewidth": 0,
             "ticks": ""
            },
            "colorscale": [
             [
              0,
              "#0d0887"
             ],
             [
              0.1111111111111111,
              "#46039f"
             ],
             [
              0.2222222222222222,
              "#7201a8"
             ],
             [
              0.3333333333333333,
              "#9c179e"
             ],
             [
              0.4444444444444444,
              "#bd3786"
             ],
             [
              0.5555555555555556,
              "#d8576b"
             ],
             [
              0.6666666666666666,
              "#ed7953"
             ],
             [
              0.7777777777777778,
              "#fb9f3a"
             ],
             [
              0.8888888888888888,
              "#fdca26"
             ],
             [
              1,
              "#f0f921"
             ]
            ],
            "type": "histogram2dcontour"
           }
          ],
          "mesh3d": [
           {
            "colorbar": {
             "outlinewidth": 0,
             "ticks": ""
            },
            "type": "mesh3d"
           }
          ],
          "parcoords": [
           {
            "line": {
             "colorbar": {
              "outlinewidth": 0,
              "ticks": ""
             }
            },
            "type": "parcoords"
           }
          ],
          "pie": [
           {
            "automargin": true,
            "type": "pie"
           }
          ],
          "scatter": [
           {
            "marker": {
             "line": {
              "color": "#283442"
             }
            },
            "type": "scatter"
           }
          ],
          "scatter3d": [
           {
            "line": {
             "colorbar": {
              "outlinewidth": 0,
              "ticks": ""
             }
            },
            "marker": {
             "colorbar": {
              "outlinewidth": 0,
              "ticks": ""
             }
            },
            "type": "scatter3d"
           }
          ],
          "scattercarpet": [
           {
            "marker": {
             "colorbar": {
              "outlinewidth": 0,
              "ticks": ""
             }
            },
            "type": "scattercarpet"
           }
          ],
          "scattergeo": [
           {
            "marker": {
             "colorbar": {
              "outlinewidth": 0,
              "ticks": ""
             }
            },
            "type": "scattergeo"
           }
          ],
          "scattergl": [
           {
            "marker": {
             "line": {
              "color": "#283442"
             }
            },
            "type": "scattergl"
           }
          ],
          "scattermapbox": [
           {
            "marker": {
             "colorbar": {
              "outlinewidth": 0,
              "ticks": ""
             }
            },
            "type": "scattermapbox"
           }
          ],
          "scatterpolar": [
           {
            "marker": {
             "colorbar": {
              "outlinewidth": 0,
              "ticks": ""
             }
            },
            "type": "scatterpolar"
           }
          ],
          "scatterpolargl": [
           {
            "marker": {
             "colorbar": {
              "outlinewidth": 0,
              "ticks": ""
             }
            },
            "type": "scatterpolargl"
           }
          ],
          "scatterternary": [
           {
            "marker": {
             "colorbar": {
              "outlinewidth": 0,
              "ticks": ""
             }
            },
            "type": "scatterternary"
           }
          ],
          "surface": [
           {
            "colorbar": {
             "outlinewidth": 0,
             "ticks": ""
            },
            "colorscale": [
             [
              0,
              "#0d0887"
             ],
             [
              0.1111111111111111,
              "#46039f"
             ],
             [
              0.2222222222222222,
              "#7201a8"
             ],
             [
              0.3333333333333333,
              "#9c179e"
             ],
             [
              0.4444444444444444,
              "#bd3786"
             ],
             [
              0.5555555555555556,
              "#d8576b"
             ],
             [
              0.6666666666666666,
              "#ed7953"
             ],
             [
              0.7777777777777778,
              "#fb9f3a"
             ],
             [
              0.8888888888888888,
              "#fdca26"
             ],
             [
              1,
              "#f0f921"
             ]
            ],
            "type": "surface"
           }
          ],
          "table": [
           {
            "cells": {
             "fill": {
              "color": "#506784"
             },
             "line": {
              "color": "rgb(17,17,17)"
             }
            },
            "header": {
             "fill": {
              "color": "#2a3f5f"
             },
             "line": {
              "color": "rgb(17,17,17)"
             }
            },
            "type": "table"
           }
          ]
         },
         "layout": {
          "annotationdefaults": {
           "arrowcolor": "#f2f5fa",
           "arrowhead": 0,
           "arrowwidth": 1
          },
          "autotypenumbers": "strict",
          "coloraxis": {
           "colorbar": {
            "outlinewidth": 0,
            "ticks": ""
           }
          },
          "colorscale": {
           "diverging": [
            [
             0,
             "#8e0152"
            ],
            [
             0.1,
             "#c51b7d"
            ],
            [
             0.2,
             "#de77ae"
            ],
            [
             0.3,
             "#f1b6da"
            ],
            [
             0.4,
             "#fde0ef"
            ],
            [
             0.5,
             "#f7f7f7"
            ],
            [
             0.6,
             "#e6f5d0"
            ],
            [
             0.7,
             "#b8e186"
            ],
            [
             0.8,
             "#7fbc41"
            ],
            [
             0.9,
             "#4d9221"
            ],
            [
             1,
             "#276419"
            ]
           ],
           "sequential": [
            [
             0,
             "#0d0887"
            ],
            [
             0.1111111111111111,
             "#46039f"
            ],
            [
             0.2222222222222222,
             "#7201a8"
            ],
            [
             0.3333333333333333,
             "#9c179e"
            ],
            [
             0.4444444444444444,
             "#bd3786"
            ],
            [
             0.5555555555555556,
             "#d8576b"
            ],
            [
             0.6666666666666666,
             "#ed7953"
            ],
            [
             0.7777777777777778,
             "#fb9f3a"
            ],
            [
             0.8888888888888888,
             "#fdca26"
            ],
            [
             1,
             "#f0f921"
            ]
           ],
           "sequentialminus": [
            [
             0,
             "#0d0887"
            ],
            [
             0.1111111111111111,
             "#46039f"
            ],
            [
             0.2222222222222222,
             "#7201a8"
            ],
            [
             0.3333333333333333,
             "#9c179e"
            ],
            [
             0.4444444444444444,
             "#bd3786"
            ],
            [
             0.5555555555555556,
             "#d8576b"
            ],
            [
             0.6666666666666666,
             "#ed7953"
            ],
            [
             0.7777777777777778,
             "#fb9f3a"
            ],
            [
             0.8888888888888888,
             "#fdca26"
            ],
            [
             1,
             "#f0f921"
            ]
           ]
          },
          "colorway": [
           "#636efa",
           "#EF553B",
           "#00cc96",
           "#ab63fa",
           "#FFA15A",
           "#19d3f3",
           "#FF6692",
           "#B6E880",
           "#FF97FF",
           "#FECB52"
          ],
          "font": {
           "color": "#f2f5fa"
          },
          "geo": {
           "bgcolor": "rgb(17,17,17)",
           "lakecolor": "rgb(17,17,17)",
           "landcolor": "rgb(17,17,17)",
           "showlakes": true,
           "showland": true,
           "subunitcolor": "#506784"
          },
          "hoverlabel": {
           "align": "left"
          },
          "hovermode": "closest",
          "mapbox": {
           "style": "dark"
          },
          "paper_bgcolor": "rgb(17,17,17)",
          "plot_bgcolor": "rgb(17,17,17)",
          "polar": {
           "angularaxis": {
            "gridcolor": "#506784",
            "linecolor": "#506784",
            "ticks": ""
           },
           "bgcolor": "rgb(17,17,17)",
           "radialaxis": {
            "gridcolor": "#506784",
            "linecolor": "#506784",
            "ticks": ""
           }
          },
          "scene": {
           "xaxis": {
            "backgroundcolor": "rgb(17,17,17)",
            "gridcolor": "#506784",
            "gridwidth": 2,
            "linecolor": "#506784",
            "showbackground": true,
            "ticks": "",
            "zerolinecolor": "#C8D4E3"
           },
           "yaxis": {
            "backgroundcolor": "rgb(17,17,17)",
            "gridcolor": "#506784",
            "gridwidth": 2,
            "linecolor": "#506784",
            "showbackground": true,
            "ticks": "",
            "zerolinecolor": "#C8D4E3"
           },
           "zaxis": {
            "backgroundcolor": "rgb(17,17,17)",
            "gridcolor": "#506784",
            "gridwidth": 2,
            "linecolor": "#506784",
            "showbackground": true,
            "ticks": "",
            "zerolinecolor": "#C8D4E3"
           }
          },
          "shapedefaults": {
           "line": {
            "color": "#f2f5fa"
           }
          },
          "sliderdefaults": {
           "bgcolor": "#C8D4E3",
           "bordercolor": "rgb(17,17,17)",
           "borderwidth": 1,
           "tickwidth": 0
          },
          "ternary": {
           "aaxis": {
            "gridcolor": "#506784",
            "linecolor": "#506784",
            "ticks": ""
           },
           "baxis": {
            "gridcolor": "#506784",
            "linecolor": "#506784",
            "ticks": ""
           },
           "bgcolor": "rgb(17,17,17)",
           "caxis": {
            "gridcolor": "#506784",
            "linecolor": "#506784",
            "ticks": ""
           }
          },
          "title": {
           "x": 0.05
          },
          "updatemenudefaults": {
           "bgcolor": "#506784",
           "borderwidth": 0
          },
          "xaxis": {
           "automargin": true,
           "gridcolor": "#283442",
           "linecolor": "#506784",
           "ticks": "",
           "title": {
            "standoff": 15
           },
           "zerolinecolor": "#283442",
           "zerolinewidth": 2
          },
          "yaxis": {
           "automargin": true,
           "gridcolor": "#283442",
           "linecolor": "#506784",
           "ticks": "",
           "title": {
            "standoff": 15
           },
           "zerolinecolor": "#283442",
           "zerolinewidth": 2
          }
         }
        },
        "title": {
         "text": "Efficient frontier"
        },
        "xaxis": {
         "anchor": "y",
         "domain": [
          0,
          1
         ],
         "title": {
          "text": "variance"
         }
        },
        "yaxis": {
         "anchor": "x",
         "domain": [
          0,
          1
         ],
         "title": {
          "text": "expected_returns"
         }
        }
       }
      }
     },
     "metadata": {},
     "output_type": "display_data"
    }
   ],
   "source": [
    "model.portfolio_frontier(model=\"sim\")"
   ]
  },
  {
   "cell_type": "code",
   "execution_count": 30,
   "metadata": {},
   "outputs": [
    {
     "data": {
      "application/vnd.plotly.v1+json": {
       "config": {
        "plotlyServerURL": "https://plot.ly"
       },
       "data": [
        {
         "customdata": [
          [
           0,
           1
          ],
          [
           0.010101010101010102,
           0.98989898989899
          ],
          [
           0.020202020202020204,
           0.9797979797979798
          ],
          [
           0.030303030303030304,
           0.9696969696969697
          ],
          [
           0.04040404040404041,
           0.9595959595959596
          ],
          [
           0.05050505050505051,
           0.9494949494949495
          ],
          [
           0.06060606060606061,
           0.9393939393939394
          ],
          [
           0.07070707070707072,
           0.9292929292929293
          ],
          [
           0.08080808080808081,
           0.9191919191919192
          ],
          [
           0.09090909090909091,
           0.9090909090909091
          ],
          [
           0.10101010101010102,
           0.898989898989899
          ],
          [
           0.11111111111111112,
           0.8888888888888888
          ],
          [
           0.12121212121212122,
           0.8787878787878788
          ],
          [
           0.13131313131313133,
           0.8686868686868687
          ],
          [
           0.14141414141414144,
           0.8585858585858586
          ],
          [
           0.15151515151515152,
           0.8484848484848485
          ],
          [
           0.16161616161616163,
           0.8383838383838383
          ],
          [
           0.17171717171717174,
           0.8282828282828283
          ],
          [
           0.18181818181818182,
           0.8181818181818181
          ],
          [
           0.19191919191919193,
           0.8080808080808081
          ],
          [
           0.20202020202020204,
           0.797979797979798
          ],
          [
           0.21212121212121213,
           0.7878787878787878
          ],
          [
           0.22222222222222224,
           0.7777777777777778
          ],
          [
           0.23232323232323235,
           0.7676767676767676
          ],
          [
           0.24242424242424243,
           0.7575757575757576
          ],
          [
           0.25252525252525254,
           0.7474747474747474
          ],
          [
           0.26262626262626265,
           0.7373737373737373
          ],
          [
           0.27272727272727276,
           0.7272727272727273
          ],
          [
           0.2828282828282829,
           0.7171717171717171
          ],
          [
           0.29292929292929293,
           0.7070707070707071
          ],
          [
           0.30303030303030304,
           0.696969696969697
          ],
          [
           0.31313131313131315,
           0.6868686868686869
          ],
          [
           0.32323232323232326,
           0.6767676767676767
          ],
          [
           0.33333333333333337,
           0.6666666666666666
          ],
          [
           0.3434343434343435,
           0.6565656565656566
          ],
          [
           0.3535353535353536,
           0.6464646464646464
          ],
          [
           0.36363636363636365,
           0.6363636363636364
          ],
          [
           0.37373737373737376,
           0.6262626262626263
          ],
          [
           0.38383838383838387,
           0.6161616161616161
          ],
          [
           0.393939393939394,
           0.606060606060606
          ],
          [
           0.4040404040404041,
           0.5959595959595959
          ],
          [
           0.4141414141414142,
           0.5858585858585859
          ],
          [
           0.42424242424242425,
           0.5757575757575757
          ],
          [
           0.43434343434343436,
           0.5656565656565656
          ],
          [
           0.4444444444444445,
           0.5555555555555556
          ],
          [
           0.4545454545454546,
           0.5454545454545454
          ],
          [
           0.4646464646464647,
           0.5353535353535352
          ],
          [
           0.4747474747474748,
           0.5252525252525252
          ],
          [
           0.48484848484848486,
           0.5151515151515151
          ],
          [
           0.494949494949495,
           0.505050505050505
          ],
          [
           0.5050505050505051,
           0.4949494949494949
          ],
          [
           0.5151515151515152,
           0.48484848484848475
          ],
          [
           0.5252525252525253,
           0.4747474747474747
          ],
          [
           0.5353535353535354,
           0.46464646464646464
          ],
          [
           0.5454545454545455,
           0.4545454545454545
          ],
          [
           0.5555555555555556,
           0.4444444444444444
          ],
          [
           0.5656565656565657,
           0.43434343434343425
          ],
          [
           0.5757575757575758,
           0.4242424242424242
          ],
          [
           0.5858585858585859,
           0.41414141414141414
          ],
          [
           0.595959595959596,
           0.404040404040404
          ],
          [
           0.6060606060606061,
           0.3939393939393939
          ],
          [
           0.6161616161616162,
           0.38383838383838376
          ],
          [
           0.6262626262626263,
           0.3737373737373737
          ],
          [
           0.6363636363636365,
           0.36363636363636354
          ],
          [
           0.6464646464646465,
           0.3535353535353535
          ],
          [
           0.6565656565656566,
           0.3434343434343434
          ],
          [
           0.6666666666666667,
           0.33333333333333326
          ],
          [
           0.6767676767676768,
           0.3232323232323232
          ],
          [
           0.686868686868687,
           0.31313131313131304
          ],
          [
           0.696969696969697,
           0.303030303030303
          ],
          [
           0.7070707070707072,
           0.2929292929292928
          ],
          [
           0.7171717171717172,
           0.28282828282828276
          ],
          [
           0.7272727272727273,
           0.2727272727272727
          ],
          [
           0.7373737373737375,
           0.26262626262626254
          ],
          [
           0.7474747474747475,
           0.2525252525252525
          ],
          [
           0.7575757575757577,
           0.24242424242424232
          ],
          [
           0.7676767676767677,
           0.23232323232323226
          ],
          [
           0.7777777777777778,
           0.2222222222222222
          ],
          [
           0.787878787878788,
           0.21212121212121204
          ],
          [
           0.797979797979798,
           0.202020202020202
          ],
          [
           0.8080808080808082,
           0.19191919191919182
          ],
          [
           0.8181818181818182,
           0.18181818181818177
          ],
          [
           0.8282828282828284,
           0.1717171717171716
          ],
          [
           0.8383838383838385,
           0.16161616161616155
          ],
          [
           0.8484848484848485,
           0.1515151515151515
          ],
          [
           0.8585858585858587,
           0.14141414141414133
          ],
          [
           0.8686868686868687,
           0.13131313131313127
          ],
          [
           0.8787878787878789,
           0.1212121212121211
          ],
          [
           0.888888888888889,
           0.11111111111111105
          ],
          [
           0.8989898989898991,
           0.10101010101010088
          ],
          [
           0.9090909090909092,
           0.09090909090909083
          ],
          [
           0.9191919191919192,
           0.08080808080808077
          ],
          [
           0.9292929292929294,
           0.07070707070707061
          ],
          [
           0.9393939393939394,
           0.06060606060606055
          ],
          [
           0.9494949494949496,
           0.050505050505050386
          ],
          [
           0.9595959595959597,
           0.04040404040404033
          ],
          [
           0.9696969696969697,
           0.030303030303030276
          ],
          [
           0.9797979797979799,
           0.02020202020202011
          ],
          [
           0.98989898989899,
           0.010101010101010055
          ],
          [
           1,
           0
          ]
         ],
         "hovertemplate": "Standard deviation: %{x:.4f}%<br>Expected return: %{y:.4f}%<br>Apple weight: %{customdata[0]:.4f}<br>Google weight: %{customdata[1]:.4f}",
         "legendgroup": "",
         "line": {
          "color": "#636efa",
          "dash": "solid"
         },
         "marker": {
          "symbol": "circle"
         },
         "mode": "lines",
         "name": "",
         "orientation": "v",
         "showlegend": false,
         "type": "scatter",
         "x": [
          0.4168486357557854,
          0.4128393088995887,
          0.4089624316226408,
          0.4052180039249415,
          0.40160602580649096,
          0.3981264972672892,
          0.39477941830733615,
          0.39156478892663166,
          0.3884826091251761,
          0.3855328789029691,
          0.38271559826001095,
          0.3800307671963014,
          0.3774783857118406,
          0.3750584538066286,
          0.37277097148066524,
          0.37061593873395066,
          0.3685933555664847,
          0.3667032219782676,
          0.36494553796929907,
          0.3633203035395794,
          0.3618275186891084,
          0.3604671834178861,
          0.3592392977259125,
          0.35814386161318756,
          0.35718087507971147,
          0.356350338125484,
          0.3556522507505053,
          0.3550866129547754,
          0.3546534247382941,
          0.3543526861010616,
          0.35418439704307775,
          0.3541485575643426,
          0.3542451676648562,
          0.3544742273446185,
          0.3548357366036296,
          0.35532969544188936,
          0.35595610385939785,
          0.35671496185615503,
          0.35760626943216095,
          0.35863002658741555,
          0.35978623332191895,
          0.3610748896356711,
          0.3624959955286718,
          0.3640495510009214,
          0.36573555605241964,
          0.36755401068316657,
          0.3695049148931622,
          0.3715882686824067,
          0.3738040720508997,
          0.37615232499864154,
          0.3786330275256321,
          0.3812461796318714,
          0.3839917813173594,
          0.38686983258209606,
          0.3898803334260815,
          0.3930232838493157,
          0.39629868385179856,
          0.3997065334335301,
          0.4032468325945105,
          0.4069195813347395,
          0.4107247796542172,
          0.41466242755294375,
          0.41873252503091885,
          0.42293507208814274,
          0.4272700687246154,
          0.43173751494033663,
          0.43633741073530674,
          0.4410697561095256,
          0.44593455106299307,
          0.4509317955957093,
          0.4560614897076742,
          0.4613236333988878,
          0.46671822666935014,
          0.47224526951906126,
          0.47790476194802106,
          0.4836967039562297,
          0.4896210955436868,
          0.49567793671039284,
          0.5018672274563476,
          0.5081889677815509,
          0.5146431576860032,
          0.521229797169704,
          0.5279488862326536,
          0.5348004248748517,
          0.5417844130962988,
          0.5489008508969945,
          0.5561497382769389,
          0.5635310752361322,
          0.5710448617745739,
          0.5786910978922646,
          0.586469783589204,
          0.5943809188653918,
          0.6024245037208287,
          0.6106005381555142,
          0.6189090221694484,
          0.6273499557626312,
          0.6359233389350629,
          0.6446291716867433,
          0.6534674540176724,
          0.66243818592785
         ],
         "xaxis": "x",
         "y": [
          1.5598045933200264,
          1.5591972760565367,
          1.5585899587930467,
          1.5579826415295568,
          1.5573753242660666,
          1.556768007002577,
          1.5561606897390872,
          1.5555533724755972,
          1.5549460552121073,
          1.5543387379486173,
          1.5537314206851276,
          1.5531241034216374,
          1.5525167861581477,
          1.5519094688946578,
          1.5513021516311678,
          1.550694834367678,
          1.5500875171041881,
          1.5494801998406984,
          1.5488728825772085,
          1.5482655653137183,
          1.5476582480502286,
          1.5470509307867386,
          1.5464436135232489,
          1.545836296259759,
          1.545228978996269,
          1.544621661732779,
          1.5440143444692893,
          1.5434070272057996,
          1.5427997099423094,
          1.5421923926788195,
          1.5415850754153297,
          1.5409777581518398,
          1.5403704408883498,
          1.53976312362486,
          1.5391558063613702,
          1.53854848909788,
          1.5379411718343903,
          1.5373338545709005,
          1.5367265373074106,
          1.5361192200439204,
          1.5355119027804307,
          1.5349045855169408,
          1.5342972682534508,
          1.533689950989961,
          1.5330826337264711,
          1.5324753164629814,
          1.5318679991994912,
          1.5312606819360015,
          1.5306533646725118,
          1.5300460474090216,
          1.5294387301455319,
          1.528831412882042,
          1.528224095618552,
          1.5276167783550623,
          1.5270094610915723,
          1.5264021438280824,
          1.5257948265645924,
          1.5251875093011025,
          1.5245801920376127,
          1.5239728747741228,
          1.5233655575106329,
          1.5227582402471431,
          1.522150922983653,
          1.5215436057201632,
          1.5209362884566735,
          1.5203289711931833,
          1.5197216539296936,
          1.5191143366662037,
          1.5185070194027137,
          1.517899702139224,
          1.517292384875734,
          1.516685067612244,
          1.5160777503487541,
          1.5154704330852642,
          1.5148631158217745,
          1.5142557985582845,
          1.5136484812947946,
          1.5130411640313046,
          1.5124338467678147,
          1.511826529504325,
          1.511219212240835,
          1.510611894977345,
          1.5100045777138553,
          1.5093972604503654,
          1.5087899431868754,
          1.5081826259233857,
          1.5075753086598958,
          1.5069679913964058,
          1.5063606741329159,
          1.505753356869426,
          1.5051460396059362,
          1.5045387223424462,
          1.5039314050789565,
          1.5033240878154663,
          1.5027167705519766,
          1.5021094532884867,
          1.501502136024997,
          1.500894818761507,
          1.5002875014980168,
          1.499680184234527
         ],
         "yaxis": "y"
        }
       ],
       "layout": {
        "legend": {
         "tracegroupgap": 0
        },
        "template": {
         "data": {
          "bar": [
           {
            "error_x": {
             "color": "#f2f5fa"
            },
            "error_y": {
             "color": "#f2f5fa"
            },
            "marker": {
             "line": {
              "color": "rgb(17,17,17)",
              "width": 0.5
             },
             "pattern": {
              "fillmode": "overlay",
              "size": 10,
              "solidity": 0.2
             }
            },
            "type": "bar"
           }
          ],
          "barpolar": [
           {
            "marker": {
             "line": {
              "color": "rgb(17,17,17)",
              "width": 0.5
             },
             "pattern": {
              "fillmode": "overlay",
              "size": 10,
              "solidity": 0.2
             }
            },
            "type": "barpolar"
           }
          ],
          "carpet": [
           {
            "aaxis": {
             "endlinecolor": "#A2B1C6",
             "gridcolor": "#506784",
             "linecolor": "#506784",
             "minorgridcolor": "#506784",
             "startlinecolor": "#A2B1C6"
            },
            "baxis": {
             "endlinecolor": "#A2B1C6",
             "gridcolor": "#506784",
             "linecolor": "#506784",
             "minorgridcolor": "#506784",
             "startlinecolor": "#A2B1C6"
            },
            "type": "carpet"
           }
          ],
          "choropleth": [
           {
            "colorbar": {
             "outlinewidth": 0,
             "ticks": ""
            },
            "type": "choropleth"
           }
          ],
          "contour": [
           {
            "colorbar": {
             "outlinewidth": 0,
             "ticks": ""
            },
            "colorscale": [
             [
              0,
              "#0d0887"
             ],
             [
              0.1111111111111111,
              "#46039f"
             ],
             [
              0.2222222222222222,
              "#7201a8"
             ],
             [
              0.3333333333333333,
              "#9c179e"
             ],
             [
              0.4444444444444444,
              "#bd3786"
             ],
             [
              0.5555555555555556,
              "#d8576b"
             ],
             [
              0.6666666666666666,
              "#ed7953"
             ],
             [
              0.7777777777777778,
              "#fb9f3a"
             ],
             [
              0.8888888888888888,
              "#fdca26"
             ],
             [
              1,
              "#f0f921"
             ]
            ],
            "type": "contour"
           }
          ],
          "contourcarpet": [
           {
            "colorbar": {
             "outlinewidth": 0,
             "ticks": ""
            },
            "type": "contourcarpet"
           }
          ],
          "heatmap": [
           {
            "colorbar": {
             "outlinewidth": 0,
             "ticks": ""
            },
            "colorscale": [
             [
              0,
              "#0d0887"
             ],
             [
              0.1111111111111111,
              "#46039f"
             ],
             [
              0.2222222222222222,
              "#7201a8"
             ],
             [
              0.3333333333333333,
              "#9c179e"
             ],
             [
              0.4444444444444444,
              "#bd3786"
             ],
             [
              0.5555555555555556,
              "#d8576b"
             ],
             [
              0.6666666666666666,
              "#ed7953"
             ],
             [
              0.7777777777777778,
              "#fb9f3a"
             ],
             [
              0.8888888888888888,
              "#fdca26"
             ],
             [
              1,
              "#f0f921"
             ]
            ],
            "type": "heatmap"
           }
          ],
          "heatmapgl": [
           {
            "colorbar": {
             "outlinewidth": 0,
             "ticks": ""
            },
            "colorscale": [
             [
              0,
              "#0d0887"
             ],
             [
              0.1111111111111111,
              "#46039f"
             ],
             [
              0.2222222222222222,
              "#7201a8"
             ],
             [
              0.3333333333333333,
              "#9c179e"
             ],
             [
              0.4444444444444444,
              "#bd3786"
             ],
             [
              0.5555555555555556,
              "#d8576b"
             ],
             [
              0.6666666666666666,
              "#ed7953"
             ],
             [
              0.7777777777777778,
              "#fb9f3a"
             ],
             [
              0.8888888888888888,
              "#fdca26"
             ],
             [
              1,
              "#f0f921"
             ]
            ],
            "type": "heatmapgl"
           }
          ],
          "histogram": [
           {
            "marker": {
             "pattern": {
              "fillmode": "overlay",
              "size": 10,
              "solidity": 0.2
             }
            },
            "type": "histogram"
           }
          ],
          "histogram2d": [
           {
            "colorbar": {
             "outlinewidth": 0,
             "ticks": ""
            },
            "colorscale": [
             [
              0,
              "#0d0887"
             ],
             [
              0.1111111111111111,
              "#46039f"
             ],
             [
              0.2222222222222222,
              "#7201a8"
             ],
             [
              0.3333333333333333,
              "#9c179e"
             ],
             [
              0.4444444444444444,
              "#bd3786"
             ],
             [
              0.5555555555555556,
              "#d8576b"
             ],
             [
              0.6666666666666666,
              "#ed7953"
             ],
             [
              0.7777777777777778,
              "#fb9f3a"
             ],
             [
              0.8888888888888888,
              "#fdca26"
             ],
             [
              1,
              "#f0f921"
             ]
            ],
            "type": "histogram2d"
           }
          ],
          "histogram2dcontour": [
           {
            "colorbar": {
             "outlinewidth": 0,
             "ticks": ""
            },
            "colorscale": [
             [
              0,
              "#0d0887"
             ],
             [
              0.1111111111111111,
              "#46039f"
             ],
             [
              0.2222222222222222,
              "#7201a8"
             ],
             [
              0.3333333333333333,
              "#9c179e"
             ],
             [
              0.4444444444444444,
              "#bd3786"
             ],
             [
              0.5555555555555556,
              "#d8576b"
             ],
             [
              0.6666666666666666,
              "#ed7953"
             ],
             [
              0.7777777777777778,
              "#fb9f3a"
             ],
             [
              0.8888888888888888,
              "#fdca26"
             ],
             [
              1,
              "#f0f921"
             ]
            ],
            "type": "histogram2dcontour"
           }
          ],
          "mesh3d": [
           {
            "colorbar": {
             "outlinewidth": 0,
             "ticks": ""
            },
            "type": "mesh3d"
           }
          ],
          "parcoords": [
           {
            "line": {
             "colorbar": {
              "outlinewidth": 0,
              "ticks": ""
             }
            },
            "type": "parcoords"
           }
          ],
          "pie": [
           {
            "automargin": true,
            "type": "pie"
           }
          ],
          "scatter": [
           {
            "marker": {
             "line": {
              "color": "#283442"
             }
            },
            "type": "scatter"
           }
          ],
          "scatter3d": [
           {
            "line": {
             "colorbar": {
              "outlinewidth": 0,
              "ticks": ""
             }
            },
            "marker": {
             "colorbar": {
              "outlinewidth": 0,
              "ticks": ""
             }
            },
            "type": "scatter3d"
           }
          ],
          "scattercarpet": [
           {
            "marker": {
             "colorbar": {
              "outlinewidth": 0,
              "ticks": ""
             }
            },
            "type": "scattercarpet"
           }
          ],
          "scattergeo": [
           {
            "marker": {
             "colorbar": {
              "outlinewidth": 0,
              "ticks": ""
             }
            },
            "type": "scattergeo"
           }
          ],
          "scattergl": [
           {
            "marker": {
             "line": {
              "color": "#283442"
             }
            },
            "type": "scattergl"
           }
          ],
          "scattermapbox": [
           {
            "marker": {
             "colorbar": {
              "outlinewidth": 0,
              "ticks": ""
             }
            },
            "type": "scattermapbox"
           }
          ],
          "scatterpolar": [
           {
            "marker": {
             "colorbar": {
              "outlinewidth": 0,
              "ticks": ""
             }
            },
            "type": "scatterpolar"
           }
          ],
          "scatterpolargl": [
           {
            "marker": {
             "colorbar": {
              "outlinewidth": 0,
              "ticks": ""
             }
            },
            "type": "scatterpolargl"
           }
          ],
          "scatterternary": [
           {
            "marker": {
             "colorbar": {
              "outlinewidth": 0,
              "ticks": ""
             }
            },
            "type": "scatterternary"
           }
          ],
          "surface": [
           {
            "colorbar": {
             "outlinewidth": 0,
             "ticks": ""
            },
            "colorscale": [
             [
              0,
              "#0d0887"
             ],
             [
              0.1111111111111111,
              "#46039f"
             ],
             [
              0.2222222222222222,
              "#7201a8"
             ],
             [
              0.3333333333333333,
              "#9c179e"
             ],
             [
              0.4444444444444444,
              "#bd3786"
             ],
             [
              0.5555555555555556,
              "#d8576b"
             ],
             [
              0.6666666666666666,
              "#ed7953"
             ],
             [
              0.7777777777777778,
              "#fb9f3a"
             ],
             [
              0.8888888888888888,
              "#fdca26"
             ],
             [
              1,
              "#f0f921"
             ]
            ],
            "type": "surface"
           }
          ],
          "table": [
           {
            "cells": {
             "fill": {
              "color": "#506784"
             },
             "line": {
              "color": "rgb(17,17,17)"
             }
            },
            "header": {
             "fill": {
              "color": "#2a3f5f"
             },
             "line": {
              "color": "rgb(17,17,17)"
             }
            },
            "type": "table"
           }
          ]
         },
         "layout": {
          "annotationdefaults": {
           "arrowcolor": "#f2f5fa",
           "arrowhead": 0,
           "arrowwidth": 1
          },
          "autotypenumbers": "strict",
          "coloraxis": {
           "colorbar": {
            "outlinewidth": 0,
            "ticks": ""
           }
          },
          "colorscale": {
           "diverging": [
            [
             0,
             "#8e0152"
            ],
            [
             0.1,
             "#c51b7d"
            ],
            [
             0.2,
             "#de77ae"
            ],
            [
             0.3,
             "#f1b6da"
            ],
            [
             0.4,
             "#fde0ef"
            ],
            [
             0.5,
             "#f7f7f7"
            ],
            [
             0.6,
             "#e6f5d0"
            ],
            [
             0.7,
             "#b8e186"
            ],
            [
             0.8,
             "#7fbc41"
            ],
            [
             0.9,
             "#4d9221"
            ],
            [
             1,
             "#276419"
            ]
           ],
           "sequential": [
            [
             0,
             "#0d0887"
            ],
            [
             0.1111111111111111,
             "#46039f"
            ],
            [
             0.2222222222222222,
             "#7201a8"
            ],
            [
             0.3333333333333333,
             "#9c179e"
            ],
            [
             0.4444444444444444,
             "#bd3786"
            ],
            [
             0.5555555555555556,
             "#d8576b"
            ],
            [
             0.6666666666666666,
             "#ed7953"
            ],
            [
             0.7777777777777778,
             "#fb9f3a"
            ],
            [
             0.8888888888888888,
             "#fdca26"
            ],
            [
             1,
             "#f0f921"
            ]
           ],
           "sequentialminus": [
            [
             0,
             "#0d0887"
            ],
            [
             0.1111111111111111,
             "#46039f"
            ],
            [
             0.2222222222222222,
             "#7201a8"
            ],
            [
             0.3333333333333333,
             "#9c179e"
            ],
            [
             0.4444444444444444,
             "#bd3786"
            ],
            [
             0.5555555555555556,
             "#d8576b"
            ],
            [
             0.6666666666666666,
             "#ed7953"
            ],
            [
             0.7777777777777778,
             "#fb9f3a"
            ],
            [
             0.8888888888888888,
             "#fdca26"
            ],
            [
             1,
             "#f0f921"
            ]
           ]
          },
          "colorway": [
           "#636efa",
           "#EF553B",
           "#00cc96",
           "#ab63fa",
           "#FFA15A",
           "#19d3f3",
           "#FF6692",
           "#B6E880",
           "#FF97FF",
           "#FECB52"
          ],
          "font": {
           "color": "#f2f5fa"
          },
          "geo": {
           "bgcolor": "rgb(17,17,17)",
           "lakecolor": "rgb(17,17,17)",
           "landcolor": "rgb(17,17,17)",
           "showlakes": true,
           "showland": true,
           "subunitcolor": "#506784"
          },
          "hoverlabel": {
           "align": "left"
          },
          "hovermode": "closest",
          "mapbox": {
           "style": "dark"
          },
          "paper_bgcolor": "rgb(17,17,17)",
          "plot_bgcolor": "rgb(17,17,17)",
          "polar": {
           "angularaxis": {
            "gridcolor": "#506784",
            "linecolor": "#506784",
            "ticks": ""
           },
           "bgcolor": "rgb(17,17,17)",
           "radialaxis": {
            "gridcolor": "#506784",
            "linecolor": "#506784",
            "ticks": ""
           }
          },
          "scene": {
           "xaxis": {
            "backgroundcolor": "rgb(17,17,17)",
            "gridcolor": "#506784",
            "gridwidth": 2,
            "linecolor": "#506784",
            "showbackground": true,
            "ticks": "",
            "zerolinecolor": "#C8D4E3"
           },
           "yaxis": {
            "backgroundcolor": "rgb(17,17,17)",
            "gridcolor": "#506784",
            "gridwidth": 2,
            "linecolor": "#506784",
            "showbackground": true,
            "ticks": "",
            "zerolinecolor": "#C8D4E3"
           },
           "zaxis": {
            "backgroundcolor": "rgb(17,17,17)",
            "gridcolor": "#506784",
            "gridwidth": 2,
            "linecolor": "#506784",
            "showbackground": true,
            "ticks": "",
            "zerolinecolor": "#C8D4E3"
           }
          },
          "shapedefaults": {
           "line": {
            "color": "#f2f5fa"
           }
          },
          "sliderdefaults": {
           "bgcolor": "#C8D4E3",
           "bordercolor": "rgb(17,17,17)",
           "borderwidth": 1,
           "tickwidth": 0
          },
          "ternary": {
           "aaxis": {
            "gridcolor": "#506784",
            "linecolor": "#506784",
            "ticks": ""
           },
           "baxis": {
            "gridcolor": "#506784",
            "linecolor": "#506784",
            "ticks": ""
           },
           "bgcolor": "rgb(17,17,17)",
           "caxis": {
            "gridcolor": "#506784",
            "linecolor": "#506784",
            "ticks": ""
           }
          },
          "title": {
           "x": 0.05
          },
          "updatemenudefaults": {
           "bgcolor": "#506784",
           "borderwidth": 0
          },
          "xaxis": {
           "automargin": true,
           "gridcolor": "#283442",
           "linecolor": "#506784",
           "ticks": "",
           "title": {
            "standoff": 15
           },
           "zerolinecolor": "#283442",
           "zerolinewidth": 2
          },
          "yaxis": {
           "automargin": true,
           "gridcolor": "#283442",
           "linecolor": "#506784",
           "ticks": "",
           "title": {
            "standoff": 15
           },
           "zerolinecolor": "#283442",
           "zerolinewidth": 2
          }
         }
        },
        "title": {
         "text": "Efficient frontier"
        },
        "xaxis": {
         "anchor": "y",
         "domain": [
          0,
          1
         ],
         "title": {
          "text": "variance"
         }
        },
        "yaxis": {
         "anchor": "x",
         "domain": [
          0,
          1
         ],
         "title": {
          "text": "expected_returns"
         }
        }
       }
      }
     },
     "metadata": {},
     "output_type": "display_data"
    }
   ],
   "source": [
    "model.portfolio_frontier(model=\"fff3\")"
   ]
  },
  {
   "cell_type": "code",
   "execution_count": 38,
   "metadata": {},
   "outputs": [
    {
     "data": {
      "application/vnd.plotly.v1+json": {
       "config": {
        "plotlyServerURL": "https://plot.ly"
       },
       "data": [
        {
         "customdata": [
          [
           0,
           1
          ],
          [
           0.010101010101010102,
           0.98989898989899
          ],
          [
           0.020202020202020204,
           0.9797979797979798
          ],
          [
           0.030303030303030304,
           0.9696969696969697
          ],
          [
           0.04040404040404041,
           0.9595959595959596
          ],
          [
           0.05050505050505051,
           0.9494949494949495
          ],
          [
           0.06060606060606061,
           0.9393939393939394
          ],
          [
           0.07070707070707072,
           0.9292929292929293
          ],
          [
           0.08080808080808081,
           0.9191919191919192
          ],
          [
           0.09090909090909091,
           0.9090909090909091
          ],
          [
           0.10101010101010102,
           0.898989898989899
          ],
          [
           0.11111111111111112,
           0.8888888888888888
          ],
          [
           0.12121212121212122,
           0.8787878787878788
          ],
          [
           0.13131313131313133,
           0.8686868686868687
          ],
          [
           0.14141414141414144,
           0.8585858585858586
          ],
          [
           0.15151515151515152,
           0.8484848484848485
          ],
          [
           0.16161616161616163,
           0.8383838383838383
          ],
          [
           0.17171717171717174,
           0.8282828282828283
          ],
          [
           0.18181818181818182,
           0.8181818181818181
          ],
          [
           0.19191919191919193,
           0.8080808080808081
          ],
          [
           0.20202020202020204,
           0.797979797979798
          ],
          [
           0.21212121212121213,
           0.7878787878787878
          ],
          [
           0.22222222222222224,
           0.7777777777777778
          ],
          [
           0.23232323232323235,
           0.7676767676767676
          ],
          [
           0.24242424242424243,
           0.7575757575757576
          ],
          [
           0.25252525252525254,
           0.7474747474747474
          ],
          [
           0.26262626262626265,
           0.7373737373737373
          ],
          [
           0.27272727272727276,
           0.7272727272727273
          ],
          [
           0.2828282828282829,
           0.7171717171717171
          ],
          [
           0.29292929292929293,
           0.7070707070707071
          ],
          [
           0.30303030303030304,
           0.696969696969697
          ],
          [
           0.31313131313131315,
           0.6868686868686869
          ],
          [
           0.32323232323232326,
           0.6767676767676767
          ],
          [
           0.33333333333333337,
           0.6666666666666666
          ],
          [
           0.3434343434343435,
           0.6565656565656566
          ],
          [
           0.3535353535353536,
           0.6464646464646464
          ],
          [
           0.36363636363636365,
           0.6363636363636364
          ],
          [
           0.37373737373737376,
           0.6262626262626263
          ],
          [
           0.38383838383838387,
           0.6161616161616161
          ],
          [
           0.393939393939394,
           0.606060606060606
          ],
          [
           0.4040404040404041,
           0.5959595959595959
          ],
          [
           0.4141414141414142,
           0.5858585858585859
          ],
          [
           0.42424242424242425,
           0.5757575757575757
          ],
          [
           0.43434343434343436,
           0.5656565656565656
          ],
          [
           0.4444444444444445,
           0.5555555555555556
          ],
          [
           0.4545454545454546,
           0.5454545454545454
          ],
          [
           0.4646464646464647,
           0.5353535353535352
          ],
          [
           0.4747474747474748,
           0.5252525252525252
          ],
          [
           0.48484848484848486,
           0.5151515151515151
          ],
          [
           0.494949494949495,
           0.505050505050505
          ],
          [
           0.5050505050505051,
           0.4949494949494949
          ],
          [
           0.5151515151515152,
           0.48484848484848475
          ],
          [
           0.5252525252525253,
           0.4747474747474747
          ],
          [
           0.5353535353535354,
           0.46464646464646464
          ],
          [
           0.5454545454545455,
           0.4545454545454545
          ],
          [
           0.5555555555555556,
           0.4444444444444444
          ],
          [
           0.5656565656565657,
           0.43434343434343425
          ],
          [
           0.5757575757575758,
           0.4242424242424242
          ],
          [
           0.5858585858585859,
           0.41414141414141414
          ],
          [
           0.595959595959596,
           0.404040404040404
          ],
          [
           0.6060606060606061,
           0.3939393939393939
          ],
          [
           0.6161616161616162,
           0.38383838383838376
          ],
          [
           0.6262626262626263,
           0.3737373737373737
          ],
          [
           0.6363636363636365,
           0.36363636363636354
          ],
          [
           0.6464646464646465,
           0.3535353535353535
          ],
          [
           0.6565656565656566,
           0.3434343434343434
          ],
          [
           0.6666666666666667,
           0.33333333333333326
          ],
          [
           0.6767676767676768,
           0.3232323232323232
          ],
          [
           0.686868686868687,
           0.31313131313131304
          ],
          [
           0.696969696969697,
           0.303030303030303
          ],
          [
           0.7070707070707072,
           0.2929292929292928
          ],
          [
           0.7171717171717172,
           0.28282828282828276
          ],
          [
           0.7272727272727273,
           0.2727272727272727
          ],
          [
           0.7373737373737375,
           0.26262626262626254
          ],
          [
           0.7474747474747475,
           0.2525252525252525
          ],
          [
           0.7575757575757577,
           0.24242424242424232
          ],
          [
           0.7676767676767677,
           0.23232323232323226
          ],
          [
           0.7777777777777778,
           0.2222222222222222
          ],
          [
           0.787878787878788,
           0.21212121212121204
          ],
          [
           0.797979797979798,
           0.202020202020202
          ],
          [
           0.8080808080808082,
           0.19191919191919182
          ],
          [
           0.8181818181818182,
           0.18181818181818177
          ],
          [
           0.8282828282828284,
           0.1717171717171716
          ],
          [
           0.8383838383838385,
           0.16161616161616155
          ],
          [
           0.8484848484848485,
           0.1515151515151515
          ],
          [
           0.8585858585858587,
           0.14141414141414133
          ],
          [
           0.8686868686868687,
           0.13131313131313127
          ],
          [
           0.8787878787878789,
           0.1212121212121211
          ],
          [
           0.888888888888889,
           0.11111111111111105
          ],
          [
           0.8989898989898991,
           0.10101010101010088
          ],
          [
           0.9090909090909092,
           0.09090909090909083
          ],
          [
           0.9191919191919192,
           0.08080808080808077
          ],
          [
           0.9292929292929294,
           0.07070707070707061
          ],
          [
           0.9393939393939394,
           0.06060606060606055
          ],
          [
           0.9494949494949496,
           0.050505050505050386
          ],
          [
           0.9595959595959597,
           0.04040404040404033
          ],
          [
           0.9696969696969697,
           0.030303030303030276
          ],
          [
           0.9797979797979799,
           0.02020202020202011
          ],
          [
           0.98989898989899,
           0.010101010101010055
          ],
          [
           1,
           0
          ]
         ],
         "hovertemplate": "Standard deviation: %{x:.4f}%<br>Expected return: %{y:.4f}%<br>Apple weight: %{customdata[0]:.4f}<br>Google weight: %{customdata[1]:.4f}",
         "legendgroup": "",
         "line": {
          "color": "#636efa",
          "dash": "solid"
         },
         "marker": {
          "symbol": "circle"
         },
         "mode": "lines",
         "name": "",
         "orientation": "v",
         "showlegend": false,
         "type": "scatter",
         "x": [
          0.4168486357557854,
          0.4128393088995887,
          0.4089624316226408,
          0.4052180039249415,
          0.40160602580649096,
          0.3981264972672892,
          0.39477941830733615,
          0.39156478892663166,
          0.3884826091251761,
          0.3855328789029691,
          0.38271559826001095,
          0.3800307671963014,
          0.3774783857118406,
          0.3750584538066286,
          0.37277097148066524,
          0.37061593873395066,
          0.3685933555664847,
          0.3667032219782676,
          0.36494553796929907,
          0.3633203035395794,
          0.3618275186891084,
          0.3604671834178861,
          0.3592392977259125,
          0.35814386161318756,
          0.35718087507971147,
          0.356350338125484,
          0.3556522507505053,
          0.3550866129547754,
          0.3546534247382941,
          0.3543526861010616,
          0.35418439704307775,
          0.3541485575643426,
          0.3542451676648562,
          0.3544742273446185,
          0.3548357366036296,
          0.35532969544188936,
          0.35595610385939785,
          0.35671496185615503,
          0.35760626943216095,
          0.35863002658741555,
          0.35978623332191895,
          0.3610748896356711,
          0.3624959955286718,
          0.3640495510009214,
          0.36573555605241964,
          0.36755401068316657,
          0.3695049148931622,
          0.3715882686824067,
          0.3738040720508997,
          0.37615232499864154,
          0.3786330275256321,
          0.3812461796318714,
          0.3839917813173594,
          0.38686983258209606,
          0.3898803334260815,
          0.3930232838493157,
          0.39629868385179856,
          0.3997065334335301,
          0.4032468325945105,
          0.4069195813347395,
          0.4107247796542172,
          0.41466242755294375,
          0.41873252503091885,
          0.42293507208814274,
          0.4272700687246154,
          0.43173751494033663,
          0.43633741073530674,
          0.4410697561095256,
          0.44593455106299307,
          0.4509317955957093,
          0.4560614897076742,
          0.4613236333988878,
          0.46671822666935014,
          0.47224526951906126,
          0.47790476194802106,
          0.4836967039562297,
          0.4896210955436868,
          0.49567793671039284,
          0.5018672274563476,
          0.5081889677815509,
          0.5146431576860032,
          0.521229797169704,
          0.5279488862326536,
          0.5348004248748517,
          0.5417844130962988,
          0.5489008508969945,
          0.5561497382769389,
          0.5635310752361322,
          0.5710448617745739,
          0.5786910978922646,
          0.586469783589204,
          0.5943809188653918,
          0.6024245037208287,
          0.6106005381555142,
          0.6189090221694484,
          0.6273499557626312,
          0.6359233389350629,
          0.6446291716867433,
          0.6534674540176724,
          0.66243818592785
         ],
         "xaxis": "x",
         "y": [
          1.2729714233235907,
          1.2767939000469064,
          1.2806163767702214,
          1.2844388534935371,
          1.2882613302168524,
          1.2920838069401681,
          1.2959062836634834,
          1.2997287603867989,
          1.3035512371101143,
          1.3073737138334296,
          1.3111961905567453,
          1.3150186672800606,
          1.318841144003376,
          1.3226636207266915,
          1.326486097450007,
          1.3303085741733225,
          1.3341310508966377,
          1.3379535276199532,
          1.3417760043432687,
          1.3455984810665842,
          1.3494209577898997,
          1.3532434345132152,
          1.3570659112365306,
          1.3608883879598461,
          1.3647108646831616,
          1.3685333414064769,
          1.3723558181297923,
          1.3761782948531078,
          1.3800007715764233,
          1.3838232482997386,
          1.387645725023054,
          1.3914682017463695,
          1.395290678469685,
          1.3991131551930005,
          1.402935631916316,
          1.4067581086396315,
          1.410580585362947,
          1.4144030620862624,
          1.418225538809578,
          1.4220480155328932,
          1.4258704922562087,
          1.4296929689795241,
          1.4335154457028394,
          1.4373379224261549,
          1.4411603991494704,
          1.4449828758727858,
          1.4488053525961013,
          1.4526278293194168,
          1.4564503060427323,
          1.4602727827660478,
          1.4640952594893633,
          1.4679177362126787,
          1.4717402129359942,
          1.4755626896593095,
          1.479385166382625,
          1.4832076431059402,
          1.487030119829256,
          1.4908525965525712,
          1.4946750732758867,
          1.4984975499992021,
          1.5023200267225176,
          1.5061425034458331,
          1.5099649801691486,
          1.513787456892464,
          1.5176099336157796,
          1.5214324103390948,
          1.5252548870624103,
          1.5290773637857256,
          1.532899840509041,
          1.5367223172323567,
          1.5405447939556722,
          1.5443672706789875,
          1.548189747402303,
          1.5520122241256185,
          1.555834700848934,
          1.5596571775722492,
          1.563479654295565,
          1.5673021310188804,
          1.5711246077421959,
          1.5749470844655111,
          1.5787695611888266,
          1.5825920379121419,
          1.5864145146354574,
          1.590236991358773,
          1.5940594680820883,
          1.5978819448054038,
          1.6017044215287193,
          1.6055268982520348,
          1.60934937497535,
          1.6131718516986655,
          1.6169943284219812,
          1.6208168051452965,
          1.624639281868612,
          1.6284617585919274,
          1.632284235315243,
          1.6361067120385582,
          1.6399291887618739,
          1.6437516654851894,
          1.6475741422085046,
          1.65139661893182
         ],
         "yaxis": "y"
        }
       ],
       "layout": {
        "legend": {
         "tracegroupgap": 0
        },
        "template": {
         "data": {
          "bar": [
           {
            "error_x": {
             "color": "#f2f5fa"
            },
            "error_y": {
             "color": "#f2f5fa"
            },
            "marker": {
             "line": {
              "color": "rgb(17,17,17)",
              "width": 0.5
             },
             "pattern": {
              "fillmode": "overlay",
              "size": 10,
              "solidity": 0.2
             }
            },
            "type": "bar"
           }
          ],
          "barpolar": [
           {
            "marker": {
             "line": {
              "color": "rgb(17,17,17)",
              "width": 0.5
             },
             "pattern": {
              "fillmode": "overlay",
              "size": 10,
              "solidity": 0.2
             }
            },
            "type": "barpolar"
           }
          ],
          "carpet": [
           {
            "aaxis": {
             "endlinecolor": "#A2B1C6",
             "gridcolor": "#506784",
             "linecolor": "#506784",
             "minorgridcolor": "#506784",
             "startlinecolor": "#A2B1C6"
            },
            "baxis": {
             "endlinecolor": "#A2B1C6",
             "gridcolor": "#506784",
             "linecolor": "#506784",
             "minorgridcolor": "#506784",
             "startlinecolor": "#A2B1C6"
            },
            "type": "carpet"
           }
          ],
          "choropleth": [
           {
            "colorbar": {
             "outlinewidth": 0,
             "ticks": ""
            },
            "type": "choropleth"
           }
          ],
          "contour": [
           {
            "colorbar": {
             "outlinewidth": 0,
             "ticks": ""
            },
            "colorscale": [
             [
              0,
              "#0d0887"
             ],
             [
              0.1111111111111111,
              "#46039f"
             ],
             [
              0.2222222222222222,
              "#7201a8"
             ],
             [
              0.3333333333333333,
              "#9c179e"
             ],
             [
              0.4444444444444444,
              "#bd3786"
             ],
             [
              0.5555555555555556,
              "#d8576b"
             ],
             [
              0.6666666666666666,
              "#ed7953"
             ],
             [
              0.7777777777777778,
              "#fb9f3a"
             ],
             [
              0.8888888888888888,
              "#fdca26"
             ],
             [
              1,
              "#f0f921"
             ]
            ],
            "type": "contour"
           }
          ],
          "contourcarpet": [
           {
            "colorbar": {
             "outlinewidth": 0,
             "ticks": ""
            },
            "type": "contourcarpet"
           }
          ],
          "heatmap": [
           {
            "colorbar": {
             "outlinewidth": 0,
             "ticks": ""
            },
            "colorscale": [
             [
              0,
              "#0d0887"
             ],
             [
              0.1111111111111111,
              "#46039f"
             ],
             [
              0.2222222222222222,
              "#7201a8"
             ],
             [
              0.3333333333333333,
              "#9c179e"
             ],
             [
              0.4444444444444444,
              "#bd3786"
             ],
             [
              0.5555555555555556,
              "#d8576b"
             ],
             [
              0.6666666666666666,
              "#ed7953"
             ],
             [
              0.7777777777777778,
              "#fb9f3a"
             ],
             [
              0.8888888888888888,
              "#fdca26"
             ],
             [
              1,
              "#f0f921"
             ]
            ],
            "type": "heatmap"
           }
          ],
          "heatmapgl": [
           {
            "colorbar": {
             "outlinewidth": 0,
             "ticks": ""
            },
            "colorscale": [
             [
              0,
              "#0d0887"
             ],
             [
              0.1111111111111111,
              "#46039f"
             ],
             [
              0.2222222222222222,
              "#7201a8"
             ],
             [
              0.3333333333333333,
              "#9c179e"
             ],
             [
              0.4444444444444444,
              "#bd3786"
             ],
             [
              0.5555555555555556,
              "#d8576b"
             ],
             [
              0.6666666666666666,
              "#ed7953"
             ],
             [
              0.7777777777777778,
              "#fb9f3a"
             ],
             [
              0.8888888888888888,
              "#fdca26"
             ],
             [
              1,
              "#f0f921"
             ]
            ],
            "type": "heatmapgl"
           }
          ],
          "histogram": [
           {
            "marker": {
             "pattern": {
              "fillmode": "overlay",
              "size": 10,
              "solidity": 0.2
             }
            },
            "type": "histogram"
           }
          ],
          "histogram2d": [
           {
            "colorbar": {
             "outlinewidth": 0,
             "ticks": ""
            },
            "colorscale": [
             [
              0,
              "#0d0887"
             ],
             [
              0.1111111111111111,
              "#46039f"
             ],
             [
              0.2222222222222222,
              "#7201a8"
             ],
             [
              0.3333333333333333,
              "#9c179e"
             ],
             [
              0.4444444444444444,
              "#bd3786"
             ],
             [
              0.5555555555555556,
              "#d8576b"
             ],
             [
              0.6666666666666666,
              "#ed7953"
             ],
             [
              0.7777777777777778,
              "#fb9f3a"
             ],
             [
              0.8888888888888888,
              "#fdca26"
             ],
             [
              1,
              "#f0f921"
             ]
            ],
            "type": "histogram2d"
           }
          ],
          "histogram2dcontour": [
           {
            "colorbar": {
             "outlinewidth": 0,
             "ticks": ""
            },
            "colorscale": [
             [
              0,
              "#0d0887"
             ],
             [
              0.1111111111111111,
              "#46039f"
             ],
             [
              0.2222222222222222,
              "#7201a8"
             ],
             [
              0.3333333333333333,
              "#9c179e"
             ],
             [
              0.4444444444444444,
              "#bd3786"
             ],
             [
              0.5555555555555556,
              "#d8576b"
             ],
             [
              0.6666666666666666,
              "#ed7953"
             ],
             [
              0.7777777777777778,
              "#fb9f3a"
             ],
             [
              0.8888888888888888,
              "#fdca26"
             ],
             [
              1,
              "#f0f921"
             ]
            ],
            "type": "histogram2dcontour"
           }
          ],
          "mesh3d": [
           {
            "colorbar": {
             "outlinewidth": 0,
             "ticks": ""
            },
            "type": "mesh3d"
           }
          ],
          "parcoords": [
           {
            "line": {
             "colorbar": {
              "outlinewidth": 0,
              "ticks": ""
             }
            },
            "type": "parcoords"
           }
          ],
          "pie": [
           {
            "automargin": true,
            "type": "pie"
           }
          ],
          "scatter": [
           {
            "marker": {
             "line": {
              "color": "#283442"
             }
            },
            "type": "scatter"
           }
          ],
          "scatter3d": [
           {
            "line": {
             "colorbar": {
              "outlinewidth": 0,
              "ticks": ""
             }
            },
            "marker": {
             "colorbar": {
              "outlinewidth": 0,
              "ticks": ""
             }
            },
            "type": "scatter3d"
           }
          ],
          "scattercarpet": [
           {
            "marker": {
             "colorbar": {
              "outlinewidth": 0,
              "ticks": ""
             }
            },
            "type": "scattercarpet"
           }
          ],
          "scattergeo": [
           {
            "marker": {
             "colorbar": {
              "outlinewidth": 0,
              "ticks": ""
             }
            },
            "type": "scattergeo"
           }
          ],
          "scattergl": [
           {
            "marker": {
             "line": {
              "color": "#283442"
             }
            },
            "type": "scattergl"
           }
          ],
          "scattermapbox": [
           {
            "marker": {
             "colorbar": {
              "outlinewidth": 0,
              "ticks": ""
             }
            },
            "type": "scattermapbox"
           }
          ],
          "scatterpolar": [
           {
            "marker": {
             "colorbar": {
              "outlinewidth": 0,
              "ticks": ""
             }
            },
            "type": "scatterpolar"
           }
          ],
          "scatterpolargl": [
           {
            "marker": {
             "colorbar": {
              "outlinewidth": 0,
              "ticks": ""
             }
            },
            "type": "scatterpolargl"
           }
          ],
          "scatterternary": [
           {
            "marker": {
             "colorbar": {
              "outlinewidth": 0,
              "ticks": ""
             }
            },
            "type": "scatterternary"
           }
          ],
          "surface": [
           {
            "colorbar": {
             "outlinewidth": 0,
             "ticks": ""
            },
            "colorscale": [
             [
              0,
              "#0d0887"
             ],
             [
              0.1111111111111111,
              "#46039f"
             ],
             [
              0.2222222222222222,
              "#7201a8"
             ],
             [
              0.3333333333333333,
              "#9c179e"
             ],
             [
              0.4444444444444444,
              "#bd3786"
             ],
             [
              0.5555555555555556,
              "#d8576b"
             ],
             [
              0.6666666666666666,
              "#ed7953"
             ],
             [
              0.7777777777777778,
              "#fb9f3a"
             ],
             [
              0.8888888888888888,
              "#fdca26"
             ],
             [
              1,
              "#f0f921"
             ]
            ],
            "type": "surface"
           }
          ],
          "table": [
           {
            "cells": {
             "fill": {
              "color": "#506784"
             },
             "line": {
              "color": "rgb(17,17,17)"
             }
            },
            "header": {
             "fill": {
              "color": "#2a3f5f"
             },
             "line": {
              "color": "rgb(17,17,17)"
             }
            },
            "type": "table"
           }
          ]
         },
         "layout": {
          "annotationdefaults": {
           "arrowcolor": "#f2f5fa",
           "arrowhead": 0,
           "arrowwidth": 1
          },
          "autotypenumbers": "strict",
          "coloraxis": {
           "colorbar": {
            "outlinewidth": 0,
            "ticks": ""
           }
          },
          "colorscale": {
           "diverging": [
            [
             0,
             "#8e0152"
            ],
            [
             0.1,
             "#c51b7d"
            ],
            [
             0.2,
             "#de77ae"
            ],
            [
             0.3,
             "#f1b6da"
            ],
            [
             0.4,
             "#fde0ef"
            ],
            [
             0.5,
             "#f7f7f7"
            ],
            [
             0.6,
             "#e6f5d0"
            ],
            [
             0.7,
             "#b8e186"
            ],
            [
             0.8,
             "#7fbc41"
            ],
            [
             0.9,
             "#4d9221"
            ],
            [
             1,
             "#276419"
            ]
           ],
           "sequential": [
            [
             0,
             "#0d0887"
            ],
            [
             0.1111111111111111,
             "#46039f"
            ],
            [
             0.2222222222222222,
             "#7201a8"
            ],
            [
             0.3333333333333333,
             "#9c179e"
            ],
            [
             0.4444444444444444,
             "#bd3786"
            ],
            [
             0.5555555555555556,
             "#d8576b"
            ],
            [
             0.6666666666666666,
             "#ed7953"
            ],
            [
             0.7777777777777778,
             "#fb9f3a"
            ],
            [
             0.8888888888888888,
             "#fdca26"
            ],
            [
             1,
             "#f0f921"
            ]
           ],
           "sequentialminus": [
            [
             0,
             "#0d0887"
            ],
            [
             0.1111111111111111,
             "#46039f"
            ],
            [
             0.2222222222222222,
             "#7201a8"
            ],
            [
             0.3333333333333333,
             "#9c179e"
            ],
            [
             0.4444444444444444,
             "#bd3786"
            ],
            [
             0.5555555555555556,
             "#d8576b"
            ],
            [
             0.6666666666666666,
             "#ed7953"
            ],
            [
             0.7777777777777778,
             "#fb9f3a"
            ],
            [
             0.8888888888888888,
             "#fdca26"
            ],
            [
             1,
             "#f0f921"
            ]
           ]
          },
          "colorway": [
           "#636efa",
           "#EF553B",
           "#00cc96",
           "#ab63fa",
           "#FFA15A",
           "#19d3f3",
           "#FF6692",
           "#B6E880",
           "#FF97FF",
           "#FECB52"
          ],
          "font": {
           "color": "#f2f5fa"
          },
          "geo": {
           "bgcolor": "rgb(17,17,17)",
           "lakecolor": "rgb(17,17,17)",
           "landcolor": "rgb(17,17,17)",
           "showlakes": true,
           "showland": true,
           "subunitcolor": "#506784"
          },
          "hoverlabel": {
           "align": "left"
          },
          "hovermode": "closest",
          "mapbox": {
           "style": "dark"
          },
          "paper_bgcolor": "rgb(17,17,17)",
          "plot_bgcolor": "rgb(17,17,17)",
          "polar": {
           "angularaxis": {
            "gridcolor": "#506784",
            "linecolor": "#506784",
            "ticks": ""
           },
           "bgcolor": "rgb(17,17,17)",
           "radialaxis": {
            "gridcolor": "#506784",
            "linecolor": "#506784",
            "ticks": ""
           }
          },
          "scene": {
           "xaxis": {
            "backgroundcolor": "rgb(17,17,17)",
            "gridcolor": "#506784",
            "gridwidth": 2,
            "linecolor": "#506784",
            "showbackground": true,
            "ticks": "",
            "zerolinecolor": "#C8D4E3"
           },
           "yaxis": {
            "backgroundcolor": "rgb(17,17,17)",
            "gridcolor": "#506784",
            "gridwidth": 2,
            "linecolor": "#506784",
            "showbackground": true,
            "ticks": "",
            "zerolinecolor": "#C8D4E3"
           },
           "zaxis": {
            "backgroundcolor": "rgb(17,17,17)",
            "gridcolor": "#506784",
            "gridwidth": 2,
            "linecolor": "#506784",
            "showbackground": true,
            "ticks": "",
            "zerolinecolor": "#C8D4E3"
           }
          },
          "shapedefaults": {
           "line": {
            "color": "#f2f5fa"
           }
          },
          "sliderdefaults": {
           "bgcolor": "#C8D4E3",
           "bordercolor": "rgb(17,17,17)",
           "borderwidth": 1,
           "tickwidth": 0
          },
          "ternary": {
           "aaxis": {
            "gridcolor": "#506784",
            "linecolor": "#506784",
            "ticks": ""
           },
           "baxis": {
            "gridcolor": "#506784",
            "linecolor": "#506784",
            "ticks": ""
           },
           "bgcolor": "rgb(17,17,17)",
           "caxis": {
            "gridcolor": "#506784",
            "linecolor": "#506784",
            "ticks": ""
           }
          },
          "title": {
           "x": 0.05
          },
          "updatemenudefaults": {
           "bgcolor": "#506784",
           "borderwidth": 0
          },
          "xaxis": {
           "automargin": true,
           "gridcolor": "#283442",
           "linecolor": "#506784",
           "ticks": "",
           "title": {
            "standoff": 15
           },
           "zerolinecolor": "#283442",
           "zerolinewidth": 2
          },
          "yaxis": {
           "automargin": true,
           "gridcolor": "#283442",
           "linecolor": "#506784",
           "ticks": "",
           "title": {
            "standoff": 15
           },
           "zerolinecolor": "#283442",
           "zerolinewidth": 2
          }
         }
        },
        "title": {
         "text": "Efficient frontier"
        },
        "xaxis": {
         "anchor": "y",
         "domain": [
          0,
          1
         ],
         "title": {
          "text": "variance"
         }
        },
        "yaxis": {
         "anchor": "x",
         "domain": [
          0,
          1
         ],
         "title": {
          "text": "expected_returns"
         }
        }
       }
      }
     },
     "metadata": {},
     "output_type": "display_data"
    }
   ],
   "source": [
    "model.portfolio_frontier(model=\"fff5\")"
   ]
  },
  {
   "attachments": {},
   "cell_type": "markdown",
   "metadata": {},
   "source": [
    "The `fff3` is coming out to be very different."
   ]
  },
  {
   "attachments": {},
   "cell_type": "markdown",
   "metadata": {},
   "source": [
    "### Optimization (at last!)"
   ]
  },
  {
   "attachments": {},
   "cell_type": "markdown",
   "metadata": {},
   "source": [
    "Okay, let's optimize the following `Portfolio`:"
   ]
  },
  {
   "cell_type": "code",
   "execution_count": 39,
   "metadata": {},
   "outputs": [],
   "source": [
    "benchmark_dir = \"Data/GSPC.csv\"\n",
    "benchmark_name = \"S&P\"\n",
    "\n",
    "stock_dirs = [\"Data/AAPL.csv\", \"Data/MSFT.csv\", \"Data/GOOG.csv\", \"Data/TSLA.csv\"]\n",
    "stock_names = [\"AAPL\", \"MSFT\", \"GOOG\", \"TSLA\"]\n",
    "\n",
    "frequency = \"M\"\n",
    "pt = Portfolio(benchmark_dir, benchmark_name, stock_dirs, stock_names)\n",
    "start_date = \"2012-01-01\"\n",
    "end_date = \"2022-12-20\"\n",
    "pt.load_benchmark(\n",
    "    columns=[\"Adj Close\"],\n",
    "    rename_cols=[\"Close\"],\n",
    "    start_date=start_date,\n",
    "    end_date=end_date,\n",
    "    frequency=frequency,\n",
    ")\n",
    "pt.load_all(\n",
    "    columns=[\"Adj Close\"],\n",
    "    rename_cols=[\"Close\"],\n",
    "    start_date=start_date,\n",
    "    end_date=end_date,\n",
    "    frequency=frequency,\n",
    ")"
   ]
  },
  {
   "cell_type": "code",
   "execution_count": 40,
   "metadata": {},
   "outputs": [
    {
     "name": "stdout",
     "output_type": "stream",
     "text": [
      "Adding portfolio...\n",
      "Portfolio Summary\n",
      "*****************\n",
      "\n",
      "Portfolio with benchmark S&P and stocks ['AAPL', 'MSFT', 'GOOG', 'TSLA']\n",
      "Here are the summary of stocks in the portfolio\n",
      "+----+---------+-----------------------+----------------------+------------+----------+----------+\n",
      "|    | Stock   |   Monthly_Mean_Return |   Monthly_Return_STD |      Alpha |     Beta |   Weight |\n",
      "|----+---------+-----------------------+----------------------+------------+----------+----------|\n",
      "|  0 | AAPL    |             0.0216164 |            0.0813903 | 0.00979829 | 1.22897  |     0.25 |\n",
      "|  1 | MSFT    |             0.0202463 |            0.0607759 | 0.010973   | 0.964346 |     0.25 |\n",
      "|  2 | GOOG    |             0.0171436 |            0.0645638 | 0.00711404 | 1.04298  |     0.25 |\n",
      "|  3 | TSLA    |             0.0502608 |            0.182803  | 0.0336704  | 1.72526  |     0.25 |\n",
      "+----+---------+-----------------------+----------------------+------------+----------+----------+\n",
      "The covariance matrix is as follows\n",
      "+------+------------+------------+------------+------------+\n",
      "|      |       AAPL |       MSFT |       GOOG |       TSLA |\n",
      "|------+------------+------------+------------+------------|\n",
      "| AAPL | 0.00662438 | 0.00252134 | 0.00215109 | 0.00566592 |\n",
      "| MSFT | 0.00252134 | 0.00369371 | 0.00230756 | 0.00399494 |\n",
      "| GOOG | 0.00215109 | 0.00230756 | 0.00416849 | 0.00347788 |\n",
      "| TSLA | 0.00566592 | 0.00399494 | 0.00347788 | 0.033417   |\n",
      "+------+------------+------------+------------+------------+\n",
      "Portfolio Return: 0.02731678889316875\n",
      "Portfolio Volatility: 0.15603147059665842\n"
     ]
    }
   ],
   "source": [
    "model = Model()\n",
    "model.add_portfolio(pt, weights=\"equal\")"
   ]
  },
  {
   "cell_type": "code",
   "execution_count": 41,
   "metadata": {},
   "outputs": [
    {
     "name": "stdout",
     "output_type": "stream",
     "text": [
      "Done. Here are the parameters\n",
      "+-------------+-------------+-------------+------------+\n",
      "|        AAPL |        MSFT |        GOOG |       TSLA |\n",
      "|-------------+-------------+-------------+------------|\n",
      "|  0.00682682 |  0.00970946 |  0.00699103 |  0.0341999 |\n",
      "|  1.19736    |  0.994033   |  1.01023    |  1.87135   |\n",
      "| -0.249423   | -0.776582   | -0.572982   | -0.379263  |\n",
      "| -0.512566   |  0.0184882  |  0.199086   | -0.610234  |\n",
      "|  0.749702   | -0.103125   | -0.107732   | -1.45574   |\n",
      "| -0.201821   | -0.548657   | -0.867854   | -0.497976  |\n",
      "|  1          |  1          |  1          |  1         |\n",
      "+-------------+-------------+-------------+------------+\n"
     ]
    }
   ],
   "source": [
    "pt.calculate_fff_params(frequency=\"M\", factors=5, directory=\"Data\", verbose=0)"
   ]
  },
  {
   "attachments": {},
   "cell_type": "markdown",
   "metadata": {},
   "source": [
    "All set! All you need now is to call `optimize_portfolio` with `model`, `risk` and `can_short` parameter. You may call the `portfolio_info` first with default parameters. This will give you an idea about how much risk to consider."
   ]
  },
  {
   "cell_type": "code",
   "execution_count": 42,
   "metadata": {},
   "outputs": [
    {
     "data": {
      "text/plain": [
       "(1.112657603301926, 0.550881209951722, 0.742213722556867)"
      ]
     },
     "execution_count": 42,
     "metadata": {},
     "output_type": "execute_result"
    }
   ],
   "source": [
    "model.portfolio_info()"
   ]
  },
  {
   "attachments": {},
   "cell_type": "markdown",
   "metadata": {},
   "source": [
    "It seems that the variance of the `Portfolio` with \"equal\" `weights` is 0.551. Let's see what is the maximum return at that risk."
   ]
  },
  {
   "cell_type": "code",
   "execution_count": 47,
   "metadata": {},
   "outputs": [],
   "source": [
    "def get_return(risk, can_short):\n",
    "    models = [\"capm\", \"sim\", \"fff3\", \"fff5\"]\n",
    "    for m in models:\n",
    "        print(f\"Optimizing for -> {m.upper()}\")\n",
    "        _ = model.optimize_portfolio(m, risk=risk, can_short=can_short)\n",
    "        print()"
   ]
  },
  {
   "cell_type": "code",
   "execution_count": 48,
   "metadata": {},
   "outputs": [
    {
     "name": "stdout",
     "output_type": "stream",
     "text": [
      "Optimizing for -> CAPM\n",
      "Optimized successfully.\n",
      "Expected return: 1.1155%\n",
      "Variance: 0.5000%\n",
      "Expected weights:\n",
      "--------------------\n",
      "AAPL: 47.20%\n",
      "MSFT: 0.00%\n",
      "GOOG: 36.08%\n",
      "TSLA: 16.73%\n",
      "\n",
      "Optimizing for -> SIM\n",
      "Optimized successfully.\n",
      "Expected return: 1.1283%\n",
      "Variance: 0.5000%\n",
      "Expected weights:\n",
      "--------------------\n",
      "AAPL: 46.20%\n",
      "MSFT: 0.00%\n",
      "GOOG: 36.81%\n",
      "TSLA: 17.00%\n",
      "\n",
      "Optimizing for -> FFF3\n",
      "Optimized successfully.\n",
      "Expected return: 2.3360%\n",
      "Variance: 0.5000%\n",
      "Expected weights:\n",
      "--------------------\n",
      "AAPL: 0.00%\n",
      "MSFT: 53.08%\n",
      "GOOG: 23.86%\n",
      "TSLA: 23.06%\n",
      "\n",
      "Optimizing for -> FFF5\n",
      "Optimized successfully.\n",
      "Expected return: 2.0628%\n",
      "Variance: 0.5000%\n",
      "Expected weights:\n",
      "--------------------\n",
      "AAPL: 15.42%\n",
      "MSFT: 53.74%\n",
      "GOOG: 9.06%\n",
      "TSLA: 21.78%\n",
      "\n"
     ]
    }
   ],
   "source": [
    "risk = 0.5\n",
    "can_short = False\n",
    "get_return(risk, can_short)"
   ]
  },
  {
   "attachments": {},
   "cell_type": "markdown",
   "metadata": {},
   "source": [
    "So, FFF3 model gives the best return of 2.336% for the weights:\n",
    "\n",
    "    AAPL: 0.00%\n",
    "    MSFT: 53.08%\n",
    "    GOOG: 23.86%\n",
    "    TSLA: 23.06%"
   ]
  },
  {
   "attachments": {},
   "cell_type": "markdown",
   "metadata": {},
   "source": [
    "Let's allow shorting:"
   ]
  },
  {
   "cell_type": "code",
   "execution_count": 49,
   "metadata": {},
   "outputs": [
    {
     "name": "stdout",
     "output_type": "stream",
     "text": [
      "Optimizing for -> CAPM\n",
      "Optimized successfully.\n",
      "Expected return: 1.1165%\n",
      "Variance: 0.5001%\n",
      "Expected weights:\n",
      "--------------------\n",
      "AAPL: 48.81%\n",
      "MSFT: -8.60%\n",
      "GOOG: 44.26%\n",
      "TSLA: 15.53%\n",
      "\n",
      "Optimizing for -> SIM\n",
      "Optimized successfully.\n",
      "Expected return: 1.1288%\n",
      "Variance: 0.5001%\n",
      "Expected weights:\n",
      "--------------------\n",
      "AAPL: 47.40%\n",
      "MSFT: -5.97%\n",
      "GOOG: 42.38%\n",
      "TSLA: 16.19%\n",
      "\n",
      "Optimizing for -> FFF3\n",
      "Optimized successfully.\n",
      "Expected return: 2.3391%\n",
      "Variance: 0.5000%\n",
      "Expected weights:\n",
      "--------------------\n",
      "AAPL: -5.51%\n",
      "MSFT: 56.67%\n",
      "GOOG: 25.98%\n",
      "TSLA: 22.86%\n",
      "\n",
      "Optimizing for -> FFF5\n",
      "Optimized successfully.\n",
      "Expected return: 2.0628%\n",
      "Variance: 0.5000%\n",
      "Expected weights:\n",
      "--------------------\n",
      "AAPL: 15.42%\n",
      "MSFT: 53.74%\n",
      "GOOG: 9.06%\n",
      "TSLA: 21.78%\n",
      "\n"
     ]
    }
   ],
   "source": [
    "risk = 0.5\n",
    "can_short = True\n",
    "get_return(risk, can_short)"
   ]
  },
  {
   "attachments": {},
   "cell_type": "markdown",
   "metadata": {},
   "source": [
    "Very little increase in maximum return in observed (2.339%) for\n",
    "\n",
    "    AAPL: -5.51%\n",
    "    MSFT: 56.67%\n",
    "    GOOG: 25.98%\n",
    "    TSLA: 22.86%"
   ]
  },
  {
   "attachments": {},
   "cell_type": "markdown",
   "metadata": {},
   "source": [
    "Let's increase the risk to 1:"
   ]
  },
  {
   "cell_type": "code",
   "execution_count": 50,
   "metadata": {},
   "outputs": [
    {
     "name": "stdout",
     "output_type": "stream",
     "text": [
      "Optimizing for -> CAPM\n",
      "Optimized successfully.\n",
      "Expected return: 1.2233%\n",
      "Variance: 1.0000%\n",
      "Expected weights:\n",
      "--------------------\n",
      "AAPL: 62.21%\n",
      "MSFT: 0.00%\n",
      "GOOG: 0.00%\n",
      "TSLA: 37.79%\n",
      "\n",
      "Optimizing for -> SIM\n",
      "Optimized successfully.\n",
      "Expected return: 1.2421%\n",
      "Variance: 1.0001%\n",
      "Expected weights:\n",
      "--------------------\n",
      "AAPL: 61.20%\n",
      "MSFT: 0.00%\n",
      "GOOG: 0.74%\n",
      "TSLA: 38.06%\n",
      "\n",
      "Optimizing for -> FFF3\n",
      "Optimized successfully.\n",
      "Expected return: 3.0121%\n",
      "Variance: 1.0000%\n",
      "Expected weights:\n",
      "--------------------\n",
      "AAPL: 0.00%\n",
      "MSFT: 47.74%\n",
      "GOOG: 6.33%\n",
      "TSLA: 45.92%\n",
      "\n",
      "Optimizing for -> FFF5\n",
      "Optimized successfully.\n",
      "Expected return: 2.6580%\n",
      "Variance: 1.0000%\n",
      "Expected weights:\n",
      "--------------------\n",
      "AAPL: 10.72%\n",
      "MSFT: 44.08%\n",
      "GOOG: 0.00%\n",
      "TSLA: 45.20%\n",
      "\n"
     ]
    }
   ],
   "source": [
    "risk = 1\n",
    "can_short = False\n",
    "get_return(risk, can_short)"
   ]
  },
  {
   "attachments": {},
   "cell_type": "markdown",
   "metadata": {},
   "source": [
    "Maximum return is increased (at it should be). The new maximum return is 3.0121% for\n",
    "\n",
    "    AAPL: 0.00%\n",
    "    MSFT: 47.74%\n",
    "    GOOG: 6.33%\n",
    "    TSLA: 45.92%"
   ]
  },
  {
   "cell_type": "code",
   "execution_count": 51,
   "metadata": {},
   "outputs": [
    {
     "name": "stdout",
     "output_type": "stream",
     "text": [
      "Optimizing for -> CAPM\n",
      "Optimized successfully.\n",
      "Expected return: 1.2434%\n",
      "Variance: 1.0001%\n",
      "Expected weights:\n",
      "--------------------\n",
      "AAPL: 76.10%\n",
      "MSFT: -57.41%\n",
      "GOOG: 49.23%\n",
      "TSLA: 32.08%\n",
      "\n",
      "Optimizing for -> SIM\n",
      "Optimized successfully.\n",
      "Expected return: 1.2591%\n",
      "Variance: 0.9999%\n",
      "Expected weights:\n",
      "--------------------\n",
      "AAPL: 73.48%\n",
      "MSFT: -52.53%\n",
      "GOOG: 45.76%\n",
      "TSLA: 33.30%\n",
      "\n",
      "Optimizing for -> FFF3\n",
      "Optimized successfully.\n",
      "Expected return: 3.0453%\n",
      "Variance: 0.9999%\n",
      "Expected weights:\n",
      "--------------------\n",
      "AAPL: -24.65%\n",
      "MSFT: 63.64%\n",
      "GOOG: 15.33%\n",
      "TSLA: 45.68%\n",
      "\n",
      "Optimizing for -> FFF5\n",
      "Optimized successfully.\n",
      "Expected return: 2.6661%\n",
      "Variance: 1.0000%\n",
      "Expected weights:\n",
      "--------------------\n",
      "AAPL: 14.17%\n",
      "MSFT: 58.19%\n",
      "GOOG: -16.04%\n",
      "TSLA: 43.68%\n",
      "\n"
     ]
    }
   ],
   "source": [
    "risk = 1\n",
    "can_short = True\n",
    "get_return(risk, can_short)"
   ]
  },
  {
   "attachments": {},
   "cell_type": "markdown",
   "metadata": {},
   "source": [
    "Allowing for short does not have very large effect."
   ]
  },
  {
   "attachments": {},
   "cell_type": "markdown",
   "metadata": {},
   "source": [
    "At last, we'll consider a very small risk."
   ]
  },
  {
   "cell_type": "code",
   "execution_count": 52,
   "metadata": {},
   "outputs": [
    {
     "name": "stdout",
     "output_type": "stream",
     "text": [
      "Optimizing for -> CAPM\n",
      "Optimization failed. Positive directional derivative for linesearch\n",
      "Here are the last results:\n",
      "Expected return: 0.9828%\n",
      "Variance: 0.2992%\n",
      "Expected weights:\n",
      "--------------------\n",
      "AAPL: 14.90%\n",
      "MSFT: 47.07%\n",
      "GOOG: 38.03%\n",
      "TSLA: 0.00%\n",
      "\n",
      "Optimizing for -> SIM\n",
      "Optimization failed. Positive directional derivative for linesearch\n",
      "Here are the last results:\n",
      "Expected return: 0.9921%\n",
      "Variance: 0.2992%\n",
      "Expected weights:\n",
      "--------------------\n",
      "AAPL: 14.90%\n",
      "MSFT: 47.07%\n",
      "GOOG: 38.03%\n",
      "TSLA: 0.00%\n",
      "\n",
      "Optimizing for -> FFF3\n",
      "Optimization failed. Positive directional derivative for linesearch\n",
      "Here are the last results:\n",
      "Expected return: 1.6268%\n",
      "Variance: 0.2992%\n",
      "Expected weights:\n",
      "--------------------\n",
      "AAPL: 14.90%\n",
      "MSFT: 47.07%\n",
      "GOOG: 38.03%\n",
      "TSLA: 0.00%\n",
      "\n",
      "Optimizing for -> FFF5\n",
      "Optimization failed. Positive directional derivative for linesearch\n",
      "Here are the last results:\n",
      "Expected return: 1.4503%\n",
      "Variance: 0.2992%\n",
      "Expected weights:\n",
      "--------------------\n",
      "AAPL: 14.90%\n",
      "MSFT: 47.07%\n",
      "GOOG: 38.03%\n",
      "TSLA: 0.00%\n",
      "\n"
     ]
    }
   ],
   "source": [
    "risk = 0.1\n",
    "can_short = False\n",
    "get_return(risk, can_short)"
   ]
  },
  {
   "attachments": {},
   "cell_type": "markdown",
   "metadata": {},
   "source": [
    "The model can not optimize for this low risk. The best result is is:\n",
    "\n",
    "    Expected return: 1.6268%\n",
    "    Variance: 0.2992%\n",
    "    Expected weights:\n",
    "    AAPL: 14.90%\n",
    "    MSFT: 47.07%\n",
    "    GOOG: 38.03%\n",
    "    TSLA: 0.00%"
   ]
  }
 ],
 "metadata": {
  "kernelspec": {
   "display_name": "data-science",
   "language": "python",
   "name": "python3"
  },
  "language_info": {
   "codemirror_mode": {
    "name": "ipython",
    "version": 3
   },
   "file_extension": ".py",
   "mimetype": "text/x-python",
   "name": "python",
   "nbconvert_exporter": "python",
   "pygments_lexer": "ipython3",
   "version": "3.9.15 (main, Nov 24 2022, 14:31:59) \n[GCC 11.2.0]"
  },
  "orig_nbformat": 4,
  "vscode": {
   "interpreter": {
    "hash": "2efee1efa502125d01e6b4768ba06d9453d29f3642bfd14ad5d4a769de82e88c"
   }
  }
 },
 "nbformat": 4,
 "nbformat_minor": 2
}
